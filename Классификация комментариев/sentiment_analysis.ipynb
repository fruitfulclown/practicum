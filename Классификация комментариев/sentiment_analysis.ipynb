{
 "cells": [
  {
   "cell_type": "markdown",
   "metadata": {},
   "source": [
    "# Проект для «Викишоп»"
   ]
  },
  {
   "cell_type": "markdown",
   "metadata": {},
   "source": [
    "Интернет-магазин «Викишоп» запускает новый сервис. Теперь пользователи могут редактировать и дополнять описания товаров, как в вики-сообществах. То есть клиенты предлагают свои правки и комментируют изменения других. Магазину нужен инструмент, который будет искать токсичные комментарии и отправлять их на модерацию. \n",
    "\n",
    "Обучите модель классифицировать комментарии на позитивные и негативные. В вашем распоряжении набор данных с разметкой о токсичности правок.\n",
    "\n",
    "Постройте модель со значением метрики качества *F1* не меньше 0.75. \n",
    "\n",
    "**Инструкция по выполнению проекта**\n",
    "\n",
    "1. Загрузите и подготовьте данные.\n",
    "2. Обучите разные модели. \n",
    "3. Сделайте выводы.\n",
    "\n",
    "Для выполнения проекта применять *BERT* необязательно, но вы можете попробовать.\n",
    "\n",
    "**Описание данных**\n",
    "\n",
    "Данные находятся в файле `toxic_comments.csv`. Столбец *text* в нём содержит текст комментария, а *toxic* — целевой признак.\n",
    "\n",
    "**Содержание**\n",
    "- [Подготовка](#section1)\n",
    " - [Загрузка датасета](#section2)\n",
    " - [Небольшое заключение по датасету](#section3)\n",
    " - [Создание признаков](#section4)\n",
    " - [Вывод](#section5)\n",
    "- [Обучение](#section6)\n",
    "- [Выводы](#section7)\n",
    " "
   ]
  },
  {
   "cell_type": "markdown",
   "metadata": {},
   "source": [
    "<a id = 'section1'></a>\n",
    "## Подготовка"
   ]
  },
  {
   "cell_type": "code",
   "execution_count": 3,
   "metadata": {},
   "outputs": [],
   "source": [
    "import pandas as pd\n",
    "import numpy as np\n",
    "import re\n",
    "from pymystem3 import Mystem\n",
    "import nltk\n",
    "from nltk.corpus import stopwords as nltk_stopwords\n",
    "from sklearn.feature_extraction.text import TfidfVectorizer\n",
    "from sklearn.model_selection import train_test_split, cross_val_score, GridSearchCV, RandomizedSearchCV\n",
    "from sklearn.linear_model import LogisticRegression\n",
    "from sklearn.tree import DecisionTreeClassifier\n",
    "from catboost import CatBoostClassifier\n",
    "from sklearn.metrics import f1_score\n",
    "from sklearn.ensemble import RandomForestClassifier\n",
    "from sklearn.utils import shuffle"
   ]
  },
  {
   "cell_type": "markdown",
   "metadata": {},
   "source": [
    "<a id = 'section2'></a>\n",
    "### Загрузка датасета"
   ]
  },
  {
   "cell_type": "code",
   "execution_count": 16,
   "metadata": {},
   "outputs": [],
   "source": [
    "df = pd.read_csv('/datasets/toxic_comments.csv')"
   ]
  },
  {
   "cell_type": "code",
   "execution_count": 17,
   "metadata": {},
   "outputs": [
    {
     "name": "stdout",
     "output_type": "stream",
     "text": [
      "<class 'pandas.core.frame.DataFrame'>\n",
      "RangeIndex: 159571 entries, 0 to 159570\n",
      "Data columns (total 2 columns):\n",
      "text     159571 non-null object\n",
      "toxic    159571 non-null int64\n",
      "dtypes: int64(1), object(1)\n",
      "memory usage: 2.4+ MB\n"
     ]
    }
   ],
   "source": [
    "df.info()"
   ]
  },
  {
   "cell_type": "code",
   "execution_count": 18,
   "metadata": {
    "scrolled": true
   },
   "outputs": [
    {
     "data": {
      "text/html": [
       "<div>\n",
       "<style scoped>\n",
       "    .dataframe tbody tr th:only-of-type {\n",
       "        vertical-align: middle;\n",
       "    }\n",
       "\n",
       "    .dataframe tbody tr th {\n",
       "        vertical-align: top;\n",
       "    }\n",
       "\n",
       "    .dataframe thead th {\n",
       "        text-align: right;\n",
       "    }\n",
       "</style>\n",
       "<table border=\"1\" class=\"dataframe\">\n",
       "  <thead>\n",
       "    <tr style=\"text-align: right;\">\n",
       "      <th></th>\n",
       "      <th>text</th>\n",
       "      <th>toxic</th>\n",
       "    </tr>\n",
       "  </thead>\n",
       "  <tbody>\n",
       "    <tr>\n",
       "      <td>107495</td>\n",
       "      <td>\"\\nYou said that, not me ! ≈talk≈ \"</td>\n",
       "      <td>0</td>\n",
       "    </tr>\n",
       "    <tr>\n",
       "      <td>108959</td>\n",
       "      <td>Link \\nSomeone placed a link to the prior arti...</td>\n",
       "      <td>0</td>\n",
       "    </tr>\n",
       "    <tr>\n",
       "      <td>67571</td>\n",
       "      <td>Clearly you have personal issues with my polit...</td>\n",
       "      <td>0</td>\n",
       "    </tr>\n",
       "    <tr>\n",
       "      <td>57733</td>\n",
       "      <td>These messages keep getting censored by the no...</td>\n",
       "      <td>0</td>\n",
       "    </tr>\n",
       "    <tr>\n",
       "      <td>67051</td>\n",
       "      <td>Merry Christmas and Happy New Year!</td>\n",
       "      <td>0</td>\n",
       "    </tr>\n",
       "  </tbody>\n",
       "</table>\n",
       "</div>"
      ],
      "text/plain": [
       "                                                     text  toxic\n",
       "107495                \"\\nYou said that, not me ! ≈talk≈ \"      0\n",
       "108959  Link \\nSomeone placed a link to the prior arti...      0\n",
       "67571   Clearly you have personal issues with my polit...      0\n",
       "57733   These messages keep getting censored by the no...      0\n",
       "67051                 Merry Christmas and Happy New Year!      0"
      ]
     },
     "execution_count": 18,
     "metadata": {},
     "output_type": "execute_result"
    }
   ],
   "source": [
    "df.sample(5)"
   ]
  },
  {
   "cell_type": "code",
   "execution_count": 19,
   "metadata": {},
   "outputs": [
    {
     "data": {
      "text/plain": [
       "0.10167887648758234"
      ]
     },
     "execution_count": 19,
     "metadata": {},
     "output_type": "execute_result"
    }
   ],
   "source": [
    "df['toxic'].mean()"
   ]
  },
  {
   "cell_type": "code",
   "execution_count": 20,
   "metadata": {},
   "outputs": [
    {
     "data": {
      "text/plain": [
       "0    143346\n",
       "1     16225\n",
       "Name: toxic, dtype: int64"
      ]
     },
     "execution_count": 20,
     "metadata": {},
     "output_type": "execute_result"
    }
   ],
   "source": [
    "df['toxic'].value_counts()"
   ]
  },
  {
   "cell_type": "code",
   "execution_count": 21,
   "metadata": {},
   "outputs": [
    {
     "data": {
      "text/plain": [
       "0    143346\n",
       "1     16225\n",
       "Name: toxic, dtype: int64"
      ]
     },
     "execution_count": 21,
     "metadata": {},
     "output_type": "execute_result"
    }
   ],
   "source": [
    "df['toxic'].value_counts()"
   ]
  },
  {
   "cell_type": "code",
   "execution_count": 22,
   "metadata": {},
   "outputs": [
    {
     "data": {
      "text/plain": [
       "8.834884437596301"
      ]
     },
     "execution_count": 22,
     "metadata": {},
     "output_type": "execute_result"
    }
   ],
   "source": [
    "class_ratio = df['toxic'].value_counts()[0] / df['toxic'].value_counts()[1]\n",
    "class_ratio"
   ]
  },
  {
   "cell_type": "markdown",
   "metadata": {},
   "source": [
    "Классы несбалансированы. Отношение 1:8.83."
   ]
  },
  {
   "cell_type": "markdown",
   "metadata": {},
   "source": [
    "<a id = 'section3'></a>\n",
    "### Небольшое заключение по датасету\n",
    "\n",
    "Пропущенные значения отсутсвуют, представленные комментарии содержат английский разговорный язык. Наблюдается дисбаланс классов, токсичных комментариев явно меньше, чем позитивных и составляют лишь 10% всей выборки. Для того чтобы достичь искомого уровня искомой метрики (метрики качества *F1* должна быть не меньше 0.75) попробуем построить модели без учета дисбаланса, затем с учетом и выбрать уже лучшие модели.\n",
    "\n",
    "В моделях с учетом дисбаланса применим:\n",
    "- Upsampling\n",
    "- Изменим веса в моделях обучения"
   ]
  },
  {
   "cell_type": "markdown",
   "metadata": {},
   "source": [
    "Столкнулся с проблемой, что на серверах Яндекса постоянно умирал Kernel и не возможно было закончить проект, поэтому выполнял проект локально. На локальном компьютере установлен виндоус и не возможно было выполнить леммитизацию, так как насколько я понял она работает лишь на Lunix хорошо. Поэтому на серверах Яндекса провел леммитизацию и выгрузил датасет, с ним уже работал на локальном компе. Ссылка на мой ONEDRIVE https://1drv.ms/u/s!AuAtVzzlUFeVgc4ptFqqpcE-x_ns-w?e=T5z1ND Леммитизация комментариев ниже работает, но лишь на серверах Яндекса (код перевел в markdown)"
   ]
  },
  {
   "cell_type": "code",
   "execution_count": 23,
   "metadata": {},
   "outputs": [
    {
     "name": "stdout",
     "output_type": "stream",
     "text": [
      "CPU times: user 39.2 s, sys: 8.12 s, total: 47.3 s\n",
      "Wall time: 1min 40s\n"
     ]
    }
   ],
   "source": [
    "%%time\n",
    "\n",
    "m = Mystem()\n",
    "\n",
    "def lemmatize(text):\n",
    "    text = text.lower()\n",
    "    cleared_text = re.sub(r'[^a-zA-Z]', ' ', text)\n",
    "    lemm_text = \"\".join(m.lemmatize(text))\n",
    "     \n",
    "    return \" \".join(lemm_text.split())\n",
    "\n",
    "df['lemm_text'] = df['text'].apply(lemmatize)\n",
    "\n",
    "del m"
   ]
  },
  {
   "cell_type": "code",
   "execution_count": 24,
   "metadata": {},
   "outputs": [
    {
     "data": {
      "text/html": [
       "<div>\n",
       "<style scoped>\n",
       "    .dataframe tbody tr th:only-of-type {\n",
       "        vertical-align: middle;\n",
       "    }\n",
       "\n",
       "    .dataframe tbody tr th {\n",
       "        vertical-align: top;\n",
       "    }\n",
       "\n",
       "    .dataframe thead th {\n",
       "        text-align: right;\n",
       "    }\n",
       "</style>\n",
       "<table border=\"1\" class=\"dataframe\">\n",
       "  <thead>\n",
       "    <tr style=\"text-align: right;\">\n",
       "      <th></th>\n",
       "      <th>text</th>\n",
       "      <th>toxic</th>\n",
       "      <th>lemm_text</th>\n",
       "    </tr>\n",
       "  </thead>\n",
       "  <tbody>\n",
       "    <tr>\n",
       "      <td>0</td>\n",
       "      <td>Explanation\\nWhy the edits made under my usern...</td>\n",
       "      <td>0</td>\n",
       "      <td>explanation why the edits made under my userna...</td>\n",
       "    </tr>\n",
       "    <tr>\n",
       "      <td>1</td>\n",
       "      <td>D'aww! He matches this background colour I'm s...</td>\n",
       "      <td>0</td>\n",
       "      <td>d'aww! he matches this background colour i'm s...</td>\n",
       "    </tr>\n",
       "    <tr>\n",
       "      <td>2</td>\n",
       "      <td>Hey man, I'm really not trying to edit war. It...</td>\n",
       "      <td>0</td>\n",
       "      <td>hey man, i'm really not trying to edit war. it...</td>\n",
       "    </tr>\n",
       "    <tr>\n",
       "      <td>3</td>\n",
       "      <td>\"\\nMore\\nI can't make any real suggestions on ...</td>\n",
       "      <td>0</td>\n",
       "      <td>\" more i can't make any real suggestions on im...</td>\n",
       "    </tr>\n",
       "    <tr>\n",
       "      <td>4</td>\n",
       "      <td>You, sir, are my hero. Any chance you remember...</td>\n",
       "      <td>0</td>\n",
       "      <td>you, sir, are my hero. any chance you remember...</td>\n",
       "    </tr>\n",
       "    <tr>\n",
       "      <td>...</td>\n",
       "      <td>...</td>\n",
       "      <td>...</td>\n",
       "      <td>...</td>\n",
       "    </tr>\n",
       "    <tr>\n",
       "      <td>159566</td>\n",
       "      <td>\":::::And for the second time of asking, when ...</td>\n",
       "      <td>0</td>\n",
       "      <td>\":::::and for the second time of asking, when ...</td>\n",
       "    </tr>\n",
       "    <tr>\n",
       "      <td>159567</td>\n",
       "      <td>You should be ashamed of yourself \\n\\nThat is ...</td>\n",
       "      <td>0</td>\n",
       "      <td>you should be ashamed of yourself that is a ho...</td>\n",
       "    </tr>\n",
       "    <tr>\n",
       "      <td>159568</td>\n",
       "      <td>Spitzer \\n\\nUmm, theres no actual article for ...</td>\n",
       "      <td>0</td>\n",
       "      <td>spitzer umm, theres no actual article for pros...</td>\n",
       "    </tr>\n",
       "    <tr>\n",
       "      <td>159569</td>\n",
       "      <td>And it looks like it was actually you who put ...</td>\n",
       "      <td>0</td>\n",
       "      <td>and it looks like it was actually you who put ...</td>\n",
       "    </tr>\n",
       "    <tr>\n",
       "      <td>159570</td>\n",
       "      <td>\"\\nAnd ... I really don't think you understand...</td>\n",
       "      <td>0</td>\n",
       "      <td>\" and ... i really don't think you understand....</td>\n",
       "    </tr>\n",
       "  </tbody>\n",
       "</table>\n",
       "<p>159571 rows × 3 columns</p>\n",
       "</div>"
      ],
      "text/plain": [
       "                                                     text  toxic  \\\n",
       "0       Explanation\\nWhy the edits made under my usern...      0   \n",
       "1       D'aww! He matches this background colour I'm s...      0   \n",
       "2       Hey man, I'm really not trying to edit war. It...      0   \n",
       "3       \"\\nMore\\nI can't make any real suggestions on ...      0   \n",
       "4       You, sir, are my hero. Any chance you remember...      0   \n",
       "...                                                   ...    ...   \n",
       "159566  \":::::And for the second time of asking, when ...      0   \n",
       "159567  You should be ashamed of yourself \\n\\nThat is ...      0   \n",
       "159568  Spitzer \\n\\nUmm, theres no actual article for ...      0   \n",
       "159569  And it looks like it was actually you who put ...      0   \n",
       "159570  \"\\nAnd ... I really don't think you understand...      0   \n",
       "\n",
       "                                                lemm_text  \n",
       "0       explanation why the edits made under my userna...  \n",
       "1       d'aww! he matches this background colour i'm s...  \n",
       "2       hey man, i'm really not trying to edit war. it...  \n",
       "3       \" more i can't make any real suggestions on im...  \n",
       "4       you, sir, are my hero. any chance you remember...  \n",
       "...                                                   ...  \n",
       "159566  \":::::and for the second time of asking, when ...  \n",
       "159567  you should be ashamed of yourself that is a ho...  \n",
       "159568  spitzer umm, theres no actual article for pros...  \n",
       "159569  and it looks like it was actually you who put ...  \n",
       "159570  \" and ... i really don't think you understand....  \n",
       "\n",
       "[159571 rows x 3 columns]"
      ]
     },
     "execution_count": 24,
     "metadata": {},
     "output_type": "execute_result"
    }
   ],
   "source": [
    "df"
   ]
  },
  {
   "cell_type": "code",
   "execution_count": 9,
   "metadata": {},
   "outputs": [],
   "source": [
    "df = pd.read_csv(r'C:\\Users\\thund\\OneDrive\\Рабочий стол\\DS\\яндекс\\data.csv')"
   ]
  },
  {
   "cell_type": "code",
   "execution_count": 10,
   "metadata": {
    "scrolled": false
   },
   "outputs": [
    {
     "data": {
      "text/html": [
       "<div>\n",
       "<style scoped>\n",
       "    .dataframe tbody tr th:only-of-type {\n",
       "        vertical-align: middle;\n",
       "    }\n",
       "\n",
       "    .dataframe tbody tr th {\n",
       "        vertical-align: top;\n",
       "    }\n",
       "\n",
       "    .dataframe thead th {\n",
       "        text-align: right;\n",
       "    }\n",
       "</style>\n",
       "<table border=\"1\" class=\"dataframe\">\n",
       "  <thead>\n",
       "    <tr style=\"text-align: right;\">\n",
       "      <th></th>\n",
       "      <th>toxic</th>\n",
       "      <th>lemm_text</th>\n",
       "    </tr>\n",
       "  </thead>\n",
       "  <tbody>\n",
       "    <tr>\n",
       "      <th>156663</th>\n",
       "      <td>0</td>\n",
       "      <td>and perpetuating beliefs of those that just do...</td>\n",
       "    </tr>\n",
       "    <tr>\n",
       "      <th>7414</th>\n",
       "      <td>0</td>\n",
       "      <td>you dodged my request for libel about me to be...</td>\n",
       "    </tr>\n",
       "    <tr>\n",
       "      <th>26790</th>\n",
       "      <td>1</td>\n",
       "      <td>stop removing my edits why do you insist on be...</td>\n",
       "    </tr>\n",
       "    <tr>\n",
       "      <th>35290</th>\n",
       "      <td>0</td>\n",
       "      <td>thanks to sasquatch for blocking this ip</td>\n",
       "    </tr>\n",
       "    <tr>\n",
       "      <th>33960</th>\n",
       "      <td>0</td>\n",
       "      <td>please do not add nonsense to wikipedia it is ...</td>\n",
       "    </tr>\n",
       "  </tbody>\n",
       "</table>\n",
       "</div>"
      ],
      "text/plain": [
       "        toxic                                          lemm_text\n",
       "156663      0  and perpetuating beliefs of those that just do...\n",
       "7414        0  you dodged my request for libel about me to be...\n",
       "26790       1  stop removing my edits why do you insist on be...\n",
       "35290       0           thanks to sasquatch for blocking this ip\n",
       "33960       0  please do not add nonsense to wikipedia it is ..."
      ]
     },
     "execution_count": 10,
     "metadata": {},
     "output_type": "execute_result"
    }
   ],
   "source": [
    "df.sample(5)"
   ]
  },
  {
   "cell_type": "markdown",
   "metadata": {},
   "source": [
    "<a id = 'section4'></a>\n",
    "### Создание признаков\n",
    "\n",
    "Выделим признаки и целевой признак. Разделим на тестовую и трейн выборки в соотношение 25% и 75% соответственно, применим стратификацию. "
   ]
  },
  {
   "cell_type": "code",
   "execution_count": 25,
   "metadata": {},
   "outputs": [],
   "source": [
    "x = df['lemm_text']\n",
    "y = df['toxic']"
   ]
  },
  {
   "cell_type": "code",
   "execution_count": 26,
   "metadata": {},
   "outputs": [],
   "source": [
    "x_train, x_test, y_train, y_test = train_test_split(\n",
    "    x, y, test_size = 0.25, stratify = y, random_state = 42)"
   ]
  },
  {
   "cell_type": "code",
   "execution_count": 27,
   "metadata": {},
   "outputs": [
    {
     "data": {
      "text/plain": [
       "0.10168117782716957"
      ]
     },
     "execution_count": 27,
     "metadata": {},
     "output_type": "execute_result"
    }
   ],
   "source": [
    "y_train.mean()"
   ]
  },
  {
   "cell_type": "code",
   "execution_count": 28,
   "metadata": {},
   "outputs": [
    {
     "data": {
      "text/plain": [
       "0.1016719725265084"
      ]
     },
     "execution_count": 28,
     "metadata": {},
     "output_type": "execute_result"
    }
   ],
   "source": [
    "y_test.mean()"
   ]
  },
  {
   "cell_type": "markdown",
   "metadata": {},
   "source": [
    "Подготовим наши корпуса текстов. Вычислим TF-IDF для корпуса текстов, предварительно очистив от стоп-слов."
   ]
  },
  {
   "cell_type": "code",
   "execution_count": 29,
   "metadata": {
    "scrolled": true
   },
   "outputs": [],
   "source": [
    "corpus_x_train = x_train.values"
   ]
  },
  {
   "cell_type": "code",
   "execution_count": 30,
   "metadata": {},
   "outputs": [],
   "source": [
    "corpus_x_test =x_test.values"
   ]
  },
  {
   "cell_type": "code",
   "execution_count": 31,
   "metadata": {},
   "outputs": [
    {
     "name": "stderr",
     "output_type": "stream",
     "text": [
      "[nltk_data] Downloading package stopwords to /home/jovyan/nltk_data...\n",
      "[nltk_data]   Package stopwords is already up-to-date!\n"
     ]
    }
   ],
   "source": [
    "nltk.download('stopwords')\n",
    "stopwords = set(nltk_stopwords.words('english'))"
   ]
  },
  {
   "cell_type": "code",
   "execution_count": 32,
   "metadata": {},
   "outputs": [],
   "source": [
    "count_tf_idf = TfidfVectorizer(stop_words=stopwords)"
   ]
  },
  {
   "cell_type": "code",
   "execution_count": 33,
   "metadata": {},
   "outputs": [],
   "source": [
    "x_train = count_tf_idf.fit_transform(corpus_x_train)"
   ]
  },
  {
   "cell_type": "code",
   "execution_count": 34,
   "metadata": {},
   "outputs": [],
   "source": [
    "x_test = count_tf_idf.transform(corpus_x_test)"
   ]
  },
  {
   "cell_type": "code",
   "execution_count": 35,
   "metadata": {},
   "outputs": [
    {
     "data": {
      "text/plain": [
       "(119678, 160737)"
      ]
     },
     "execution_count": 35,
     "metadata": {},
     "output_type": "execute_result"
    }
   ],
   "source": [
    "x_train.shape"
   ]
  },
  {
   "cell_type": "code",
   "execution_count": 36,
   "metadata": {
    "scrolled": true
   },
   "outputs": [
    {
     "data": {
      "text/plain": [
       "(39893, 160737)"
      ]
     },
     "execution_count": 36,
     "metadata": {},
     "output_type": "execute_result"
    }
   ],
   "source": [
    "x_test.shape"
   ]
  },
  {
   "cell_type": "markdown",
   "metadata": {},
   "source": [
    "<a id = 'section5'></a>\n",
    "### Вывод\n",
    "\n",
    "- Комментарии лемматизированы\n",
    "- Подготовлены признаки для обучения\n",
    "- Описан план действий по борьбе с дисбалансом класса целевого признака\n"
   ]
  },
  {
   "cell_type": "markdown",
   "metadata": {},
   "source": [
    "<a id = 'section6'></a>\n",
    "## Обучение\n",
    "\n",
    "Обучим 4 модели без учета дисбаланс класса:\n",
    "- LogisticRegression\n",
    "- DecisionTreeClassifier\n",
    "- CatBoostClassifier\n",
    "- RandomForestClassifier"
   ]
  },
  {
   "cell_type": "markdown",
   "metadata": {},
   "source": [
    "### Обучение моделей без учета дисбаланса класса\n",
    "\n",
    "К каждой моделе подобраны гиперпараметры по сетке GridSearchCV, затем обучены на кросс валидации, целевая метрика F1 score"
   ]
  },
  {
   "cell_type": "markdown",
   "metadata": {},
   "source": [
    "#### LogisticRegression"
   ]
  },
  {
   "cell_type": "code",
   "execution_count": 37,
   "metadata": {},
   "outputs": [],
   "source": [
    "Logreg = LogisticRegression(random_state = 42)"
   ]
  },
  {
   "cell_type": "code",
   "execution_count": 38,
   "metadata": {},
   "outputs": [],
   "source": [
    "logreg_grid = {'C': np.arange(1.0, 100.0, .1),\n",
    "               'solver':['newton-cg','liblinear'],\n",
    "               'class_weight': [None, 'balanced'],\n",
    "              }"
   ]
  },
  {
   "cell_type": "code",
   "execution_count": 39,
   "metadata": {},
   "outputs": [],
   "source": [
    "gs_logreg = GridSearchCV(Logreg, param_grid=logreg_grid, cv =3, scoring = 'f1')"
   ]
  },
  {
   "cell_type": "code",
   "execution_count": null,
   "metadata": {},
   "outputs": [],
   "source": [
    "%%time\n",
    "\n",
    "gs_logreg.fit(x_train, y_train)"
   ]
  },
  {
   "cell_type": "code",
   "execution_count": 27,
   "metadata": {},
   "outputs": [
    {
     "data": {
      "text/plain": [
       "{'class_weight': 'balanced', 'solver': 'newton-cg'}"
      ]
     },
     "execution_count": 27,
     "metadata": {},
     "output_type": "execute_result"
    }
   ],
   "source": [
    "logreg_best_params = gs_logreg.best_params_\n",
    "logreg_best_params"
   ]
  },
  {
   "cell_type": "code",
   "execution_count": 28,
   "metadata": {},
   "outputs": [
    {
     "data": {
      "text/plain": [
       "LogisticRegression(class_weight='balanced', random_state=42, solver='newton-cg')"
      ]
     },
     "execution_count": 28,
     "metadata": {},
     "output_type": "execute_result"
    }
   ],
   "source": [
    "Logreg = LogisticRegression(random_state = 42)\n",
    "Logreg.set_params(**logreg_best_params)"
   ]
  },
  {
   "cell_type": "code",
   "execution_count": 29,
   "metadata": {},
   "outputs": [
    {
     "name": "stdout",
     "output_type": "stream",
     "text": [
      "Показатель f1_score в LogisticRegression на train выборке 0.7495763720303711\n"
     ]
    }
   ],
   "source": [
    "logreg_f1_train = cross_val_score(Logreg, x_train, y_train, cv = 3, scoring='f1').mean()\n",
    "print(f'Показатель f1_score в LogisticRegression на train выборке {logreg_f1_train}')"
   ]
  },
  {
   "cell_type": "markdown",
   "metadata": {},
   "source": [
    "#### DecisionTreeClassifier"
   ]
  },
  {
   "cell_type": "code",
   "execution_count": 30,
   "metadata": {},
   "outputs": [],
   "source": [
    "DecTree = DecisionTreeClassifier(random_state=42) "
   ]
  },
  {
   "cell_type": "code",
   "execution_count": 31,
   "metadata": {},
   "outputs": [],
   "source": [
    "DecTree_grid= {'max_depth':np.arange(1,31,5),\n",
    "               'class_weight': [None, 'balanced'],\n",
    "               'criterion':['gini', 'entropy'],\n",
    "              }"
   ]
  },
  {
   "cell_type": "code",
   "execution_count": 32,
   "metadata": {},
   "outputs": [],
   "source": [
    "gs_DecTree = GridSearchCV(DecTree, DecTree_grid, cv = 3, scoring = 'f1', verbose = 10)"
   ]
  },
  {
   "cell_type": "markdown",
   "metadata": {},
   "source": [
    "%%time\n",
    "\n",
    "gs_DecTree.fit(x_train, y_train)"
   ]
  },
  {
   "cell_type": "code",
   "execution_count": 33,
   "metadata": {
    "scrolled": true
   },
   "outputs": [
    {
     "data": {
      "text/plain": [
       "{'class_weight': None, 'criterion': 'gini', 'max_depth': 26}"
      ]
     },
     "execution_count": 33,
     "metadata": {},
     "output_type": "execute_result"
    }
   ],
   "source": [
    "DecTree_best_params = {'class_weight': None, 'criterion': 'gini', 'max_depth': 26}\n",
    "DecTree_best_params"
   ]
  },
  {
   "cell_type": "code",
   "execution_count": 34,
   "metadata": {},
   "outputs": [
    {
     "data": {
      "text/plain": [
       "DecisionTreeClassifier(max_depth=26, random_state=42)"
      ]
     },
     "execution_count": 34,
     "metadata": {},
     "output_type": "execute_result"
    }
   ],
   "source": [
    "DecTree = DecisionTreeClassifier(random_state=42)\n",
    "DecTree.set_params(**DecTree_best_params)"
   ]
  },
  {
   "cell_type": "code",
   "execution_count": 35,
   "metadata": {},
   "outputs": [
    {
     "name": "stdout",
     "output_type": "stream",
     "text": [
      "Показатель f1_score в DecisionTreeClassifier на train выборке 0.6595829568748616\n"
     ]
    }
   ],
   "source": [
    "DecTree_f1_train = cross_val_score(DecTree, x_train, y_train, cv = 3, scoring='f1').mean()\n",
    "print(f'Показатель f1_score в DecisionTreeClassifier на train выборке {DecTree_f1_train}')"
   ]
  },
  {
   "cell_type": "markdown",
   "metadata": {},
   "source": [
    "#### RandomForestClassifier"
   ]
  },
  {
   "cell_type": "code",
   "execution_count": 36,
   "metadata": {},
   "outputs": [],
   "source": [
    "RandomForest = RandomForestClassifier(random_state=42)"
   ]
  },
  {
   "cell_type": "code",
   "execution_count": 37,
   "metadata": {},
   "outputs": [],
   "source": [
    "RandomForest_grid = {'n_estimators':np.arange(1,31, 5),\n",
    "                     'max_depth':np.arange(1,31, 5),\n",
    "                     'class_weight': [None, 'balanced'],\n",
    "                     'criterion':['gini', 'entropy']\n",
    "                    }"
   ]
  },
  {
   "cell_type": "code",
   "execution_count": 38,
   "metadata": {},
   "outputs": [],
   "source": [
    "gs_RandomForest = GridSearchCV(RandomForest, RandomForest_grid, cv = 3, \n",
    "                               scoring = 'f1', verbose = 20)"
   ]
  },
  {
   "cell_type": "markdown",
   "metadata": {},
   "source": [
    "%%time\n",
    "\n",
    "gs_RandomForest.fit(x_train, y_train)"
   ]
  },
  {
   "cell_type": "code",
   "execution_count": 39,
   "metadata": {
    "scrolled": true
   },
   "outputs": [
    {
     "data": {
      "text/plain": [
       "{'class_weight': 'balanced',\n",
       " 'criterion': 'gini',\n",
       " 'max_depth': 26,\n",
       " 'n_estimators': 26}"
      ]
     },
     "execution_count": 39,
     "metadata": {},
     "output_type": "execute_result"
    }
   ],
   "source": [
    "RandomForest_best_params = {'class_weight': 'balanced', 'criterion': 'gini', 'max_depth': 26, 'n_estimators': 26}\n",
    "RandomForest_best_params"
   ]
  },
  {
   "cell_type": "code",
   "execution_count": 40,
   "metadata": {},
   "outputs": [
    {
     "data": {
      "text/plain": [
       "RandomForestClassifier(class_weight='balanced', max_depth=26, n_estimators=26,\n",
       "                       random_state=42)"
      ]
     },
     "execution_count": 40,
     "metadata": {},
     "output_type": "execute_result"
    }
   ],
   "source": [
    "RandomForest = RandomForestClassifier(random_state=42)\n",
    "RandomForest.set_params(**RandomForest_best_params)"
   ]
  },
  {
   "cell_type": "code",
   "execution_count": 41,
   "metadata": {
    "scrolled": true
   },
   "outputs": [
    {
     "name": "stdout",
     "output_type": "stream",
     "text": [
      "Показатель f1_score в RandomForestClassifier на train выборке 0.41928586842614995\n"
     ]
    }
   ],
   "source": [
    "RandomForest_f1_train = cross_val_score(RandomForest, x_train, y_train, cv = 3, scoring='f1').mean()\n",
    "print(f'Показатель f1_score в RandomForestClassifier на train выборке {RandomForest_f1_train}')"
   ]
  },
  {
   "cell_type": "markdown",
   "metadata": {},
   "source": [
    "#### CatBoostClassifier"
   ]
  },
  {
   "cell_type": "code",
   "execution_count": 42,
   "metadata": {},
   "outputs": [],
   "source": [
    "catboost_model = CatBoostClassifier(random_state = 42, verbose = 20)"
   ]
  },
  {
   "cell_type": "code",
   "execution_count": 44,
   "metadata": {
    "scrolled": true
   },
   "outputs": [
    {
     "name": "stdout",
     "output_type": "stream",
     "text": [
      "Learning rate set to 0.066843\n",
      "0:\tlearn: 0.6239303\ttotal: 1.4s\tremaining: 23m 18s\n",
      "20:\tlearn: 0.2503416\ttotal: 27.5s\tremaining: 21m 23s\n",
      "40:\tlearn: 0.2166752\ttotal: 53.6s\tremaining: 20m 53s\n",
      "60:\tlearn: 0.2013085\ttotal: 1m 19s\tremaining: 20m 24s\n",
      "80:\tlearn: 0.1918484\ttotal: 1m 45s\tremaining: 19m 57s\n",
      "100:\tlearn: 0.1842798\ttotal: 2m 11s\tremaining: 19m 30s\n",
      "120:\tlearn: 0.1782587\ttotal: 2m 38s\tremaining: 19m 9s\n",
      "140:\tlearn: 0.1726844\ttotal: 3m 3s\tremaining: 18m 37s\n",
      "160:\tlearn: 0.1682544\ttotal: 3m 32s\tremaining: 18m 26s\n",
      "180:\tlearn: 0.1645008\ttotal: 3m 59s\tremaining: 18m 2s\n",
      "200:\tlearn: 0.1606302\ttotal: 4m 26s\tremaining: 17m 39s\n",
      "220:\tlearn: 0.1573103\ttotal: 4m 55s\tremaining: 17m 22s\n",
      "240:\tlearn: 0.1541688\ttotal: 5m 30s\tremaining: 17m 19s\n",
      "260:\tlearn: 0.1512340\ttotal: 6m 1s\tremaining: 17m 2s\n",
      "280:\tlearn: 0.1488709\ttotal: 6m 32s\tremaining: 16m 44s\n",
      "300:\tlearn: 0.1464044\ttotal: 7m 2s\tremaining: 16m 21s\n",
      "320:\tlearn: 0.1441915\ttotal: 7m 32s\tremaining: 15m 57s\n",
      "340:\tlearn: 0.1422495\ttotal: 8m 2s\tremaining: 15m 32s\n",
      "360:\tlearn: 0.1407109\ttotal: 8m 32s\tremaining: 15m 6s\n",
      "380:\tlearn: 0.1390526\ttotal: 9m 2s\tremaining: 14m 42s\n",
      "400:\tlearn: 0.1374049\ttotal: 9m 32s\tremaining: 14m 15s\n",
      "420:\tlearn: 0.1358452\ttotal: 10m 2s\tremaining: 13m 48s\n",
      "440:\tlearn: 0.1341951\ttotal: 10m 32s\tremaining: 13m 21s\n",
      "460:\tlearn: 0.1328504\ttotal: 11m\tremaining: 12m 52s\n",
      "480:\tlearn: 0.1314493\ttotal: 11m 30s\tremaining: 12m 24s\n",
      "500:\tlearn: 0.1302689\ttotal: 11m 59s\tremaining: 11m 56s\n",
      "520:\tlearn: 0.1291160\ttotal: 12m 29s\tremaining: 11m 29s\n",
      "540:\tlearn: 0.1280986\ttotal: 12m 57s\tremaining: 10m 59s\n",
      "560:\tlearn: 0.1271968\ttotal: 13m 22s\tremaining: 10m 27s\n",
      "580:\tlearn: 0.1260817\ttotal: 13m 47s\tremaining: 9m 56s\n",
      "600:\tlearn: 0.1250915\ttotal: 14m 14s\tremaining: 9m 27s\n",
      "620:\tlearn: 0.1240416\ttotal: 14m 43s\tremaining: 8m 59s\n",
      "640:\tlearn: 0.1231578\ttotal: 15m 12s\tremaining: 8m 31s\n",
      "660:\tlearn: 0.1222700\ttotal: 15m 41s\tremaining: 8m 2s\n",
      "680:\tlearn: 0.1213331\ttotal: 16m 10s\tremaining: 7m 34s\n",
      "700:\tlearn: 0.1204650\ttotal: 16m 42s\tremaining: 7m 7s\n",
      "720:\tlearn: 0.1196860\ttotal: 17m 10s\tremaining: 6m 38s\n",
      "740:\tlearn: 0.1188161\ttotal: 17m 39s\tremaining: 6m 10s\n",
      "760:\tlearn: 0.1179643\ttotal: 18m 9s\tremaining: 5m 42s\n",
      "780:\tlearn: 0.1169911\ttotal: 18m 37s\tremaining: 5m 13s\n",
      "800:\tlearn: 0.1161367\ttotal: 19m 9s\tremaining: 4m 45s\n",
      "820:\tlearn: 0.1153954\ttotal: 19m 38s\tremaining: 4m 16s\n",
      "840:\tlearn: 0.1145840\ttotal: 20m 8s\tremaining: 3m 48s\n",
      "860:\tlearn: 0.1137382\ttotal: 20m 38s\tremaining: 3m 19s\n",
      "880:\tlearn: 0.1128377\ttotal: 21m 7s\tremaining: 2m 51s\n",
      "900:\tlearn: 0.1120573\ttotal: 21m 37s\tremaining: 2m 22s\n",
      "920:\tlearn: 0.1112061\ttotal: 22m 7s\tremaining: 1m 53s\n",
      "940:\tlearn: 0.1104940\ttotal: 22m 36s\tremaining: 1m 25s\n",
      "960:\tlearn: 0.1097429\ttotal: 23m 5s\tremaining: 56.2s\n",
      "980:\tlearn: 0.1090790\ttotal: 23m 33s\tremaining: 27.4s\n",
      "999:\tlearn: 0.1083625\ttotal: 24m 1s\tremaining: 0us\n",
      "Learning rate set to 0.066843\n",
      "0:\tlearn: 0.6240593\ttotal: 1.61s\tremaining: 26m 48s\n",
      "20:\tlearn: 0.2482906\ttotal: 29.9s\tremaining: 23m 13s\n",
      "40:\tlearn: 0.2135119\ttotal: 57s\tremaining: 22m 14s\n",
      "60:\tlearn: 0.1990709\ttotal: 1m 25s\tremaining: 21m 56s\n",
      "80:\tlearn: 0.1899050\ttotal: 1m 53s\tremaining: 21m 32s\n",
      "100:\tlearn: 0.1825222\ttotal: 2m 22s\tremaining: 21m 7s\n",
      "120:\tlearn: 0.1761849\ttotal: 2m 50s\tremaining: 20m 40s\n",
      "140:\tlearn: 0.1712437\ttotal: 3m 22s\tremaining: 20m 31s\n",
      "160:\tlearn: 0.1669036\ttotal: 3m 52s\tremaining: 20m 11s\n",
      "180:\tlearn: 0.1630493\ttotal: 4m 20s\tremaining: 19m 40s\n",
      "200:\tlearn: 0.1591359\ttotal: 4m 49s\tremaining: 19m 11s\n",
      "220:\tlearn: 0.1555381\ttotal: 5m 18s\tremaining: 18m 42s\n",
      "240:\tlearn: 0.1525514\ttotal: 5m 46s\tremaining: 18m 12s\n",
      "260:\tlearn: 0.1498748\ttotal: 6m 15s\tremaining: 17m 43s\n",
      "280:\tlearn: 0.1471820\ttotal: 6m 43s\tremaining: 17m 13s\n",
      "300:\tlearn: 0.1449173\ttotal: 7m 8s\tremaining: 16m 34s\n",
      "320:\tlearn: 0.1426925\ttotal: 7m 35s\tremaining: 16m 4s\n",
      "340:\tlearn: 0.1410204\ttotal: 8m 4s\tremaining: 15m 36s\n",
      "360:\tlearn: 0.1390062\ttotal: 8m 32s\tremaining: 15m 7s\n",
      "380:\tlearn: 0.1372955\ttotal: 9m 1s\tremaining: 14m 39s\n",
      "400:\tlearn: 0.1358295\ttotal: 9m 25s\tremaining: 14m 4s\n",
      "420:\tlearn: 0.1342518\ttotal: 9m 49s\tremaining: 13m 31s\n",
      "440:\tlearn: 0.1325646\ttotal: 10m 14s\tremaining: 12m 58s\n",
      "460:\tlearn: 0.1309725\ttotal: 10m 38s\tremaining: 12m 26s\n",
      "480:\tlearn: 0.1294215\ttotal: 11m 3s\tremaining: 11m 55s\n",
      "500:\tlearn: 0.1283993\ttotal: 11m 27s\tremaining: 11m 24s\n",
      "520:\tlearn: 0.1272606\ttotal: 11m 51s\tremaining: 10m 54s\n",
      "540:\tlearn: 0.1262097\ttotal: 12m 16s\tremaining: 10m 24s\n",
      "560:\tlearn: 0.1252231\ttotal: 12m 40s\tremaining: 9m 54s\n",
      "580:\tlearn: 0.1241860\ttotal: 13m 4s\tremaining: 9m 25s\n",
      "600:\tlearn: 0.1230737\ttotal: 13m 29s\tremaining: 8m 57s\n",
      "620:\tlearn: 0.1222741\ttotal: 13m 53s\tremaining: 8m 28s\n",
      "640:\tlearn: 0.1213104\ttotal: 14m 17s\tremaining: 8m\n",
      "660:\tlearn: 0.1203673\ttotal: 14m 42s\tremaining: 7m 32s\n",
      "680:\tlearn: 0.1194338\ttotal: 15m 6s\tremaining: 7m 4s\n",
      "700:\tlearn: 0.1184916\ttotal: 15m 31s\tremaining: 6m 37s\n",
      "720:\tlearn: 0.1177019\ttotal: 15m 55s\tremaining: 6m 9s\n",
      "740:\tlearn: 0.1167527\ttotal: 16m 20s\tremaining: 5m 42s\n",
      "760:\tlearn: 0.1158550\ttotal: 16m 44s\tremaining: 5m 15s\n",
      "780:\tlearn: 0.1151047\ttotal: 17m 8s\tremaining: 4m 48s\n",
      "800:\tlearn: 0.1142064\ttotal: 17m 33s\tremaining: 4m 21s\n",
      "820:\tlearn: 0.1135916\ttotal: 17m 57s\tremaining: 3m 54s\n",
      "840:\tlearn: 0.1127985\ttotal: 18m 21s\tremaining: 3m 28s\n",
      "860:\tlearn: 0.1121569\ttotal: 18m 45s\tremaining: 3m 1s\n",
      "880:\tlearn: 0.1110890\ttotal: 19m 10s\tremaining: 2m 35s\n",
      "900:\tlearn: 0.1104250\ttotal: 19m 34s\tremaining: 2m 9s\n",
      "920:\tlearn: 0.1097252\ttotal: 19m 59s\tremaining: 1m 42s\n",
      "940:\tlearn: 0.1089408\ttotal: 20m 23s\tremaining: 1m 16s\n",
      "960:\tlearn: 0.1081883\ttotal: 20m 47s\tremaining: 50.6s\n",
      "980:\tlearn: 0.1074117\ttotal: 21m 12s\tremaining: 24.6s\n",
      "999:\tlearn: 0.1067133\ttotal: 21m 35s\tremaining: 0us\n",
      "Learning rate set to 0.066843\n",
      "0:\tlearn: 0.6249012\ttotal: 1.31s\tremaining: 21m 53s\n",
      "20:\tlearn: 0.2497504\ttotal: 27.3s\tremaining: 21m 14s\n",
      "40:\tlearn: 0.2152196\ttotal: 52.9s\tremaining: 20m 38s\n",
      "60:\tlearn: 0.2008535\ttotal: 1m 18s\tremaining: 20m 5s\n",
      "80:\tlearn: 0.1910192\ttotal: 1m 43s\tremaining: 19m 39s\n",
      "100:\tlearn: 0.1835630\ttotal: 2m 9s\tremaining: 19m 10s\n",
      "120:\tlearn: 0.1773627\ttotal: 2m 34s\tremaining: 18m 40s\n",
      "140:\tlearn: 0.1720148\ttotal: 2m 59s\tremaining: 18m 14s\n",
      "160:\tlearn: 0.1677431\ttotal: 3m 24s\tremaining: 17m 46s\n",
      "180:\tlearn: 0.1637669\ttotal: 3m 50s\tremaining: 17m 22s\n",
      "200:\tlearn: 0.1602798\ttotal: 4m 16s\tremaining: 16m 57s\n",
      "220:\tlearn: 0.1568715\ttotal: 4m 40s\tremaining: 16m 30s\n",
      "240:\tlearn: 0.1539246\ttotal: 5m 6s\tremaining: 16m 4s\n",
      "260:\tlearn: 0.1510196\ttotal: 5m 31s\tremaining: 15m 38s\n",
      "280:\tlearn: 0.1484007\ttotal: 5m 56s\tremaining: 15m 11s\n",
      "300:\tlearn: 0.1462082\ttotal: 6m 20s\tremaining: 14m 43s\n",
      "320:\tlearn: 0.1440983\ttotal: 6m 45s\tremaining: 14m 16s\n",
      "340:\tlearn: 0.1421672\ttotal: 7m 9s\tremaining: 13m 50s\n",
      "360:\tlearn: 0.1403723\ttotal: 7m 34s\tremaining: 13m 24s\n",
      "380:\tlearn: 0.1384594\ttotal: 7m 58s\tremaining: 12m 58s\n",
      "400:\tlearn: 0.1368093\ttotal: 8m 23s\tremaining: 12m 32s\n",
      "420:\tlearn: 0.1350956\ttotal: 8m 48s\tremaining: 12m 6s\n",
      "440:\tlearn: 0.1335798\ttotal: 9m 13s\tremaining: 11m 41s\n",
      "460:\tlearn: 0.1324057\ttotal: 9m 37s\tremaining: 11m 15s\n",
      "480:\tlearn: 0.1308992\ttotal: 10m 2s\tremaining: 10m 50s\n",
      "500:\tlearn: 0.1297709\ttotal: 10m 27s\tremaining: 10m 24s\n",
      "520:\tlearn: 0.1285777\ttotal: 10m 53s\tremaining: 10m\n",
      "540:\tlearn: 0.1273373\ttotal: 11m 18s\tremaining: 9m 35s\n",
      "560:\tlearn: 0.1263532\ttotal: 11m 43s\tremaining: 9m 10s\n",
      "580:\tlearn: 0.1253690\ttotal: 12m 8s\tremaining: 8m 45s\n",
      "600:\tlearn: 0.1244031\ttotal: 12m 33s\tremaining: 8m 20s\n",
      "620:\tlearn: 0.1234586\ttotal: 12m 58s\tremaining: 7m 55s\n",
      "640:\tlearn: 0.1224001\ttotal: 13m 23s\tremaining: 7m 29s\n",
      "660:\tlearn: 0.1214544\ttotal: 13m 47s\tremaining: 7m 4s\n",
      "680:\tlearn: 0.1204712\ttotal: 14m 12s\tremaining: 6m 39s\n",
      "700:\tlearn: 0.1194977\ttotal: 14m 37s\tremaining: 6m 14s\n",
      "720:\tlearn: 0.1186786\ttotal: 15m 3s\tremaining: 5m 49s\n",
      "740:\tlearn: 0.1178658\ttotal: 15m 27s\tremaining: 5m 24s\n",
      "760:\tlearn: 0.1169690\ttotal: 15m 52s\tremaining: 4m 59s\n",
      "780:\tlearn: 0.1162433\ttotal: 16m 17s\tremaining: 4m 34s\n",
      "800:\tlearn: 0.1154123\ttotal: 16m 43s\tremaining: 4m 9s\n",
      "820:\tlearn: 0.1147576\ttotal: 17m 8s\tremaining: 3m 44s\n",
      "840:\tlearn: 0.1138321\ttotal: 17m 33s\tremaining: 3m 19s\n",
      "860:\tlearn: 0.1131097\ttotal: 17m 58s\tremaining: 2m 54s\n",
      "880:\tlearn: 0.1123175\ttotal: 18m 23s\tremaining: 2m 29s\n",
      "900:\tlearn: 0.1116781\ttotal: 18m 48s\tremaining: 2m 3s\n",
      "920:\tlearn: 0.1109824\ttotal: 19m 13s\tremaining: 1m 38s\n",
      "940:\tlearn: 0.1102191\ttotal: 19m 38s\tremaining: 1m 13s\n",
      "960:\tlearn: 0.1093370\ttotal: 20m 3s\tremaining: 48.9s\n",
      "980:\tlearn: 0.1086538\ttotal: 20m 28s\tremaining: 23.8s\n",
      "999:\tlearn: 0.1079535\ttotal: 20m 52s\tremaining: 0us\n",
      "Показатель f1_score в CatBoostClassifier на train выборке 0.741834184111509\n"
     ]
    }
   ],
   "source": [
    "catboost__f1_train = cross_val_score(catboost_model, x_train, y_train, scoring='f1', cv = 3).mean()\n",
    "print(f'Показатель f1_score в CatBoostClassifier на train выборке {catboost__f1_train}')"
   ]
  },
  {
   "cell_type": "code",
   "execution_count": 45,
   "metadata": {},
   "outputs": [],
   "source": [
    "data = [logreg_f1_train, DecTree_f1_train, RandomForest_f1_train, catboost__f1_train]\n",
    "index = ['LogisticRegression', 'DecisionTreeClassifier', 'RandomForestClassifier', 'CatBoostClassifier']"
   ]
  },
  {
   "cell_type": "code",
   "execution_count": 46,
   "metadata": {
    "scrolled": true
   },
   "outputs": [
    {
     "data": {
      "text/html": [
       "<div>\n",
       "<style scoped>\n",
       "    .dataframe tbody tr th:only-of-type {\n",
       "        vertical-align: middle;\n",
       "    }\n",
       "\n",
       "    .dataframe tbody tr th {\n",
       "        vertical-align: top;\n",
       "    }\n",
       "\n",
       "    .dataframe thead th {\n",
       "        text-align: right;\n",
       "    }\n",
       "</style>\n",
       "<table border=\"1\" class=\"dataframe\">\n",
       "  <thead>\n",
       "    <tr style=\"text-align: right;\">\n",
       "      <th></th>\n",
       "      <th>f1_train_without_balance</th>\n",
       "    </tr>\n",
       "  </thead>\n",
       "  <tbody>\n",
       "    <tr>\n",
       "      <th>LogisticRegression</th>\n",
       "      <td>0.749576</td>\n",
       "    </tr>\n",
       "    <tr>\n",
       "      <th>DecisionTreeClassifier</th>\n",
       "      <td>0.659583</td>\n",
       "    </tr>\n",
       "    <tr>\n",
       "      <th>RandomForestClassifier</th>\n",
       "      <td>0.419286</td>\n",
       "    </tr>\n",
       "    <tr>\n",
       "      <th>CatBoostClassifier</th>\n",
       "      <td>0.741834</td>\n",
       "    </tr>\n",
       "  </tbody>\n",
       "</table>\n",
       "</div>"
      ],
      "text/plain": [
       "                        f1_train_without_balance\n",
       "LogisticRegression                      0.749576\n",
       "DecisionTreeClassifier                  0.659583\n",
       "RandomForestClassifier                  0.419286\n",
       "CatBoostClassifier                      0.741834"
      ]
     },
     "execution_count": 46,
     "metadata": {},
     "output_type": "execute_result"
    }
   ],
   "source": [
    "df_f1 = pd.DataFrame(data = data, index = index, columns = ['f1_train_without_balance'])\n",
    "df_f1"
   ]
  },
  {
   "cell_type": "markdown",
   "metadata": {},
   "source": [
    "Ни одна из моделей не достигла требуемого уровня качества метрики f1_score, однако  LogisticRegression и CatBoostClassifier показали наиболее близкие результаты. Перейдем к разделу, где будем бороться с дисбалансом."
   ]
  },
  {
   "cell_type": "code",
   "execution_count": null,
   "metadata": {},
   "outputs": [],
   "source": []
  },
  {
   "cell_type": "markdown",
   "metadata": {},
   "source": [
    "### Upsampling\n",
    "\n",
    "Попробуем теперь накрутить класс 1 по целевому признаку за счет Upsampling, напишем функцию и подготовим признаки для классификации"
   ]
  },
  {
   "cell_type": "code",
   "execution_count": 23,
   "metadata": {},
   "outputs": [],
   "source": [
    "def upsample(x, y, repeat):\n",
    "    x_zeros = x[y == 0]\n",
    "    x_ones = x[y == 1]\n",
    "    y_zeros = y[y == 0]\n",
    "    y_ones = y[y == 1]\n",
    "\n",
    "    x_upsampled = pd.concat([x_zeros] + [x_ones] * repeat)\n",
    "    y_upsampled = pd.concat([y_zeros] + [y_ones] * repeat)\n",
    "    \n",
    "    x_upsampled, y_upsampled = shuffle(x_upsampled, y_upsampled, random_state=42)\n",
    "    \n",
    "    return x_upsampled, y_upsampled"
   ]
  },
  {
   "cell_type": "code",
   "execution_count": 24,
   "metadata": {},
   "outputs": [],
   "source": [
    "x = df['lemm_text']\n",
    "y = df['toxic']"
   ]
  },
  {
   "cell_type": "code",
   "execution_count": 25,
   "metadata": {},
   "outputs": [],
   "source": [
    "x_train_up, x_test_up, y_train_up, y_test_up = train_test_split(\n",
    "    x, y, test_size = 0.25, stratify = y, random_state = 42)"
   ]
  },
  {
   "cell_type": "code",
   "execution_count": 26,
   "metadata": {},
   "outputs": [],
   "source": [
    "x_train_upsampled, y_train_upsampled = upsample(x_train_up, y_train_up, 10)"
   ]
  },
  {
   "cell_type": "code",
   "execution_count": 27,
   "metadata": {},
   "outputs": [],
   "source": [
    "corpus_x_train_upsampled = x_train_upsampled.values"
   ]
  },
  {
   "cell_type": "code",
   "execution_count": 28,
   "metadata": {},
   "outputs": [],
   "source": [
    "corpus_x_test = x_test_up.values"
   ]
  },
  {
   "cell_type": "code",
   "execution_count": 29,
   "metadata": {},
   "outputs": [],
   "source": [
    "x_train_upsampled = count_tf_idf.fit_transform(corpus_x_train_upsampled)"
   ]
  },
  {
   "cell_type": "code",
   "execution_count": 30,
   "metadata": {},
   "outputs": [],
   "source": [
    "x_test = count_tf_idf.transform(corpus_x_test)"
   ]
  },
  {
   "cell_type": "code",
   "execution_count": 31,
   "metadata": {},
   "outputs": [
    {
     "data": {
      "text/plain": [
       "0.10168117782716957"
      ]
     },
     "execution_count": 31,
     "metadata": {},
     "output_type": "execute_result"
    }
   ],
   "source": [
    "y_train.mean()"
   ]
  },
  {
   "cell_type": "code",
   "execution_count": 32,
   "metadata": {},
   "outputs": [
    {
     "data": {
      "text/plain": [
       "0.5309359988481626"
      ]
     },
     "execution_count": 32,
     "metadata": {},
     "output_type": "execute_result"
    }
   ],
   "source": [
    "y_train_upsampled.mean()"
   ]
  },
  {
   "cell_type": "code",
   "execution_count": null,
   "metadata": {},
   "outputs": [],
   "source": []
  },
  {
   "cell_type": "markdown",
   "metadata": {},
   "source": [
    "##### LogisticRegression после upsampled "
   ]
  },
  {
   "cell_type": "code",
   "execution_count": 57,
   "metadata": {},
   "outputs": [
    {
     "name": "stdout",
     "output_type": "stream",
     "text": [
      "Показатель f1_score в LogisticRegression на train выборке 0.963294766513464\n"
     ]
    }
   ],
   "source": [
    "logreg_f1_train_upsampled = cross_val_score(\n",
    "    Logreg, x_train_upsampled, y_train_upsampled, cv = 3, scoring='f1').mean()\n",
    "print(f'Показатель f1_score в LogisticRegression на train выборке {logreg_f1_train_upsampled}')"
   ]
  },
  {
   "cell_type": "code",
   "execution_count": null,
   "metadata": {},
   "outputs": [],
   "source": []
  },
  {
   "cell_type": "markdown",
   "metadata": {},
   "source": [
    "##### DecisionTreeClassifier после upsampled "
   ]
  },
  {
   "cell_type": "code",
   "execution_count": 58,
   "metadata": {},
   "outputs": [
    {
     "name": "stdout",
     "output_type": "stream",
     "text": [
      "Показатель f1_score в DecisionTreeClassifier на train выборке 0.7678372098392678\n"
     ]
    }
   ],
   "source": [
    "DecTree_f1_train_upsampled = cross_val_score(\n",
    "    DecTree, x_train_upsampled, y_train_upsampled, cv = 3, scoring='f1').mean()\n",
    "print(f'Показатель f1_score в DecisionTreeClassifier на train выборке {DecTree_f1_train_upsampled}')"
   ]
  },
  {
   "cell_type": "code",
   "execution_count": null,
   "metadata": {},
   "outputs": [],
   "source": []
  },
  {
   "cell_type": "markdown",
   "metadata": {},
   "source": [
    "##### RandomForestClassifier после upsampled "
   ]
  },
  {
   "cell_type": "code",
   "execution_count": 59,
   "metadata": {},
   "outputs": [
    {
     "name": "stdout",
     "output_type": "stream",
     "text": [
      "Показатель f1_score в RandomForestClassifier на train выборке 0.8466208323985693\n"
     ]
    }
   ],
   "source": [
    "RandomForest_f1_train_upsampled = cross_val_score(\n",
    "    RandomForest, x_train_upsampled, y_train_upsampled, cv = 3, scoring='f1').mean()\n",
    "print(f'Показатель f1_score в RandomForestClassifier на train выборке {RandomForest_f1_train_upsampled}')"
   ]
  },
  {
   "cell_type": "code",
   "execution_count": null,
   "metadata": {},
   "outputs": [],
   "source": []
  },
  {
   "cell_type": "markdown",
   "metadata": {},
   "source": [
    "##### CatBoostClassifier после upsampled "
   ]
  },
  {
   "cell_type": "code",
   "execution_count": 60,
   "metadata": {
    "scrolled": true
   },
   "outputs": [
    {
     "name": "stdout",
     "output_type": "stream",
     "text": [
      "Learning rate set to 0.088217\n",
      "0:\tlearn: 0.6517676\ttotal: 2.5s\tremaining: 41m 38s\n",
      "20:\tlearn: 0.4843196\ttotal: 38s\tremaining: 29m 33s\n",
      "40:\tlearn: 0.4378246\ttotal: 1m 12s\tremaining: 28m 4s\n",
      "60:\tlearn: 0.4091305\ttotal: 1m 46s\tremaining: 27m 14s\n",
      "80:\tlearn: 0.3873838\ttotal: 2m 19s\tremaining: 26m 27s\n",
      "100:\tlearn: 0.3707355\ttotal: 2m 53s\tremaining: 25m 48s\n",
      "120:\tlearn: 0.3581101\ttotal: 3m 26s\tremaining: 25m 3s\n",
      "140:\tlearn: 0.3465543\ttotal: 4m 2s\tremaining: 24m 34s\n",
      "160:\tlearn: 0.3353063\ttotal: 4m 34s\tremaining: 23m 52s\n",
      "180:\tlearn: 0.3257487\ttotal: 5m 6s\tremaining: 23m 8s\n",
      "200:\tlearn: 0.3166141\ttotal: 5m 38s\tremaining: 22m 26s\n",
      "220:\tlearn: 0.3085338\ttotal: 6m 11s\tremaining: 21m 48s\n",
      "240:\tlearn: 0.3011535\ttotal: 6m 46s\tremaining: 21m 21s\n",
      "260:\tlearn: 0.2948045\ttotal: 7m 19s\tremaining: 20m 44s\n",
      "280:\tlearn: 0.2889669\ttotal: 7m 52s\tremaining: 20m 7s\n",
      "300:\tlearn: 0.2831725\ttotal: 8m 24s\tremaining: 19m 32s\n",
      "320:\tlearn: 0.2782422\ttotal: 8m 57s\tremaining: 18m 56s\n",
      "340:\tlearn: 0.2733234\ttotal: 9m 29s\tremaining: 18m 20s\n",
      "360:\tlearn: 0.2685343\ttotal: 9m 59s\tremaining: 17m 41s\n",
      "380:\tlearn: 0.2643249\ttotal: 10m 29s\tremaining: 17m 2s\n",
      "400:\tlearn: 0.2602451\ttotal: 10m 58s\tremaining: 16m 24s\n",
      "420:\tlearn: 0.2567097\ttotal: 11m 28s\tremaining: 15m 46s\n",
      "440:\tlearn: 0.2526814\ttotal: 11m 59s\tremaining: 15m 11s\n",
      "460:\tlearn: 0.2486626\ttotal: 12m 29s\tremaining: 14m 36s\n",
      "480:\tlearn: 0.2453474\ttotal: 12m 58s\tremaining: 13m 59s\n",
      "500:\tlearn: 0.2417400\ttotal: 13m 25s\tremaining: 13m 22s\n",
      "520:\tlearn: 0.2387455\ttotal: 13m 54s\tremaining: 12m 46s\n",
      "540:\tlearn: 0.2357596\ttotal: 14m 22s\tremaining: 12m 11s\n",
      "560:\tlearn: 0.2329886\ttotal: 14m 51s\tremaining: 11m 37s\n",
      "580:\tlearn: 0.2301038\ttotal: 15m 19s\tremaining: 11m 2s\n",
      "600:\tlearn: 0.2272452\ttotal: 15m 47s\tremaining: 10m 28s\n",
      "620:\tlearn: 0.2245133\ttotal: 16m 15s\tremaining: 9m 55s\n",
      "640:\tlearn: 0.2221512\ttotal: 16m 42s\tremaining: 9m 21s\n",
      "660:\tlearn: 0.2201415\ttotal: 17m 10s\tremaining: 8m 48s\n",
      "680:\tlearn: 0.2175440\ttotal: 17m 38s\tremaining: 8m 15s\n",
      "700:\tlearn: 0.2153499\ttotal: 18m 6s\tremaining: 7m 43s\n",
      "720:\tlearn: 0.2128324\ttotal: 18m 33s\tremaining: 7m 10s\n",
      "740:\tlearn: 0.2108797\ttotal: 19m 1s\tremaining: 6m 39s\n",
      "760:\tlearn: 0.2087067\ttotal: 19m 29s\tremaining: 6m 7s\n",
      "780:\tlearn: 0.2065017\ttotal: 19m 57s\tremaining: 5m 35s\n",
      "800:\tlearn: 0.2044196\ttotal: 20m 25s\tremaining: 5m 4s\n",
      "820:\tlearn: 0.2025940\ttotal: 20m 53s\tremaining: 4m 33s\n",
      "840:\tlearn: 0.2003809\ttotal: 21m 21s\tremaining: 4m 2s\n",
      "860:\tlearn: 0.1984980\ttotal: 21m 49s\tremaining: 3m 31s\n",
      "880:\tlearn: 0.1965423\ttotal: 22m 16s\tremaining: 3m\n",
      "900:\tlearn: 0.1948335\ttotal: 22m 44s\tremaining: 2m 29s\n",
      "920:\tlearn: 0.1930206\ttotal: 23m 11s\tremaining: 1m 59s\n",
      "940:\tlearn: 0.1912935\ttotal: 23m 39s\tremaining: 1m 29s\n",
      "960:\tlearn: 0.1897836\ttotal: 24m 7s\tremaining: 58.7s\n",
      "980:\tlearn: 0.1881410\ttotal: 24m 34s\tremaining: 28.6s\n",
      "999:\tlearn: 0.1868124\ttotal: 25m 1s\tremaining: 0us\n",
      "Learning rate set to 0.088217\n",
      "0:\tlearn: 0.6512323\ttotal: 1.52s\tremaining: 25m 19s\n",
      "20:\tlearn: 0.4848200\ttotal: 31.9s\tremaining: 24m 46s\n",
      "40:\tlearn: 0.4388649\ttotal: 1m 1s\tremaining: 23m 51s\n",
      "60:\tlearn: 0.4093899\ttotal: 1m 30s\tremaining: 23m 12s\n",
      "80:\tlearn: 0.3878043\ttotal: 1m 59s\tremaining: 22m 37s\n",
      "100:\tlearn: 0.3722953\ttotal: 2m 28s\tremaining: 22m 2s\n",
      "120:\tlearn: 0.3578423\ttotal: 2m 57s\tremaining: 21m 30s\n",
      "140:\tlearn: 0.3459052\ttotal: 3m 26s\tremaining: 20m 59s\n",
      "160:\tlearn: 0.3345171\ttotal: 3m 55s\tremaining: 20m 28s\n",
      "180:\tlearn: 0.3259873\ttotal: 4m 24s\tremaining: 19m 57s\n",
      "200:\tlearn: 0.3176321\ttotal: 4m 53s\tremaining: 19m 24s\n",
      "220:\tlearn: 0.3080432\ttotal: 5m 21s\tremaining: 18m 51s\n",
      "240:\tlearn: 0.3014743\ttotal: 5m 49s\tremaining: 18m 21s\n",
      "260:\tlearn: 0.2951990\ttotal: 6m 19s\tremaining: 17m 53s\n",
      "280:\tlearn: 0.2891558\ttotal: 6m 53s\tremaining: 17m 38s\n",
      "300:\tlearn: 0.2837717\ttotal: 7m 24s\tremaining: 17m 11s\n",
      "320:\tlearn: 0.2788626\ttotal: 7m 54s\tremaining: 16m 43s\n",
      "340:\tlearn: 0.2738223\ttotal: 8m 26s\tremaining: 16m 18s\n",
      "360:\tlearn: 0.2689891\ttotal: 8m 56s\tremaining: 15m 50s\n",
      "380:\tlearn: 0.2646316\ttotal: 9m 27s\tremaining: 15m 21s\n",
      "400:\tlearn: 0.2606539\ttotal: 9m 57s\tremaining: 14m 51s\n",
      "420:\tlearn: 0.2566118\ttotal: 10m 27s\tremaining: 14m 23s\n",
      "440:\tlearn: 0.2530944\ttotal: 10m 57s\tremaining: 13m 53s\n",
      "460:\tlearn: 0.2497156\ttotal: 11m 28s\tremaining: 13m 25s\n",
      "480:\tlearn: 0.2461310\ttotal: 11m 58s\tremaining: 12m 55s\n",
      "500:\tlearn: 0.2425052\ttotal: 12m 28s\tremaining: 12m 25s\n",
      "520:\tlearn: 0.2396795\ttotal: 12m 58s\tremaining: 11m 56s\n",
      "540:\tlearn: 0.2365720\ttotal: 13m 29s\tremaining: 11m 26s\n",
      "560:\tlearn: 0.2338070\ttotal: 14m\tremaining: 10m 57s\n",
      "580:\tlearn: 0.2309376\ttotal: 14m 30s\tremaining: 10m 27s\n",
      "600:\tlearn: 0.2279158\ttotal: 15m\tremaining: 9m 57s\n",
      "620:\tlearn: 0.2253117\ttotal: 15m 30s\tremaining: 9m 27s\n",
      "640:\tlearn: 0.2229072\ttotal: 16m\tremaining: 8m 57s\n",
      "660:\tlearn: 0.2204816\ttotal: 16m 30s\tremaining: 8m 27s\n",
      "680:\tlearn: 0.2181719\ttotal: 17m\tremaining: 7m 58s\n",
      "700:\tlearn: 0.2159547\ttotal: 17m 30s\tremaining: 7m 28s\n",
      "720:\tlearn: 0.2133929\ttotal: 18m\tremaining: 6m 58s\n",
      "740:\tlearn: 0.2111757\ttotal: 18m 30s\tremaining: 6m 28s\n",
      "760:\tlearn: 0.2094018\ttotal: 19m\tremaining: 5m 58s\n",
      "780:\tlearn: 0.2073116\ttotal: 19m 30s\tremaining: 5m 28s\n",
      "800:\tlearn: 0.2046775\ttotal: 19m 58s\tremaining: 4m 57s\n",
      "820:\tlearn: 0.2026780\ttotal: 20m 26s\tremaining: 4m 27s\n",
      "840:\tlearn: 0.2003514\ttotal: 20m 54s\tremaining: 3m 57s\n",
      "860:\tlearn: 0.1984144\ttotal: 21m 23s\tremaining: 3m 27s\n",
      "880:\tlearn: 0.1968609\ttotal: 21m 51s\tremaining: 2m 57s\n",
      "900:\tlearn: 0.1949003\ttotal: 22m 19s\tremaining: 2m 27s\n",
      "920:\tlearn: 0.1932073\ttotal: 22m 47s\tremaining: 1m 57s\n",
      "940:\tlearn: 0.1915992\ttotal: 23m 15s\tremaining: 1m 27s\n",
      "960:\tlearn: 0.1899488\ttotal: 23m 43s\tremaining: 57.8s\n",
      "980:\tlearn: 0.1879886\ttotal: 24m 12s\tremaining: 28.1s\n",
      "999:\tlearn: 0.1865700\ttotal: 24m 39s\tremaining: 0us\n",
      "Learning rate set to 0.088217\n",
      "0:\tlearn: 0.6512782\ttotal: 1.55s\tremaining: 25m 45s\n",
      "20:\tlearn: 0.4841803\ttotal: 31.3s\tremaining: 24m 18s\n",
      "40:\tlearn: 0.4377059\ttotal: 1m\tremaining: 23m 40s\n",
      "60:\tlearn: 0.4068393\ttotal: 1m 30s\tremaining: 23m 19s\n",
      "80:\tlearn: 0.3880026\ttotal: 2m\tremaining: 22m 42s\n",
      "100:\tlearn: 0.3721769\ttotal: 2m 28s\tremaining: 22m 6s\n",
      "120:\tlearn: 0.3586947\ttotal: 2m 58s\tremaining: 21m 33s\n",
      "140:\tlearn: 0.3465979\ttotal: 3m 26s\tremaining: 20m 58s\n",
      "160:\tlearn: 0.3349325\ttotal: 3m 55s\tremaining: 20m 26s\n",
      "180:\tlearn: 0.3252162\ttotal: 4m 23s\tremaining: 19m 54s\n",
      "200:\tlearn: 0.3171314\ttotal: 4m 52s\tremaining: 19m 22s\n",
      "220:\tlearn: 0.3081067\ttotal: 5m 21s\tremaining: 18m 52s\n",
      "240:\tlearn: 0.3016900\ttotal: 5m 50s\tremaining: 18m 22s\n",
      "260:\tlearn: 0.2949787\ttotal: 6m 19s\tremaining: 17m 54s\n",
      "280:\tlearn: 0.2894403\ttotal: 6m 47s\tremaining: 17m 23s\n",
      "300:\tlearn: 0.2840738\ttotal: 7m 16s\tremaining: 16m 52s\n",
      "320:\tlearn: 0.2788578\ttotal: 7m 44s\tremaining: 16m 23s\n",
      "340:\tlearn: 0.2735513\ttotal: 8m 13s\tremaining: 15m 53s\n",
      "360:\tlearn: 0.2688747\ttotal: 8m 41s\tremaining: 15m 23s\n",
      "380:\tlearn: 0.2647619\ttotal: 9m 10s\tremaining: 14m 53s\n",
      "400:\tlearn: 0.2604141\ttotal: 9m 39s\tremaining: 14m 25s\n",
      "420:\tlearn: 0.2565737\ttotal: 10m 8s\tremaining: 13m 57s\n",
      "440:\tlearn: 0.2525887\ttotal: 10m 37s\tremaining: 13m 27s\n",
      "460:\tlearn: 0.2491059\ttotal: 11m 5s\tremaining: 12m 57s\n",
      "480:\tlearn: 0.2458888\ttotal: 11m 33s\tremaining: 12m 28s\n",
      "500:\tlearn: 0.2427090\ttotal: 12m 2s\tremaining: 11m 59s\n",
      "520:\tlearn: 0.2393313\ttotal: 12m 30s\tremaining: 11m 29s\n",
      "540:\tlearn: 0.2364551\ttotal: 12m 58s\tremaining: 11m\n",
      "560:\tlearn: 0.2333076\ttotal: 13m 27s\tremaining: 10m 31s\n",
      "580:\tlearn: 0.2307071\ttotal: 13m 55s\tremaining: 10m 2s\n",
      "600:\tlearn: 0.2275549\ttotal: 14m 23s\tremaining: 9m 33s\n",
      "620:\tlearn: 0.2249164\ttotal: 14m 50s\tremaining: 9m 3s\n",
      "640:\tlearn: 0.2225754\ttotal: 15m 18s\tremaining: 8m 34s\n",
      "660:\tlearn: 0.2201100\ttotal: 15m 47s\tremaining: 8m 5s\n",
      "680:\tlearn: 0.2178215\ttotal: 16m 15s\tremaining: 7m 36s\n",
      "700:\tlearn: 0.2153922\ttotal: 16m 43s\tremaining: 7m 7s\n",
      "720:\tlearn: 0.2128331\ttotal: 17m 11s\tremaining: 6m 39s\n",
      "740:\tlearn: 0.2107046\ttotal: 17m 39s\tremaining: 6m 10s\n",
      "760:\tlearn: 0.2086018\ttotal: 18m 7s\tremaining: 5m 41s\n",
      "780:\tlearn: 0.2062955\ttotal: 18m 35s\tremaining: 5m 12s\n",
      "800:\tlearn: 0.2043066\ttotal: 19m 4s\tremaining: 4m 44s\n",
      "820:\tlearn: 0.2025097\ttotal: 19m 33s\tremaining: 4m 15s\n",
      "840:\tlearn: 0.2006176\ttotal: 20m\tremaining: 3m 47s\n",
      "860:\tlearn: 0.1985328\ttotal: 20m 28s\tremaining: 3m 18s\n",
      "880:\tlearn: 0.1968975\ttotal: 20m 56s\tremaining: 2m 49s\n",
      "900:\tlearn: 0.1947961\ttotal: 21m 24s\tremaining: 2m 21s\n",
      "920:\tlearn: 0.1928628\ttotal: 21m 52s\tremaining: 1m 52s\n",
      "940:\tlearn: 0.1912803\ttotal: 22m 20s\tremaining: 1m 24s\n",
      "960:\tlearn: 0.1893962\ttotal: 22m 48s\tremaining: 55.5s\n",
      "980:\tlearn: 0.1875617\ttotal: 23m 16s\tremaining: 27s\n",
      "999:\tlearn: 0.1861826\ttotal: 23m 42s\tremaining: 0us\n",
      "Показатель f1_score в CatBoostClassifier на train выборке 0.9499461991524653\n"
     ]
    }
   ],
   "source": [
    "catboost__f1_train_upsampled = cross_val_score(\n",
    "    catboost_model, x_train_upsampled , y_train_upsampled , scoring='f1', cv = 3).mean()\n",
    "print(f'Показатель f1_score в CatBoostClassifier на train выборке {catboost__f1_train_upsampled}')"
   ]
  },
  {
   "cell_type": "code",
   "execution_count": 61,
   "metadata": {},
   "outputs": [],
   "source": [
    "data1 = [logreg_f1_train_upsampled, DecTree_f1_train_upsampled,\n",
    "         RandomForest_f1_train_upsampled, catboost__f1_train_upsampled]"
   ]
  },
  {
   "cell_type": "code",
   "execution_count": 62,
   "metadata": {},
   "outputs": [],
   "source": [
    "df_f1['f1_train_upsampled'] = data1"
   ]
  },
  {
   "cell_type": "code",
   "execution_count": 63,
   "metadata": {
    "scrolled": true
   },
   "outputs": [
    {
     "data": {
      "text/html": [
       "<div>\n",
       "<style scoped>\n",
       "    .dataframe tbody tr th:only-of-type {\n",
       "        vertical-align: middle;\n",
       "    }\n",
       "\n",
       "    .dataframe tbody tr th {\n",
       "        vertical-align: top;\n",
       "    }\n",
       "\n",
       "    .dataframe thead th {\n",
       "        text-align: right;\n",
       "    }\n",
       "</style>\n",
       "<table border=\"1\" class=\"dataframe\">\n",
       "  <thead>\n",
       "    <tr style=\"text-align: right;\">\n",
       "      <th></th>\n",
       "      <th>f1_train_without_balance</th>\n",
       "      <th>f1_train_upsampled</th>\n",
       "    </tr>\n",
       "  </thead>\n",
       "  <tbody>\n",
       "    <tr>\n",
       "      <th>LogisticRegression</th>\n",
       "      <td>0.749576</td>\n",
       "      <td>0.963295</td>\n",
       "    </tr>\n",
       "    <tr>\n",
       "      <th>DecisionTreeClassifier</th>\n",
       "      <td>0.659583</td>\n",
       "      <td>0.767837</td>\n",
       "    </tr>\n",
       "    <tr>\n",
       "      <th>RandomForestClassifier</th>\n",
       "      <td>0.419286</td>\n",
       "      <td>0.846621</td>\n",
       "    </tr>\n",
       "    <tr>\n",
       "      <th>CatBoostClassifier</th>\n",
       "      <td>0.741834</td>\n",
       "      <td>0.949946</td>\n",
       "    </tr>\n",
       "  </tbody>\n",
       "</table>\n",
       "</div>"
      ],
      "text/plain": [
       "                        f1_train_without_balance  f1_train_upsampled\n",
       "LogisticRegression                      0.749576            0.963295\n",
       "DecisionTreeClassifier                  0.659583            0.767837\n",
       "RandomForestClassifier                  0.419286            0.846621\n",
       "CatBoostClassifier                      0.741834            0.949946"
      ]
     },
     "execution_count": 63,
     "metadata": {},
     "output_type": "execute_result"
    }
   ],
   "source": [
    "df_f1"
   ]
  },
  {
   "cell_type": "markdown",
   "metadata": {},
   "source": [
    "### Изменим веса в моделях обучения\n",
    "Передадим веса в наши модели в соответствии с соотношеним классов, классу 0 целевого признака передадим вес 1, классу 1 целевого признака передадим вес 8.834884437596301\n",
    "\n",
    "{0:1, 1:8.834884437596301}"
   ]
  },
  {
   "cell_type": "markdown",
   "metadata": {},
   "source": [
    "#### Измение весов в модели LogisticRegression"
   ]
  },
  {
   "cell_type": "code",
   "execution_count": 66,
   "metadata": {},
   "outputs": [],
   "source": [
    "logreg_weight_params = {'class_weight': {0:1, 1:8.834884437596301}, 'solver': 'newton-cg'}"
   ]
  },
  {
   "cell_type": "code",
   "execution_count": 67,
   "metadata": {
    "scrolled": false
   },
   "outputs": [
    {
     "data": {
      "text/plain": [
       "LogisticRegression(class_weight={0: 1, 1: 8.834884437596301}, random_state=42,\n",
       "                   solver='newton-cg')"
      ]
     },
     "execution_count": 67,
     "metadata": {},
     "output_type": "execute_result"
    }
   ],
   "source": [
    "Logreg.set_params(**logreg_weight_params)"
   ]
  },
  {
   "cell_type": "code",
   "execution_count": 68,
   "metadata": {},
   "outputs": [],
   "source": [
    "x = df['lemm_text']\n",
    "y = df['toxic']\n",
    "\n",
    "x_train, x_test, y_train, y_test = train_test_split(\n",
    "    x, y, test_size = 0.25, stratify = y, random_state = 42)\n",
    "\n",
    "corpus_x_train = x_train.values.astype('U')\n",
    "corpus_x_test =x_test.values.astype('U')\n",
    "\n",
    "count_tf_idf = TfidfVectorizer(stop_words=stopwords)\n",
    "\n",
    "x_train = count_tf_idf.fit_transform(corpus_x_train)\n",
    "x_test = count_tf_idf.transform(corpus_x_test)"
   ]
  },
  {
   "cell_type": "code",
   "execution_count": 69,
   "metadata": {},
   "outputs": [
    {
     "name": "stdout",
     "output_type": "stream",
     "text": [
      "Показатель f1_score в LogisticRegression на train выборке 0.7556673333022562\n"
     ]
    }
   ],
   "source": [
    "logreg_f1_train_weighted = cross_val_score(Logreg, x_train, y_train, cv = 3, scoring='f1').mean()\n",
    "print(f'Показатель f1_score в LogisticRegression на train выборке {logreg_f1_train_weighted}')"
   ]
  },
  {
   "cell_type": "markdown",
   "metadata": {},
   "source": [
    "#### Измение весов в модели DecisionTreeClassifier"
   ]
  },
  {
   "cell_type": "code",
   "execution_count": 70,
   "metadata": {},
   "outputs": [],
   "source": [
    "DecTree_weighted_params = {'class_weight': {0:1, 1:8.834884437596301},\n",
    "                                'criterion': 'gini',\n",
    "                                'max_depth': 26}"
   ]
  },
  {
   "cell_type": "code",
   "execution_count": 71,
   "metadata": {},
   "outputs": [
    {
     "data": {
      "text/plain": [
       "DecisionTreeClassifier(class_weight={0: 1, 1: 8.834884437596301}, max_depth=26,\n",
       "                       random_state=42)"
      ]
     },
     "execution_count": 71,
     "metadata": {},
     "output_type": "execute_result"
    }
   ],
   "source": [
    "DecTree.set_params(**DecTree_weighted_params)"
   ]
  },
  {
   "cell_type": "code",
   "execution_count": 72,
   "metadata": {},
   "outputs": [
    {
     "name": "stdout",
     "output_type": "stream",
     "text": [
      "Показатель f1_score в DecisionTreeClassifier на train выборке 0.6091857844491904\n"
     ]
    }
   ],
   "source": [
    "DecTree_f1_train_weighted = cross_val_score(DecTree, x_train, y_train, cv = 3, scoring='f1').mean()\n",
    "print(f'Показатель f1_score в DecisionTreeClassifier на train выборке {DecTree_f1_train_weighted}')"
   ]
  },
  {
   "cell_type": "code",
   "execution_count": null,
   "metadata": {},
   "outputs": [],
   "source": []
  },
  {
   "cell_type": "markdown",
   "metadata": {},
   "source": [
    "#### Измение весов в модели RandomForestClassifier"
   ]
  },
  {
   "cell_type": "code",
   "execution_count": 73,
   "metadata": {},
   "outputs": [],
   "source": [
    "RandomForest_weighted_params = {'class_weight': {0: 1, 1: 8.834884437596301},\n",
    "                               'criterion': 'gini',\n",
    "                               'max_depth': 26,\n",
    "                               'n_estimators': 26}"
   ]
  },
  {
   "cell_type": "code",
   "execution_count": 74,
   "metadata": {},
   "outputs": [
    {
     "data": {
      "text/plain": [
       "RandomForestClassifier(class_weight={0: 1, 1: 8.834884437596301}, max_depth=26,\n",
       "                       n_estimators=26, random_state=42)"
      ]
     },
     "execution_count": 74,
     "metadata": {},
     "output_type": "execute_result"
    }
   ],
   "source": [
    "RandomForest.set_params(**RandomForest_weighted_params)"
   ]
  },
  {
   "cell_type": "code",
   "execution_count": 75,
   "metadata": {
    "scrolled": true
   },
   "outputs": [
    {
     "name": "stdout",
     "output_type": "stream",
     "text": [
      "Показатель f1_score в RandomForestClassifier на train выборке 0.4166828341033015\n"
     ]
    }
   ],
   "source": [
    "RandomForest_f1_train_weighted = cross_val_score(RandomForest, x_train, y_train, cv = 3, scoring='f1').mean()\n",
    "print(f'Показатель f1_score в RandomForestClassifier на train выборке {RandomForest_f1_train_weighted}')"
   ]
  },
  {
   "cell_type": "code",
   "execution_count": null,
   "metadata": {},
   "outputs": [],
   "source": []
  },
  {
   "cell_type": "markdown",
   "metadata": {},
   "source": [
    "#### Измение весов в модели CatBoostClassifier"
   ]
  },
  {
   "cell_type": "code",
   "execution_count": 76,
   "metadata": {},
   "outputs": [],
   "source": [
    "catboost_model = CatBoostClassifier(random_state = 42, verbose = 20, class_weights={0: 1, 1: 8.834884437596301})"
   ]
  },
  {
   "cell_type": "code",
   "execution_count": 77,
   "metadata": {
    "scrolled": true
   },
   "outputs": [
    {
     "name": "stdout",
     "output_type": "stream",
     "text": [
      "Learning rate set to 0.066843\n",
      "0:\tlearn: 0.6635636\ttotal: 1.3s\tremaining: 21m 42s\n",
      "20:\tlearn: 0.5137158\ttotal: 26.8s\tremaining: 20m 49s\n",
      "40:\tlearn: 0.4687054\ttotal: 51.8s\tremaining: 20m 11s\n",
      "60:\tlearn: 0.4403953\ttotal: 1m 16s\tremaining: 19m 43s\n",
      "80:\tlearn: 0.4203014\ttotal: 1m 42s\tremaining: 19m 20s\n",
      "100:\tlearn: 0.4054671\ttotal: 2m 6s\tremaining: 18m 47s\n",
      "120:\tlearn: 0.3935949\ttotal: 2m 31s\tremaining: 18m 21s\n",
      "140:\tlearn: 0.3813221\ttotal: 2m 56s\tremaining: 17m 56s\n",
      "160:\tlearn: 0.3717839\ttotal: 3m 21s\tremaining: 17m 30s\n",
      "180:\tlearn: 0.3611955\ttotal: 3m 46s\tremaining: 17m 4s\n",
      "200:\tlearn: 0.3502980\ttotal: 4m 11s\tremaining: 16m 38s\n",
      "220:\tlearn: 0.3398635\ttotal: 4m 36s\tremaining: 16m 13s\n",
      "240:\tlearn: 0.3318978\ttotal: 5m\tremaining: 15m 47s\n",
      "260:\tlearn: 0.3247031\ttotal: 5m 25s\tremaining: 15m 22s\n",
      "280:\tlearn: 0.3180520\ttotal: 5m 50s\tremaining: 14m 56s\n",
      "300:\tlearn: 0.3109229\ttotal: 6m 15s\tremaining: 14m 31s\n",
      "320:\tlearn: 0.3050243\ttotal: 6m 39s\tremaining: 14m 5s\n",
      "340:\tlearn: 0.2999886\ttotal: 7m 4s\tremaining: 13m 40s\n",
      "360:\tlearn: 0.2945722\ttotal: 7m 29s\tremaining: 13m 14s\n",
      "380:\tlearn: 0.2898001\ttotal: 7m 53s\tremaining: 12m 49s\n",
      "400:\tlearn: 0.2851878\ttotal: 8m 18s\tremaining: 12m 23s\n",
      "420:\tlearn: 0.2812047\ttotal: 8m 42s\tremaining: 11m 58s\n",
      "440:\tlearn: 0.2764167\ttotal: 9m 7s\tremaining: 11m 34s\n",
      "460:\tlearn: 0.2725143\ttotal: 9m 32s\tremaining: 11m 8s\n",
      "480:\tlearn: 0.2688283\ttotal: 9m 56s\tremaining: 10m 43s\n",
      "500:\tlearn: 0.2651469\ttotal: 10m 21s\tremaining: 10m 18s\n",
      "520:\tlearn: 0.2618479\ttotal: 10m 45s\tremaining: 9m 53s\n",
      "540:\tlearn: 0.2587531\ttotal: 11m 10s\tremaining: 9m 28s\n",
      "560:\tlearn: 0.2552543\ttotal: 11m 34s\tremaining: 9m 3s\n",
      "580:\tlearn: 0.2521797\ttotal: 11m 58s\tremaining: 8m 38s\n",
      "600:\tlearn: 0.2490740\ttotal: 12m 24s\tremaining: 8m 13s\n",
      "620:\tlearn: 0.2462980\ttotal: 12m 48s\tremaining: 7m 48s\n",
      "640:\tlearn: 0.2435363\ttotal: 13m 12s\tremaining: 7m 23s\n",
      "660:\tlearn: 0.2408038\ttotal: 13m 36s\tremaining: 6m 58s\n",
      "680:\tlearn: 0.2380542\ttotal: 14m\tremaining: 6m 33s\n",
      "700:\tlearn: 0.2357084\ttotal: 14m 25s\tremaining: 6m 9s\n",
      "720:\tlearn: 0.2334505\ttotal: 14m 49s\tremaining: 5m 44s\n",
      "740:\tlearn: 0.2307521\ttotal: 15m 13s\tremaining: 5m 19s\n",
      "760:\tlearn: 0.2285449\ttotal: 15m 38s\tremaining: 4m 54s\n",
      "780:\tlearn: 0.2263553\ttotal: 16m 2s\tremaining: 4m 29s\n",
      "800:\tlearn: 0.2241782\ttotal: 16m 26s\tremaining: 4m 5s\n",
      "820:\tlearn: 0.2221463\ttotal: 16m 51s\tremaining: 3m 40s\n",
      "840:\tlearn: 0.2198524\ttotal: 17m 15s\tremaining: 3m 15s\n",
      "860:\tlearn: 0.2178594\ttotal: 17m 39s\tremaining: 2m 51s\n",
      "880:\tlearn: 0.2161855\ttotal: 18m 3s\tremaining: 2m 26s\n",
      "900:\tlearn: 0.2143121\ttotal: 18m 27s\tremaining: 2m 1s\n",
      "920:\tlearn: 0.2122418\ttotal: 18m 52s\tremaining: 1m 37s\n",
      "940:\tlearn: 0.2101938\ttotal: 19m 16s\tremaining: 1m 12s\n",
      "960:\tlearn: 0.2084694\ttotal: 19m 40s\tremaining: 47.9s\n",
      "980:\tlearn: 0.2066337\ttotal: 20m 4s\tremaining: 23.3s\n",
      "999:\tlearn: 0.2050385\ttotal: 20m 27s\tremaining: 0us\n",
      "Learning rate set to 0.066843\n",
      "0:\tlearn: 0.6621871\ttotal: 1.31s\tremaining: 21m 54s\n",
      "20:\tlearn: 0.5076468\ttotal: 26.8s\tremaining: 20m 49s\n",
      "40:\tlearn: 0.4637519\ttotal: 51.8s\tremaining: 20m 10s\n",
      "60:\tlearn: 0.4374309\ttotal: 1m 16s\tremaining: 19m 38s\n",
      "80:\tlearn: 0.4166539\ttotal: 1m 41s\tremaining: 19m 11s\n",
      "100:\tlearn: 0.4034023\ttotal: 2m 6s\tremaining: 18m 42s\n",
      "120:\tlearn: 0.3886811\ttotal: 2m 31s\tremaining: 18m 19s\n",
      "140:\tlearn: 0.3790760\ttotal: 2m 56s\tremaining: 17m 55s\n",
      "160:\tlearn: 0.3685937\ttotal: 3m 21s\tremaining: 17m 27s\n",
      "180:\tlearn: 0.3576184\ttotal: 3m 46s\tremaining: 17m 3s\n",
      "200:\tlearn: 0.3465427\ttotal: 4m 10s\tremaining: 16m 36s\n",
      "220:\tlearn: 0.3370624\ttotal: 4m 35s\tremaining: 16m 10s\n",
      "240:\tlearn: 0.3277875\ttotal: 5m\tremaining: 15m 45s\n",
      "260:\tlearn: 0.3207987\ttotal: 5m 24s\tremaining: 15m 19s\n",
      "280:\tlearn: 0.3139160\ttotal: 5m 49s\tremaining: 14m 54s\n",
      "300:\tlearn: 0.3077347\ttotal: 6m 14s\tremaining: 14m 29s\n",
      "320:\tlearn: 0.3016795\ttotal: 6m 38s\tremaining: 14m 3s\n",
      "340:\tlearn: 0.2959463\ttotal: 7m 3s\tremaining: 13m 38s\n",
      "360:\tlearn: 0.2901104\ttotal: 7m 28s\tremaining: 13m 13s\n",
      "380:\tlearn: 0.2852183\ttotal: 7m 52s\tremaining: 12m 47s\n",
      "400:\tlearn: 0.2809733\ttotal: 8m 17s\tremaining: 12m 22s\n",
      "420:\tlearn: 0.2767162\ttotal: 8m 41s\tremaining: 11m 57s\n",
      "440:\tlearn: 0.2727117\ttotal: 9m 6s\tremaining: 11m 32s\n",
      "460:\tlearn: 0.2688667\ttotal: 9m 30s\tremaining: 11m 7s\n",
      "480:\tlearn: 0.2651403\ttotal: 9m 54s\tremaining: 10m 41s\n",
      "500:\tlearn: 0.2613913\ttotal: 10m 19s\tremaining: 10m 17s\n",
      "520:\tlearn: 0.2580519\ttotal: 10m 43s\tremaining: 9m 51s\n",
      "540:\tlearn: 0.2550471\ttotal: 11m 7s\tremaining: 9m 26s\n",
      "560:\tlearn: 0.2516729\ttotal: 11m 32s\tremaining: 9m 1s\n",
      "580:\tlearn: 0.2485535\ttotal: 11m 56s\tremaining: 8m 36s\n",
      "600:\tlearn: 0.2453496\ttotal: 12m 21s\tremaining: 8m 12s\n",
      "620:\tlearn: 0.2425566\ttotal: 12m 45s\tremaining: 7m 47s\n",
      "640:\tlearn: 0.2397035\ttotal: 13m 10s\tremaining: 7m 22s\n",
      "660:\tlearn: 0.2372886\ttotal: 13m 34s\tremaining: 6m 57s\n",
      "680:\tlearn: 0.2346639\ttotal: 13m 59s\tremaining: 6m 33s\n",
      "700:\tlearn: 0.2320274\ttotal: 14m 23s\tremaining: 6m 8s\n",
      "720:\tlearn: 0.2295364\ttotal: 14m 48s\tremaining: 5m 43s\n",
      "740:\tlearn: 0.2270147\ttotal: 15m 12s\tremaining: 5m 18s\n",
      "760:\tlearn: 0.2248659\ttotal: 15m 36s\tremaining: 4m 54s\n",
      "780:\tlearn: 0.2226293\ttotal: 16m 1s\tremaining: 4m 29s\n",
      "800:\tlearn: 0.2203018\ttotal: 16m 25s\tremaining: 4m 4s\n",
      "820:\tlearn: 0.2181057\ttotal: 16m 50s\tremaining: 3m 40s\n",
      "840:\tlearn: 0.2161688\ttotal: 17m 14s\tremaining: 3m 15s\n",
      "860:\tlearn: 0.2143178\ttotal: 17m 38s\tremaining: 2m 50s\n",
      "880:\tlearn: 0.2122326\ttotal: 18m 3s\tremaining: 2m 26s\n",
      "900:\tlearn: 0.2102681\ttotal: 18m 27s\tremaining: 2m 1s\n",
      "920:\tlearn: 0.2081504\ttotal: 18m 51s\tremaining: 1m 37s\n",
      "940:\tlearn: 0.2066482\ttotal: 19m 16s\tremaining: 1m 12s\n",
      "960:\tlearn: 0.2050168\ttotal: 19m 40s\tremaining: 47.9s\n",
      "980:\tlearn: 0.2031716\ttotal: 20m 5s\tremaining: 23.4s\n",
      "999:\tlearn: 0.2015926\ttotal: 20m 29s\tremaining: 0us\n",
      "Learning rate set to 0.066843\n",
      "0:\tlearn: 0.6639737\ttotal: 1.3s\tremaining: 21m 39s\n",
      "20:\tlearn: 0.5103707\ttotal: 26.8s\tremaining: 20m 49s\n",
      "40:\tlearn: 0.4659082\ttotal: 52s\tremaining: 20m 16s\n",
      "60:\tlearn: 0.4390472\ttotal: 1m 16s\tremaining: 19m 44s\n",
      "80:\tlearn: 0.4190620\ttotal: 1m 41s\tremaining: 19m 17s\n",
      "100:\tlearn: 0.4034937\ttotal: 2m 6s\tremaining: 18m 48s\n",
      "120:\tlearn: 0.3904522\ttotal: 2m 31s\tremaining: 18m 21s\n",
      "140:\tlearn: 0.3800282\ttotal: 2m 56s\tremaining: 17m 57s\n",
      "160:\tlearn: 0.3698163\ttotal: 3m 21s\tremaining: 17m 30s\n",
      "180:\tlearn: 0.3592816\ttotal: 3m 46s\tremaining: 17m 3s\n",
      "200:\tlearn: 0.3490752\ttotal: 4m 11s\tremaining: 16m 38s\n",
      "220:\tlearn: 0.3387687\ttotal: 4m 35s\tremaining: 16m 11s\n",
      "240:\tlearn: 0.3311730\ttotal: 5m\tremaining: 15m 47s\n",
      "260:\tlearn: 0.3234520\ttotal: 5m 25s\tremaining: 15m 22s\n",
      "280:\tlearn: 0.3168530\ttotal: 5m 50s\tremaining: 14m 56s\n",
      "300:\tlearn: 0.3105165\ttotal: 6m 15s\tremaining: 14m 31s\n",
      "320:\tlearn: 0.3044275\ttotal: 6m 40s\tremaining: 14m 6s\n",
      "340:\tlearn: 0.2990233\ttotal: 7m 4s\tremaining: 13m 40s\n",
      "360:\tlearn: 0.2940525\ttotal: 7m 29s\tremaining: 13m 16s\n",
      "380:\tlearn: 0.2891049\ttotal: 7m 54s\tremaining: 12m 50s\n",
      "400:\tlearn: 0.2845534\ttotal: 8m 19s\tremaining: 12m 25s\n",
      "420:\tlearn: 0.2799190\ttotal: 8m 44s\tremaining: 12m\n",
      "440:\tlearn: 0.2756301\ttotal: 9m 8s\tremaining: 11m 35s\n",
      "460:\tlearn: 0.2718178\ttotal: 9m 33s\tremaining: 11m 10s\n",
      "480:\tlearn: 0.2676568\ttotal: 9m 57s\tremaining: 10m 44s\n",
      "500:\tlearn: 0.2641018\ttotal: 10m 22s\tremaining: 10m 19s\n",
      "520:\tlearn: 0.2608034\ttotal: 10m 47s\tremaining: 9m 54s\n",
      "540:\tlearn: 0.2575593\ttotal: 11m 11s\tremaining: 9m 29s\n",
      "560:\tlearn: 0.2543030\ttotal: 11m 36s\tremaining: 9m 5s\n",
      "580:\tlearn: 0.2509250\ttotal: 12m\tremaining: 8m 39s\n",
      "600:\tlearn: 0.2482844\ttotal: 12m 25s\tremaining: 8m 14s\n",
      "620:\tlearn: 0.2453452\ttotal: 12m 49s\tremaining: 7m 49s\n",
      "640:\tlearn: 0.2426810\ttotal: 13m 14s\tremaining: 7m 24s\n",
      "660:\tlearn: 0.2401128\ttotal: 13m 38s\tremaining: 6m 59s\n",
      "680:\tlearn: 0.2370692\ttotal: 14m 3s\tremaining: 6m 35s\n",
      "700:\tlearn: 0.2346877\ttotal: 14m 27s\tremaining: 6m 10s\n",
      "720:\tlearn: 0.2322006\ttotal: 14m 52s\tremaining: 5m 45s\n",
      "740:\tlearn: 0.2298952\ttotal: 15m 16s\tremaining: 5m 20s\n",
      "760:\tlearn: 0.2275247\ttotal: 15m 41s\tremaining: 4m 55s\n",
      "780:\tlearn: 0.2251188\ttotal: 16m 6s\tremaining: 4m 30s\n",
      "800:\tlearn: 0.2229268\ttotal: 16m 30s\tremaining: 4m 6s\n",
      "820:\tlearn: 0.2209814\ttotal: 16m 54s\tremaining: 3m 41s\n",
      "840:\tlearn: 0.2188787\ttotal: 17m 19s\tremaining: 3m 16s\n",
      "860:\tlearn: 0.2171304\ttotal: 17m 43s\tremaining: 2m 51s\n",
      "880:\tlearn: 0.2151811\ttotal: 18m 8s\tremaining: 2m 27s\n",
      "900:\tlearn: 0.2128708\ttotal: 18m 33s\tremaining: 2m 2s\n",
      "920:\tlearn: 0.2110496\ttotal: 18m 57s\tremaining: 1m 37s\n",
      "940:\tlearn: 0.2089470\ttotal: 19m 21s\tremaining: 1m 12s\n",
      "960:\tlearn: 0.2074162\ttotal: 19m 45s\tremaining: 48.1s\n",
      "980:\tlearn: 0.2058256\ttotal: 20m 10s\tremaining: 23.5s\n",
      "999:\tlearn: 0.2039196\ttotal: 20m 34s\tremaining: 0us\n",
      "Показатель f1_score в CatBoostClassifier на train выборке 0.7589642854737905\n"
     ]
    }
   ],
   "source": [
    "catboost__f1_train_weighted = cross_val_score(catboost_model, x_train, y_train, scoring='f1', cv = 3).mean()\n",
    "print(f'Показатель f1_score в CatBoostClassifier на train выборке {catboost__f1_train_weighted}')"
   ]
  },
  {
   "cell_type": "code",
   "execution_count": 78,
   "metadata": {},
   "outputs": [],
   "source": [
    "data2 = [logreg_f1_train_weighted, DecTree_f1_train_weighted, RandomForest_f1_train_weighted, catboost__f1_train_weighted]"
   ]
  },
  {
   "cell_type": "code",
   "execution_count": 79,
   "metadata": {
    "scrolled": false
   },
   "outputs": [
    {
     "data": {
      "text/html": [
       "<div>\n",
       "<style scoped>\n",
       "    .dataframe tbody tr th:only-of-type {\n",
       "        vertical-align: middle;\n",
       "    }\n",
       "\n",
       "    .dataframe tbody tr th {\n",
       "        vertical-align: top;\n",
       "    }\n",
       "\n",
       "    .dataframe thead th {\n",
       "        text-align: right;\n",
       "    }\n",
       "</style>\n",
       "<table border=\"1\" class=\"dataframe\">\n",
       "  <thead>\n",
       "    <tr style=\"text-align: right;\">\n",
       "      <th></th>\n",
       "      <th>f1_train_without_balance</th>\n",
       "      <th>f1_train_upsampled</th>\n",
       "      <th>f1_train_weighted</th>\n",
       "    </tr>\n",
       "  </thead>\n",
       "  <tbody>\n",
       "    <tr>\n",
       "      <th>LogisticRegression</th>\n",
       "      <td>0.749576</td>\n",
       "      <td>0.963295</td>\n",
       "      <td>0.755667</td>\n",
       "    </tr>\n",
       "    <tr>\n",
       "      <th>DecisionTreeClassifier</th>\n",
       "      <td>0.659583</td>\n",
       "      <td>0.767837</td>\n",
       "      <td>0.609186</td>\n",
       "    </tr>\n",
       "    <tr>\n",
       "      <th>RandomForestClassifier</th>\n",
       "      <td>0.419286</td>\n",
       "      <td>0.846621</td>\n",
       "      <td>0.416683</td>\n",
       "    </tr>\n",
       "    <tr>\n",
       "      <th>CatBoostClassifier</th>\n",
       "      <td>0.741834</td>\n",
       "      <td>0.949946</td>\n",
       "      <td>0.758964</td>\n",
       "    </tr>\n",
       "  </tbody>\n",
       "</table>\n",
       "</div>"
      ],
      "text/plain": [
       "                        f1_train_without_balance  f1_train_upsampled  \\\n",
       "LogisticRegression                      0.749576            0.963295   \n",
       "DecisionTreeClassifier                  0.659583            0.767837   \n",
       "RandomForestClassifier                  0.419286            0.846621   \n",
       "CatBoostClassifier                      0.741834            0.949946   \n",
       "\n",
       "                        f1_train_weighted  \n",
       "LogisticRegression               0.755667  \n",
       "DecisionTreeClassifier           0.609186  \n",
       "RandomForestClassifier           0.416683  \n",
       "CatBoostClassifier               0.758964  "
      ]
     },
     "execution_count": 79,
     "metadata": {},
     "output_type": "execute_result"
    }
   ],
   "source": [
    "df_f1['f1_train_weighted'] = data2\n",
    "df_f1"
   ]
  },
  {
   "cell_type": "markdown",
   "metadata": {},
   "source": [
    "Из-за того что часто вылетаю умирает Jupyter сохранил датафрейм в тот же файл https://1drv.ms/u/s!AuAtVzzlUFeVgc4ptFqqpcE-x_ns-w?e=T5z1ND "
   ]
  },
  {
   "cell_type": "code",
   "execution_count": 226,
   "metadata": {},
   "outputs": [],
   "source": [
    "df_f1.to_csv(r'C:\\Users\\thund\\OneDrive\\Рабочий стол\\DS\\яндекс\\train_f1.csv')"
   ]
  },
  {
   "cell_type": "code",
   "execution_count": 138,
   "metadata": {},
   "outputs": [
    {
     "data": {
      "text/html": [
       "<div>\n",
       "<style scoped>\n",
       "    .dataframe tbody tr th:only-of-type {\n",
       "        vertical-align: middle;\n",
       "    }\n",
       "\n",
       "    .dataframe tbody tr th {\n",
       "        vertical-align: top;\n",
       "    }\n",
       "\n",
       "    .dataframe thead th {\n",
       "        text-align: right;\n",
       "    }\n",
       "</style>\n",
       "<table border=\"1\" class=\"dataframe\">\n",
       "  <thead>\n",
       "    <tr style=\"text-align: right;\">\n",
       "      <th></th>\n",
       "      <th>Unnamed: 0</th>\n",
       "      <th>f1_train_without_balance</th>\n",
       "      <th>f1_train_upsampled</th>\n",
       "      <th>f1_train_weighted</th>\n",
       "    </tr>\n",
       "  </thead>\n",
       "  <tbody>\n",
       "    <tr>\n",
       "      <th>0</th>\n",
       "      <td>LogisticRegression</td>\n",
       "      <td>0.749576</td>\n",
       "      <td>0.963295</td>\n",
       "      <td>0.755667</td>\n",
       "    </tr>\n",
       "    <tr>\n",
       "      <th>1</th>\n",
       "      <td>DecisionTreeClassifier</td>\n",
       "      <td>0.659583</td>\n",
       "      <td>0.767837</td>\n",
       "      <td>0.609186</td>\n",
       "    </tr>\n",
       "    <tr>\n",
       "      <th>2</th>\n",
       "      <td>RandomForestClassifier</td>\n",
       "      <td>0.419286</td>\n",
       "      <td>0.846621</td>\n",
       "      <td>0.416683</td>\n",
       "    </tr>\n",
       "    <tr>\n",
       "      <th>3</th>\n",
       "      <td>CatBoostClassifier</td>\n",
       "      <td>0.741834</td>\n",
       "      <td>0.949946</td>\n",
       "      <td>0.758964</td>\n",
       "    </tr>\n",
       "  </tbody>\n",
       "</table>\n",
       "</div>"
      ],
      "text/plain": [
       "               Unnamed: 0  f1_train_without_balance  f1_train_upsampled  \\\n",
       "0      LogisticRegression                  0.749576            0.963295   \n",
       "1  DecisionTreeClassifier                  0.659583            0.767837   \n",
       "2  RandomForestClassifier                  0.419286            0.846621   \n",
       "3      CatBoostClassifier                  0.741834            0.949946   \n",
       "\n",
       "   f1_train_weighted  \n",
       "0           0.755667  \n",
       "1           0.609186  \n",
       "2           0.416683  \n",
       "3           0.758964  "
      ]
     },
     "execution_count": 138,
     "metadata": {},
     "output_type": "execute_result"
    }
   ],
   "source": [
    "df_f1 = pd.read_csv(r'C:\\Users\\thund\\OneDrive\\Рабочий стол\\DS\\яндекс\\train_f1.csv')\n",
    "df_f1"
   ]
  },
  {
   "cell_type": "markdown",
   "metadata": {},
   "source": [
    "### Проверка моделей на тесте\n",
    "Оценим качество метрики на тесте лишь для LogisticRegression и CatBoostClassifier, так как данные модели показали хорошее качестов метрики f1_score"
   ]
  },
  {
   "cell_type": "markdown",
   "metadata": {},
   "source": [
    "##### LogisticRegression на тесте"
   ]
  },
  {
   "cell_type": "code",
   "execution_count": 87,
   "metadata": {},
   "outputs": [],
   "source": [
    "logreg_params = {'class_weight': 'balanced', 'solver': 'newton-cg'}"
   ]
  },
  {
   "cell_type": "code",
   "execution_count": 88,
   "metadata": {},
   "outputs": [
    {
     "data": {
      "text/plain": [
       "LogisticRegression(class_weight='balanced', solver='newton-cg')"
      ]
     },
     "execution_count": 88,
     "metadata": {},
     "output_type": "execute_result"
    }
   ],
   "source": [
    "Logreg = LogisticRegression()\n",
    "Logreg.set_params(**logreg_params)"
   ]
  },
  {
   "cell_type": "code",
   "execution_count": 89,
   "metadata": {},
   "outputs": [
    {
     "name": "stdout",
     "output_type": "stream",
     "text": [
      "Wall time: 3.65 s\n"
     ]
    },
    {
     "data": {
      "text/plain": [
       "LogisticRegression(class_weight='balanced', solver='newton-cg')"
      ]
     },
     "execution_count": 89,
     "metadata": {},
     "output_type": "execute_result"
    }
   ],
   "source": [
    "%%time\n",
    "\n",
    "Logreg.fit(x_train, y_train)"
   ]
  },
  {
   "cell_type": "code",
   "execution_count": 90,
   "metadata": {},
   "outputs": [],
   "source": [
    "predict_y = Logreg.predict(x_test)"
   ]
  },
  {
   "cell_type": "code",
   "execution_count": 91,
   "metadata": {},
   "outputs": [
    {
     "name": "stdout",
     "output_type": "stream",
     "text": [
      "Показатель f1_score в LogisticRegression на test выборке 0.7581939032775613\n"
     ]
    }
   ],
   "source": [
    "logreg_f1_test = f1_score(y_test, predict_y)\n",
    "print(f'Показатель f1_score в LogisticRegression на test выборке {logreg_f1_test}')"
   ]
  },
  {
   "cell_type": "markdown",
   "metadata": {},
   "source": [
    "##### LogisticRegression на тесте с учетом изменения веса класса"
   ]
  },
  {
   "cell_type": "code",
   "execution_count": 92,
   "metadata": {},
   "outputs": [],
   "source": [
    "logreg_weight_params = {'class_weight': {0:1, 1:8.834884437596301}, 'solver': 'newton-cg'}"
   ]
  },
  {
   "cell_type": "code",
   "execution_count": 93,
   "metadata": {},
   "outputs": [
    {
     "data": {
      "text/plain": [
       "LogisticRegression(class_weight={0: 1, 1: 8.834884437596301},\n",
       "                   solver='newton-cg')"
      ]
     },
     "execution_count": 93,
     "metadata": {},
     "output_type": "execute_result"
    }
   ],
   "source": [
    "Logreg_weighted = LogisticRegression()\n",
    "Logreg_weighted.set_params(**logreg_weight_params)"
   ]
  },
  {
   "cell_type": "code",
   "execution_count": 94,
   "metadata": {
    "scrolled": true
   },
   "outputs": [
    {
     "name": "stdout",
     "output_type": "stream",
     "text": [
      "Wall time: 3.94 s\n"
     ]
    },
    {
     "data": {
      "text/plain": [
       "LogisticRegression(class_weight={0: 1, 1: 8.834884437596301},\n",
       "                   solver='newton-cg')"
      ]
     },
     "execution_count": 94,
     "metadata": {},
     "output_type": "execute_result"
    }
   ],
   "source": [
    "%%time\n",
    "\n",
    "Logreg_weighted.fit(x_train, y_train)"
   ]
  },
  {
   "cell_type": "code",
   "execution_count": 95,
   "metadata": {},
   "outputs": [],
   "source": [
    "predict_y_weighted = Logreg_weighted.predict(x_test)"
   ]
  },
  {
   "cell_type": "code",
   "execution_count": 97,
   "metadata": {
    "scrolled": true
   },
   "outputs": [
    {
     "name": "stdout",
     "output_type": "stream",
     "text": [
      "Показатель f1_score в LogisticRegression на test выборке 0.7632895195998602\n"
     ]
    }
   ],
   "source": [
    "logreg_f1_test_weighted  = f1_score(y_test, predict_y_weighted)\n",
    "print(f'Показатель f1_score в LogisticRegression на test выборке {logreg_f1_test_weighted}')"
   ]
  },
  {
   "cell_type": "markdown",
   "metadata": {},
   "source": [
    "##### LogisticRegression на тесте Upsampling"
   ]
  },
  {
   "cell_type": "code",
   "execution_count": 98,
   "metadata": {},
   "outputs": [],
   "source": [
    "logreg_params = {'class_weight': 'balanced', 'solver': 'newton-cg'}"
   ]
  },
  {
   "cell_type": "code",
   "execution_count": 99,
   "metadata": {},
   "outputs": [
    {
     "data": {
      "text/plain": [
       "LogisticRegression(class_weight='balanced', solver='newton-cg')"
      ]
     },
     "execution_count": 99,
     "metadata": {},
     "output_type": "execute_result"
    }
   ],
   "source": [
    "Logreg_upsampled = LogisticRegression()\n",
    "Logreg_upsampled.set_params(**logreg_params)"
   ]
  },
  {
   "cell_type": "code",
   "execution_count": 100,
   "metadata": {
    "scrolled": true
   },
   "outputs": [
    {
     "name": "stdout",
     "output_type": "stream",
     "text": [
      "Wall time: 6.24 s\n"
     ]
    },
    {
     "data": {
      "text/plain": [
       "LogisticRegression(class_weight='balanced', solver='newton-cg')"
      ]
     },
     "execution_count": 100,
     "metadata": {},
     "output_type": "execute_result"
    }
   ],
   "source": [
    "%%time\n",
    "\n",
    "Logreg_upsampled.fit(x_train_upsampled, y_train_upsampled)"
   ]
  },
  {
   "cell_type": "code",
   "execution_count": 101,
   "metadata": {
    "scrolled": true
   },
   "outputs": [],
   "source": [
    "predict_y_upsampled = Logreg_upsampled.predict(x_test)"
   ]
  },
  {
   "cell_type": "code",
   "execution_count": 102,
   "metadata": {},
   "outputs": [
    {
     "name": "stdout",
     "output_type": "stream",
     "text": [
      "Показатель f1_score в LogisticRegression на test выборке 0.7508833922261484\n"
     ]
    }
   ],
   "source": [
    "logreg_f1_test_upsampled = f1_score(y_test, predict_y_upsampled)\n",
    "print(f'Показатель f1_score в LogisticRegression на test выборке {logreg_f1_test_upsampled}')"
   ]
  },
  {
   "cell_type": "markdown",
   "metadata": {},
   "source": [
    "##### CatBoostClassifier на тесте"
   ]
  },
  {
   "cell_type": "code",
   "execution_count": 50,
   "metadata": {},
   "outputs": [],
   "source": [
    "catboost_model = CatBoostClassifier(random_state = 42, verbose = 20, )"
   ]
  },
  {
   "cell_type": "code",
   "execution_count": 51,
   "metadata": {
    "scrolled": true
   },
   "outputs": [
    {
     "name": "stdout",
     "output_type": "stream",
     "text": [
      "Learning rate set to 0.079478\n",
      "0:\tlearn: 0.6136806\ttotal: 1.72s\tremaining: 28m 38s\n",
      "20:\tlearn: 0.2373423\ttotal: 38.4s\tremaining: 29m 48s\n",
      "40:\tlearn: 0.2080187\ttotal: 1m 11s\tremaining: 28m 2s\n",
      "60:\tlearn: 0.1947347\ttotal: 1m 45s\tremaining: 26m 57s\n",
      "80:\tlearn: 0.1850258\ttotal: 2m 18s\tremaining: 26m 9s\n",
      "100:\tlearn: 0.1778031\ttotal: 2m 51s\tremaining: 25m 25s\n",
      "120:\tlearn: 0.1720127\ttotal: 3m 24s\tremaining: 24m 44s\n",
      "140:\tlearn: 0.1672912\ttotal: 3m 57s\tremaining: 24m 5s\n",
      "160:\tlearn: 0.1628970\ttotal: 4m 29s\tremaining: 23m 26s\n",
      "180:\tlearn: 0.1586568\ttotal: 5m 2s\tremaining: 22m 50s\n",
      "200:\tlearn: 0.1551989\ttotal: 5m 35s\tremaining: 22m 12s\n",
      "220:\tlearn: 0.1519379\ttotal: 6m 8s\tremaining: 21m 37s\n",
      "240:\tlearn: 0.1490600\ttotal: 6m 40s\tremaining: 21m 2s\n",
      "260:\tlearn: 0.1464873\ttotal: 7m 13s\tremaining: 20m 28s\n",
      "280:\tlearn: 0.1441954\ttotal: 7m 46s\tremaining: 19m 54s\n",
      "300:\tlearn: 0.1421130\ttotal: 8m 19s\tremaining: 19m 19s\n",
      "320:\tlearn: 0.1401196\ttotal: 8m 52s\tremaining: 18m 45s\n",
      "340:\tlearn: 0.1383469\ttotal: 9m 24s\tremaining: 18m 11s\n",
      "360:\tlearn: 0.1365413\ttotal: 9m 57s\tremaining: 17m 37s\n",
      "380:\tlearn: 0.1348158\ttotal: 10m 30s\tremaining: 17m 3s\n",
      "400:\tlearn: 0.1333503\ttotal: 11m 2s\tremaining: 16m 29s\n",
      "420:\tlearn: 0.1319409\ttotal: 11m 35s\tremaining: 15m 56s\n",
      "440:\tlearn: 0.1304597\ttotal: 12m 8s\tremaining: 15m 23s\n",
      "460:\tlearn: 0.1292511\ttotal: 12m 41s\tremaining: 14m 49s\n",
      "480:\tlearn: 0.1280263\ttotal: 13m 14s\tremaining: 14m 17s\n",
      "500:\tlearn: 0.1268640\ttotal: 13m 48s\tremaining: 13m 45s\n",
      "520:\tlearn: 0.1257090\ttotal: 14m 22s\tremaining: 13m 12s\n",
      "540:\tlearn: 0.1244837\ttotal: 14m 55s\tremaining: 12m 39s\n",
      "560:\tlearn: 0.1235809\ttotal: 15m 27s\tremaining: 12m 5s\n",
      "580:\tlearn: 0.1227189\ttotal: 16m\tremaining: 11m 32s\n",
      "600:\tlearn: 0.1218294\ttotal: 16m 33s\tremaining: 10m 59s\n",
      "620:\tlearn: 0.1209793\ttotal: 17m 6s\tremaining: 10m 26s\n",
      "640:\tlearn: 0.1201393\ttotal: 17m 38s\tremaining: 9m 52s\n",
      "660:\tlearn: 0.1191355\ttotal: 18m 11s\tremaining: 9m 19s\n",
      "680:\tlearn: 0.1183336\ttotal: 18m 45s\tremaining: 8m 47s\n",
      "700:\tlearn: 0.1175914\ttotal: 19m 19s\tremaining: 8m 14s\n",
      "720:\tlearn: 0.1167559\ttotal: 19m 53s\tremaining: 7m 41s\n",
      "740:\tlearn: 0.1159341\ttotal: 20m 26s\tremaining: 7m 8s\n",
      "760:\tlearn: 0.1152440\ttotal: 20m 59s\tremaining: 6m 35s\n",
      "780:\tlearn: 0.1144982\ttotal: 21m 31s\tremaining: 6m 2s\n",
      "800:\tlearn: 0.1137727\ttotal: 22m 4s\tremaining: 5m 29s\n",
      "820:\tlearn: 0.1131203\ttotal: 22m 37s\tremaining: 4m 55s\n",
      "840:\tlearn: 0.1124774\ttotal: 23m 10s\tremaining: 4m 22s\n",
      "860:\tlearn: 0.1117635\ttotal: 23m 42s\tremaining: 3m 49s\n",
      "880:\tlearn: 0.1111559\ttotal: 24m 15s\tremaining: 3m 16s\n",
      "900:\tlearn: 0.1104212\ttotal: 24m 48s\tremaining: 2m 43s\n",
      "920:\tlearn: 0.1096284\ttotal: 25m 21s\tremaining: 2m 10s\n",
      "940:\tlearn: 0.1089404\ttotal: 25m 54s\tremaining: 1m 37s\n",
      "960:\tlearn: 0.1083347\ttotal: 26m 27s\tremaining: 1m 4s\n",
      "980:\tlearn: 0.1078061\ttotal: 26m 59s\tremaining: 31.4s\n",
      "999:\tlearn: 0.1070900\ttotal: 27m 30s\tremaining: 0us\n"
     ]
    },
    {
     "data": {
      "text/plain": [
       "<catboost.core.CatBoostClassifier at 0x152dd8b9548>"
      ]
     },
     "execution_count": 51,
     "metadata": {},
     "output_type": "execute_result"
    }
   ],
   "source": [
    "catboost_model.fit(x_train, y_train)"
   ]
  },
  {
   "cell_type": "code",
   "execution_count": 81,
   "metadata": {},
   "outputs": [],
   "source": [
    "cat_predict_y = catboost_model.predict(x_test)"
   ]
  },
  {
   "cell_type": "code",
   "execution_count": 82,
   "metadata": {},
   "outputs": [
    {
     "name": "stdout",
     "output_type": "stream",
     "text": [
      "Показатель f1_score в CatBoostClassifier на test выборке 0.7318310699895538\n"
     ]
    }
   ],
   "source": [
    "catboost_f1_test = f1_score(y_test, cat_predict_y )\n",
    "print(f'Показатель f1_score в CatBoostClassifier на test выборке {catboost_f1_test}')"
   ]
  },
  {
   "cell_type": "markdown",
   "metadata": {},
   "source": [
    "##### CatBoostClassifier на тесте с учетом изменения веса класса"
   ]
  },
  {
   "cell_type": "code",
   "execution_count": 57,
   "metadata": {},
   "outputs": [],
   "source": [
    "catboost_model_weight = CatBoostClassifier(random_state = 42, verbose = 20, class_weights={0: 1, 1: 8.834884437596301})"
   ]
  },
  {
   "cell_type": "code",
   "execution_count": 58,
   "metadata": {},
   "outputs": [
    {
     "name": "stdout",
     "output_type": "stream",
     "text": [
      "Learning rate set to 0.079478\n",
      "0:\tlearn: 0.6576543\ttotal: 1.73s\tremaining: 28m 47s\n",
      "20:\tlearn: 0.4960730\ttotal: 37.2s\tremaining: 28m 54s\n",
      "40:\tlearn: 0.4508399\ttotal: 1m 11s\tremaining: 27m 59s\n",
      "60:\tlearn: 0.4242410\ttotal: 1m 47s\tremaining: 27m 29s\n",
      "80:\tlearn: 0.4044771\ttotal: 2m 22s\tremaining: 26m 58s\n",
      "100:\tlearn: 0.3907624\ttotal: 2m 58s\tremaining: 26m 24s\n",
      "120:\tlearn: 0.3769295\ttotal: 3m 32s\tremaining: 25m 45s\n",
      "140:\tlearn: 0.3645842\ttotal: 4m 10s\tremaining: 25m 25s\n",
      "160:\tlearn: 0.3533815\ttotal: 4m 45s\tremaining: 24m 48s\n",
      "180:\tlearn: 0.3422867\ttotal: 5m 24s\tremaining: 24m 30s\n",
      "200:\tlearn: 0.3329509\ttotal: 5m 58s\tremaining: 23m 45s\n",
      "220:\tlearn: 0.3246282\ttotal: 6m 32s\tremaining: 23m 3s\n",
      "240:\tlearn: 0.3173770\ttotal: 7m 5s\tremaining: 22m 21s\n",
      "260:\tlearn: 0.3104736\ttotal: 7m 39s\tremaining: 21m 41s\n",
      "280:\tlearn: 0.3036453\ttotal: 8m 13s\tremaining: 21m 1s\n",
      "300:\tlearn: 0.2980372\ttotal: 8m 46s\tremaining: 20m 23s\n",
      "320:\tlearn: 0.2931408\ttotal: 9m 19s\tremaining: 19m 43s\n",
      "340:\tlearn: 0.2878740\ttotal: 9m 52s\tremaining: 19m 5s\n",
      "360:\tlearn: 0.2831051\ttotal: 10m 26s\tremaining: 18m 29s\n",
      "380:\tlearn: 0.2790150\ttotal: 11m 1s\tremaining: 17m 54s\n",
      "400:\tlearn: 0.2750362\ttotal: 11m 35s\tremaining: 17m 18s\n",
      "420:\tlearn: 0.2711145\ttotal: 12m 8s\tremaining: 16m 42s\n",
      "440:\tlearn: 0.2672428\ttotal: 12m 41s\tremaining: 16m 5s\n",
      "460:\tlearn: 0.2637019\ttotal: 13m 15s\tremaining: 15m 29s\n",
      "480:\tlearn: 0.2600086\ttotal: 13m 48s\tremaining: 14m 54s\n",
      "500:\tlearn: 0.2566890\ttotal: 14m 21s\tremaining: 14m 18s\n",
      "520:\tlearn: 0.2539002\ttotal: 14m 54s\tremaining: 13m 42s\n",
      "540:\tlearn: 0.2509556\ttotal: 15m 28s\tremaining: 13m 7s\n",
      "560:\tlearn: 0.2482186\ttotal: 16m 1s\tremaining: 12m 32s\n",
      "580:\tlearn: 0.2450499\ttotal: 16m 34s\tremaining: 11m 57s\n",
      "600:\tlearn: 0.2419730\ttotal: 17m 7s\tremaining: 11m 22s\n",
      "620:\tlearn: 0.2395199\ttotal: 17m 41s\tremaining: 10m 47s\n",
      "640:\tlearn: 0.2371662\ttotal: 18m 13s\tremaining: 10m 12s\n",
      "660:\tlearn: 0.2348293\ttotal: 18m 47s\tremaining: 9m 38s\n",
      "680:\tlearn: 0.2322937\ttotal: 19m 20s\tremaining: 9m 3s\n",
      "700:\tlearn: 0.2300811\ttotal: 19m 53s\tremaining: 8m 29s\n",
      "720:\tlearn: 0.2280198\ttotal: 20m 27s\tremaining: 7m 54s\n",
      "740:\tlearn: 0.2259309\ttotal: 21m\tremaining: 7m 20s\n",
      "760:\tlearn: 0.2237153\ttotal: 21m 33s\tremaining: 6m 46s\n",
      "780:\tlearn: 0.2210914\ttotal: 22m 6s\tremaining: 6m 11s\n",
      "800:\tlearn: 0.2191669\ttotal: 22m 39s\tremaining: 5m 37s\n",
      "820:\tlearn: 0.2173864\ttotal: 23m 13s\tremaining: 5m 3s\n",
      "840:\tlearn: 0.2154215\ttotal: 23m 46s\tremaining: 4m 29s\n",
      "860:\tlearn: 0.2133744\ttotal: 24m 19s\tremaining: 3m 55s\n",
      "880:\tlearn: 0.2114101\ttotal: 24m 52s\tremaining: 3m 21s\n",
      "900:\tlearn: 0.2097879\ttotal: 25m 25s\tremaining: 2m 47s\n",
      "920:\tlearn: 0.2080476\ttotal: 25m 58s\tremaining: 2m 13s\n",
      "940:\tlearn: 0.2066083\ttotal: 26m 31s\tremaining: 1m 39s\n",
      "960:\tlearn: 0.2052105\ttotal: 27m 4s\tremaining: 1m 5s\n",
      "980:\tlearn: 0.2037335\ttotal: 27m 37s\tremaining: 32.1s\n",
      "999:\tlearn: 0.2021417\ttotal: 28m 10s\tremaining: 0us\n"
     ]
    },
    {
     "data": {
      "text/plain": [
       "<catboost.core.CatBoostClassifier at 0x152dbef01c8>"
      ]
     },
     "execution_count": 58,
     "metadata": {},
     "output_type": "execute_result"
    }
   ],
   "source": [
    "catboost_model_weight.fit(x_train, y_train)"
   ]
  },
  {
   "cell_type": "code",
   "execution_count": 59,
   "metadata": {},
   "outputs": [],
   "source": [
    "cat_predict_y_weighted = catboost_model_weight.predict(x_test)"
   ]
  },
  {
   "cell_type": "code",
   "execution_count": 60,
   "metadata": {},
   "outputs": [
    {
     "name": "stdout",
     "output_type": "stream",
     "text": [
      "Показатель f1_score в CatBoostClassifier на test выборке 0.7663226255363563\n"
     ]
    }
   ],
   "source": [
    "catboost_f1_test_weighted = f1_score(y_test, cat_predict_y_weighted )\n",
    "print(f'Показатель f1_score в CatBoostClassifier на test выборке {catboost_f1_test_weighted}')"
   ]
  },
  {
   "cell_type": "markdown",
   "metadata": {},
   "source": [
    "##### CatBoostClassifier на тесте Upsample"
   ]
  },
  {
   "cell_type": "code",
   "execution_count": 108,
   "metadata": {},
   "outputs": [],
   "source": [
    "catboost_model_upsampled = CatBoostClassifier(random_state = 42, verbose = 20, )"
   ]
  },
  {
   "cell_type": "code",
   "execution_count": 109,
   "metadata": {
    "scrolled": true
   },
   "outputs": [
    {
     "name": "stdout",
     "output_type": "stream",
     "text": [
      "Learning rate set to 0.104893\n",
      "0:\tlearn: 0.6445284\ttotal: 2.07s\tremaining: 34m 25s\n",
      "20:\tlearn: 0.4727473\ttotal: 40.8s\tremaining: 31m 43s\n",
      "40:\tlearn: 0.4254919\ttotal: 1m 20s\tremaining: 31m 13s\n",
      "60:\tlearn: 0.3953586\ttotal: 1m 57s\tremaining: 30m 6s\n",
      "80:\tlearn: 0.3739800\ttotal: 2m 35s\tremaining: 29m 21s\n",
      "100:\tlearn: 0.3578923\ttotal: 3m 12s\tremaining: 28m 35s\n",
      "120:\tlearn: 0.3429422\ttotal: 3m 49s\tremaining: 27m 50s\n",
      "140:\tlearn: 0.3314279\ttotal: 4m 26s\tremaining: 27m 5s\n",
      "160:\tlearn: 0.3198615\ttotal: 5m 3s\tremaining: 26m 23s\n",
      "180:\tlearn: 0.3109446\ttotal: 5m 42s\tremaining: 25m 48s\n",
      "200:\tlearn: 0.3023077\ttotal: 6m 18s\tremaining: 25m 3s\n",
      "220:\tlearn: 0.2939911\ttotal: 6m 54s\tremaining: 24m 20s\n",
      "240:\tlearn: 0.2869835\ttotal: 7m 30s\tremaining: 23m 39s\n",
      "260:\tlearn: 0.2799163\ttotal: 8m 7s\tremaining: 22m 59s\n",
      "280:\tlearn: 0.2746902\ttotal: 8m 43s\tremaining: 22m 19s\n",
      "300:\tlearn: 0.2693415\ttotal: 9m 19s\tremaining: 21m 39s\n",
      "320:\tlearn: 0.2644601\ttotal: 9m 55s\tremaining: 21m\n",
      "340:\tlearn: 0.2595302\ttotal: 10m 31s\tremaining: 20m 20s\n",
      "360:\tlearn: 0.2549895\ttotal: 11m 7s\tremaining: 19m 41s\n",
      "380:\tlearn: 0.2506592\ttotal: 11m 42s\tremaining: 19m 1s\n",
      "400:\tlearn: 0.2469745\ttotal: 12m 19s\tremaining: 18m 23s\n",
      "420:\tlearn: 0.2431069\ttotal: 12m 54s\tremaining: 17m 44s\n",
      "440:\tlearn: 0.2394591\ttotal: 13m 30s\tremaining: 17m 7s\n",
      "460:\tlearn: 0.2360834\ttotal: 14m 5s\tremaining: 16m 28s\n",
      "480:\tlearn: 0.2328078\ttotal: 14m 41s\tremaining: 15m 51s\n",
      "500:\tlearn: 0.2290658\ttotal: 15m 17s\tremaining: 15m 13s\n",
      "520:\tlearn: 0.2257805\ttotal: 15m 53s\tremaining: 14m 36s\n",
      "540:\tlearn: 0.2225472\ttotal: 16m 28s\tremaining: 13m 59s\n",
      "560:\tlearn: 0.2194830\ttotal: 17m 4s\tremaining: 13m 21s\n",
      "580:\tlearn: 0.2167930\ttotal: 17m 40s\tremaining: 12m 44s\n",
      "600:\tlearn: 0.2139657\ttotal: 18m 15s\tremaining: 12m 7s\n",
      "620:\tlearn: 0.2115263\ttotal: 18m 50s\tremaining: 11m 30s\n",
      "640:\tlearn: 0.2089411\ttotal: 19m 25s\tremaining: 10m 52s\n",
      "660:\tlearn: 0.2069002\ttotal: 20m 1s\tremaining: 10m 16s\n",
      "680:\tlearn: 0.2044428\ttotal: 20m 36s\tremaining: 9m 39s\n",
      "700:\tlearn: 0.2021133\ttotal: 21m 12s\tremaining: 9m 2s\n",
      "720:\tlearn: 0.1996306\ttotal: 21m 48s\tremaining: 8m 26s\n",
      "740:\tlearn: 0.1975703\ttotal: 22m 23s\tremaining: 7m 49s\n",
      "760:\tlearn: 0.1953144\ttotal: 22m 59s\tremaining: 7m 13s\n",
      "780:\tlearn: 0.1932704\ttotal: 23m 34s\tremaining: 6m 36s\n",
      "800:\tlearn: 0.1912352\ttotal: 24m 10s\tremaining: 6m\n",
      "820:\tlearn: 0.1893665\ttotal: 24m 45s\tremaining: 5m 23s\n",
      "840:\tlearn: 0.1875359\ttotal: 25m 21s\tremaining: 4m 47s\n",
      "860:\tlearn: 0.1858376\ttotal: 25m 56s\tremaining: 4m 11s\n",
      "880:\tlearn: 0.1839339\ttotal: 26m 32s\tremaining: 3m 35s\n",
      "900:\tlearn: 0.1820118\ttotal: 27m 7s\tremaining: 2m 58s\n",
      "920:\tlearn: 0.1802939\ttotal: 27m 43s\tremaining: 2m 22s\n",
      "940:\tlearn: 0.1784952\ttotal: 28m 18s\tremaining: 1m 46s\n",
      "960:\tlearn: 0.1768557\ttotal: 28m 54s\tremaining: 1m 10s\n",
      "980:\tlearn: 0.1748081\ttotal: 29m 29s\tremaining: 34.3s\n",
      "999:\tlearn: 0.1730183\ttotal: 30m 4s\tremaining: 0us\n"
     ]
    },
    {
     "data": {
      "text/plain": [
       "<catboost.core.CatBoostClassifier at 0x152e590fd48>"
      ]
     },
     "execution_count": 109,
     "metadata": {},
     "output_type": "execute_result"
    }
   ],
   "source": [
    "catboost_model_upsampled.fit(x_train_upsampled, y_train_upsampled)"
   ]
  },
  {
   "cell_type": "code",
   "execution_count": 110,
   "metadata": {},
   "outputs": [],
   "source": [
    "cat_predict_y_upsampled = catboost_model_upsampled.predict(x_test)"
   ]
  },
  {
   "cell_type": "code",
   "execution_count": 111,
   "metadata": {},
   "outputs": [
    {
     "name": "stdout",
     "output_type": "stream",
     "text": [
      "Показатель f1_score в CatBoostClassifier на test выборке 0.7489784649364992\n"
     ]
    }
   ],
   "source": [
    "catboost_f1_test_upsampled = f1_score(y_test, cat_predict_y_upsampled)\n",
    "print(f'Показатель f1_score в CatBoostClassifier на test выборке {catboost_f1_test_upsampled}')"
   ]
  },
  {
   "cell_type": "markdown",
   "metadata": {},
   "source": [
    "<a id = 'section7'></a>\n",
    "### Выводы\n",
    "Собирем таблицы по нашим моделям, которые показали наилучший результат"
   ]
  },
  {
   "cell_type": "code",
   "execution_count": 112,
   "metadata": {},
   "outputs": [],
   "source": [
    "logregression = [logreg_f1_test, logreg_f1_test_weighted, logreg_f1_test_upsampled]\n",
    "catboostclass = [catboost_f1_test, catboost_f1_test_weighted, catboost_f1_test_upsampled]"
   ]
  },
  {
   "cell_type": "code",
   "execution_count": 149,
   "metadata": {},
   "outputs": [],
   "source": [
    "test =[logreg_f1_test, catboost_f1_test]\n",
    "test_upsampled = [logreg_f1_test_upsampled, catboost_f1_test_upsampled]\n",
    "test_weighted = [logreg_f1_test_weighted, catboost_f1_test_weighted]"
   ]
  },
  {
   "cell_type": "code",
   "execution_count": 140,
   "metadata": {},
   "outputs": [],
   "source": [
    "df_f1.columns = ['index', 'f1_train_without_balance', 'f1_train_upsampled',\n",
    "       'f1_train_weighted']"
   ]
  },
  {
   "cell_type": "code",
   "execution_count": 141,
   "metadata": {
    "scrolled": true
   },
   "outputs": [
    {
     "data": {
      "text/html": [
       "<div>\n",
       "<style scoped>\n",
       "    .dataframe tbody tr th:only-of-type {\n",
       "        vertical-align: middle;\n",
       "    }\n",
       "\n",
       "    .dataframe tbody tr th {\n",
       "        vertical-align: top;\n",
       "    }\n",
       "\n",
       "    .dataframe thead th {\n",
       "        text-align: right;\n",
       "    }\n",
       "</style>\n",
       "<table border=\"1\" class=\"dataframe\">\n",
       "  <thead>\n",
       "    <tr style=\"text-align: right;\">\n",
       "      <th></th>\n",
       "      <th>index</th>\n",
       "      <th>f1_train_without_balance</th>\n",
       "      <th>f1_train_upsampled</th>\n",
       "      <th>f1_train_weighted</th>\n",
       "    </tr>\n",
       "  </thead>\n",
       "  <tbody>\n",
       "    <tr>\n",
       "      <th>0</th>\n",
       "      <td>LogisticRegression</td>\n",
       "      <td>0.749576</td>\n",
       "      <td>0.963295</td>\n",
       "      <td>0.755667</td>\n",
       "    </tr>\n",
       "    <tr>\n",
       "      <th>3</th>\n",
       "      <td>CatBoostClassifier</td>\n",
       "      <td>0.741834</td>\n",
       "      <td>0.949946</td>\n",
       "      <td>0.758964</td>\n",
       "    </tr>\n",
       "  </tbody>\n",
       "</table>\n",
       "</div>"
      ],
      "text/plain": [
       "                index  f1_train_without_balance  f1_train_upsampled  \\\n",
       "0  LogisticRegression                  0.749576            0.963295   \n",
       "3  CatBoostClassifier                  0.741834            0.949946   \n",
       "\n",
       "   f1_train_weighted  \n",
       "0           0.755667  \n",
       "3           0.758964  "
      ]
     },
     "execution_count": 141,
     "metadata": {},
     "output_type": "execute_result"
    }
   ],
   "source": [
    "best_models = df_f1.copy().iloc[[0,3]]"
   ]
  },
  {
   "cell_type": "code",
   "execution_count": 142,
   "metadata": {},
   "outputs": [],
   "source": [
    "best_models = best_models.set_index('index')"
   ]
  },
  {
   "cell_type": "code",
   "execution_count": 150,
   "metadata": {},
   "outputs": [],
   "source": [
    "best_models['f1_test_without_balance'] = test\n",
    "best_models['f1_test_upsampled'] = test_upsampled\n",
    "best_models['f1_test_weighted'] = test_weighted"
   ]
  },
  {
   "cell_type": "code",
   "execution_count": 151,
   "metadata": {},
   "outputs": [
    {
     "data": {
      "text/html": [
       "<div>\n",
       "<style scoped>\n",
       "    .dataframe tbody tr th:only-of-type {\n",
       "        vertical-align: middle;\n",
       "    }\n",
       "\n",
       "    .dataframe tbody tr th {\n",
       "        vertical-align: top;\n",
       "    }\n",
       "\n",
       "    .dataframe thead th {\n",
       "        text-align: right;\n",
       "    }\n",
       "</style>\n",
       "<table border=\"1\" class=\"dataframe\">\n",
       "  <thead>\n",
       "    <tr style=\"text-align: right;\">\n",
       "      <th></th>\n",
       "      <th>f1_train_without_balance</th>\n",
       "      <th>f1_train_upsampled</th>\n",
       "      <th>f1_train_weighted</th>\n",
       "      <th>f1_test_without_balance</th>\n",
       "      <th>f1_test_upsampled</th>\n",
       "      <th>f1_test_weighted</th>\n",
       "    </tr>\n",
       "    <tr>\n",
       "      <th>index</th>\n",
       "      <th></th>\n",
       "      <th></th>\n",
       "      <th></th>\n",
       "      <th></th>\n",
       "      <th></th>\n",
       "      <th></th>\n",
       "    </tr>\n",
       "  </thead>\n",
       "  <tbody>\n",
       "    <tr>\n",
       "      <th>LogisticRegression</th>\n",
       "      <td>0.749576</td>\n",
       "      <td>0.963295</td>\n",
       "      <td>0.755667</td>\n",
       "      <td>0.758194</td>\n",
       "      <td>0.750883</td>\n",
       "      <td>0.763290</td>\n",
       "    </tr>\n",
       "    <tr>\n",
       "      <th>CatBoostClassifier</th>\n",
       "      <td>0.741834</td>\n",
       "      <td>0.949946</td>\n",
       "      <td>0.758964</td>\n",
       "      <td>0.731831</td>\n",
       "      <td>0.748978</td>\n",
       "      <td>0.766323</td>\n",
       "    </tr>\n",
       "  </tbody>\n",
       "</table>\n",
       "</div>"
      ],
      "text/plain": [
       "                    f1_train_without_balance  f1_train_upsampled  \\\n",
       "index                                                              \n",
       "LogisticRegression                  0.749576            0.963295   \n",
       "CatBoostClassifier                  0.741834            0.949946   \n",
       "\n",
       "                    f1_train_weighted  f1_test_without_balance  \\\n",
       "index                                                            \n",
       "LogisticRegression           0.755667                 0.758194   \n",
       "CatBoostClassifier           0.758964                 0.731831   \n",
       "\n",
       "                    f1_test_upsampled  f1_test_weighted  \n",
       "index                                                    \n",
       "LogisticRegression           0.750883          0.763290  \n",
       "CatBoostClassifier           0.748978          0.766323  "
      ]
     },
     "execution_count": 151,
     "metadata": {},
     "output_type": "execute_result"
    }
   ],
   "source": [
    "best_models"
   ]
  },
  {
   "cell_type": "markdown",
   "metadata": {},
   "source": [
    "В ходе работы над проектом было сделано:\n",
    "\n",
    "- Подготовленны данные обучения на моделях.\n",
    "- Выбраны несколько способ баланса классов.\n",
    "- Обучены модели и выбраны лучшие из них.\n",
    "- Составлена сводная таблица по f1_score\n",
    "\n",
    "Исходные данные обладают большим количеством признаков. Созданных столбцов больше, чем записей данных. Так как TF-IDF превращают текст в численные значения, лучшими моделями стали LogisticRegression. CatBoostClassifier тоже показывает себя очень хорошо при долгом обучении на данных. В ходе тестов данный классификатор мог обучатся до 5 часов.\n"
   ]
  },
  {
   "cell_type": "code",
   "execution_count": null,
   "metadata": {},
   "outputs": [],
   "source": []
  }
 ],
 "metadata": {
  "ExecuteTimeLog": [
   {
    "duration": 64,
    "start_time": "2021-08-11T20:57:53.631Z"
   },
   {
    "duration": 212,
    "start_time": "2021-08-11T21:12:31.632Z"
   },
   {
    "duration": 1167,
    "start_time": "2021-08-11T21:12:38.033Z"
   },
   {
    "duration": 1361,
    "start_time": "2021-08-11T21:12:42.819Z"
   },
   {
    "duration": 1910,
    "start_time": "2021-08-11T21:13:32.530Z"
   },
   {
    "duration": 27,
    "start_time": "2021-08-11T21:13:35.803Z"
   },
   {
    "duration": 18,
    "start_time": "2021-08-11T21:13:38.705Z"
   },
   {
    "duration": 5,
    "start_time": "2021-08-11T21:13:49.392Z"
   },
   {
    "duration": 7,
    "start_time": "2021-08-11T21:13:50.438Z"
   },
   {
    "duration": 9,
    "start_time": "2021-08-11T21:14:00.385Z"
   },
   {
    "duration": 10,
    "start_time": "2021-08-11T21:14:01.535Z"
   },
   {
    "duration": 49582,
    "start_time": "2021-08-11T21:15:08.735Z"
   },
   {
    "duration": 98789,
    "start_time": "2021-08-11T21:16:13.047Z"
   },
   {
    "duration": 9,
    "start_time": "2021-08-11T21:18:02.091Z"
   },
   {
    "duration": 4219,
    "start_time": "2021-08-11T21:20:23.018Z"
   },
   {
    "duration": 599,
    "start_time": "2021-08-11T21:20:37.460Z"
   },
   {
    "duration": 27,
    "start_time": "2021-08-11T21:20:38.587Z"
   },
   {
    "duration": 14,
    "start_time": "2021-08-11T21:20:39.495Z"
   },
   {
    "duration": 4,
    "start_time": "2021-08-11T21:20:40.477Z"
   },
   {
    "duration": 6,
    "start_time": "2021-08-11T21:20:41.301Z"
   },
   {
    "duration": 7,
    "start_time": "2021-08-11T21:20:42.051Z"
   },
   {
    "duration": 9,
    "start_time": "2021-08-11T21:20:42.831Z"
   },
   {
    "duration": 100160,
    "start_time": "2021-08-11T21:20:47.436Z"
   },
   {
    "duration": 13,
    "start_time": "2021-08-11T21:22:33.450Z"
   },
   {
    "duration": 3,
    "start_time": "2021-08-11T21:26:00.836Z"
   },
   {
    "duration": 82,
    "start_time": "2021-08-11T21:26:01.641Z"
   },
   {
    "duration": 4,
    "start_time": "2021-08-11T21:26:02.306Z"
   },
   {
    "duration": 4,
    "start_time": "2021-08-11T21:26:03.144Z"
   },
   {
    "duration": 3,
    "start_time": "2021-08-11T21:26:08.036Z"
   },
   {
    "duration": 3,
    "start_time": "2021-08-11T21:26:09.094Z"
   },
   {
    "duration": 126,
    "start_time": "2021-08-11T21:26:13.337Z"
   },
   {
    "duration": 3,
    "start_time": "2021-08-11T21:26:18.963Z"
   },
   {
    "duration": 5751,
    "start_time": "2021-08-11T21:26:22.287Z"
   },
   {
    "duration": 1839,
    "start_time": "2021-08-11T21:26:29.369Z"
   },
   {
    "duration": 4,
    "start_time": "2021-08-11T21:26:41.983Z"
   },
   {
    "duration": 4,
    "start_time": "2021-08-11T21:26:42.948Z"
   },
   {
    "duration": 2,
    "start_time": "2021-08-11T21:30:48.274Z"
   },
   {
    "duration": 3,
    "start_time": "2021-08-11T21:30:49.467Z"
   },
   {
    "duration": 3,
    "start_time": "2021-08-11T21:30:53.647Z"
   }
  ],
  "kernelspec": {
   "display_name": "Python 3",
   "language": "python",
   "name": "python3"
  },
  "language_info": {
   "codemirror_mode": {
    "name": "ipython",
    "version": 3
   },
   "file_extension": ".py",
   "mimetype": "text/x-python",
   "name": "python",
   "nbconvert_exporter": "python",
   "pygments_lexer": "ipython3",
   "version": "3.7.8"
  },
  "toc": {
   "base_numbering": 1,
   "nav_menu": {},
   "number_sections": true,
   "sideBar": true,
   "skip_h1_title": true,
   "title_cell": "Table of Contents",
   "title_sidebar": "Contents",
   "toc_cell": false,
   "toc_position": {},
   "toc_section_display": true,
   "toc_window_display": false
  }
 },
 "nbformat": 4,
 "nbformat_minor": 5
}
