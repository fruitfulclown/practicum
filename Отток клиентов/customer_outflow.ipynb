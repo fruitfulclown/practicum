{
 "cells": [
  {
   "cell_type": "markdown",
   "metadata": {},
   "source": [
    "# Отток клиентов"
   ]
  },
  {
   "cell_type": "markdown",
   "metadata": {},
   "source": [
    "Из «Бета-Банка» стали уходить клиенты. Каждый месяц. Немного, но заметно. Банковские маркетологи посчитали: сохранять текущих клиентов дешевле, чем привлекать новых.\n",
    "\n",
    "Нужно спрогнозировать, уйдёт клиент из банка в ближайшее время или нет. Вам предоставлены исторические данные о поведении клиентов и расторжении договоров с банком. \n",
    "\n",
    "Постройте модель с предельно большим значением *F1*-меры. Чтобы сдать проект успешно, нужно довести метрику до 0.59. Проверьте *F1*-меру на тестовой выборке самостоятельно.\n",
    "\n",
    "Дополнительно измеряйте *AUC-ROC*, сравнивайте её значение с *F1*-мерой.\n",
    "\n",
    "Источник данных: [https://www.kaggle.com/barelydedicated/bank-customer-churn-modeling](https://www.kaggle.com/barelydedicated/bank-customer-churn-modeling)"
   ]
  },
  {
   "cell_type": "markdown",
   "metadata": {},
   "source": [
    "## Легенда\n",
    "\n",
    "### Признаки:\n",
    "- `RowNumber` — индекс строки в данных\n",
    "- `CustomerId` — уникальный идентификатор клиента\n",
    "- `Surname` — фамилия\n",
    "- `CreditScore` — кредитный рейтинг\n",
    "- `Geography` — страна проживания\n",
    "- `Gender` — пол\n",
    "- `Age` — возраст\n",
    "- `Tenure` — количество недвижимости у клиента\n",
    "- `Balance` — баланс на счёте\n",
    "- `NumOfProducts` — количество продуктов банка, используемых клиентом\n",
    "- `HasCrCard` — наличие кредитной карты\n",
    "- `IsActiveMember` — активность клиента\n",
    "- `EstimatedSalary` — предполагаемая зарплата\n",
    "\n",
    "### Целевой признак:\n",
    "- `Exited` — факт ухода клиента"
   ]
  },
  {
   "cell_type": "markdown",
   "metadata": {},
   "source": [
    "Этапы работы\n",
    "1. [Подготовка данных](#section1)\n",
    "2. [Исследование моделей](#section2)\n",
    "3. [Тестирование модели](#section3)"
   ]
  },
  {
   "cell_type": "markdown",
   "metadata": {},
   "source": [
    "<a id = 'section1'></a>\n",
    "#  Подготовка данных"
   ]
  },
  {
   "cell_type": "code",
   "execution_count": 1,
   "metadata": {},
   "outputs": [],
   "source": [
    "import pandas as pd\n",
    "import numpy as np\n",
    "import seaborn as sns\n",
    "from matplotlib import pyplot as plt"
   ]
  },
  {
   "cell_type": "code",
   "execution_count": 2,
   "metadata": {},
   "outputs": [],
   "source": [
    "from sklearn.compose import ColumnTransformer\n",
    "from sklearn.model_selection import train_test_split, cross_val_score, GridSearchCV, RandomizedSearchCV, cross_validate\n",
    "from sklearn.impute import SimpleImputer\n",
    "from sklearn.preprocessing import OneHotEncoder, StandardScaler\n",
    "from sklearn.pipeline import Pipeline\n",
    "from sklearn.ensemble import RandomForestClassifier\n",
    "from sklearn.tree import DecisionTreeClassifier\n",
    "from sklearn.linear_model import LogisticRegression\n",
    "from sklearn.metrics import accuracy_score, f1_score, roc_auc_score, roc_curve, auc\n",
    "from sklearn.utils import shuffle"
   ]
  },
  {
   "cell_type": "code",
   "execution_count": 3,
   "metadata": {},
   "outputs": [],
   "source": [
    "import warnings\n",
    "import sklearn.exceptions\n",
    "warnings.filterwarnings(\"ignore\", category=sklearn.exceptions.UndefinedMetricWarning)"
   ]
  },
  {
   "cell_type": "code",
   "execution_count": 4,
   "metadata": {},
   "outputs": [],
   "source": [
    "df = pd.read_csv('/datasets/Churn.csv')"
   ]
  },
  {
   "cell_type": "code",
   "execution_count": 5,
   "metadata": {
    "scrolled": true
   },
   "outputs": [
    {
     "data": {
      "text/html": [
       "<div>\n",
       "<style scoped>\n",
       "    .dataframe tbody tr th:only-of-type {\n",
       "        vertical-align: middle;\n",
       "    }\n",
       "\n",
       "    .dataframe tbody tr th {\n",
       "        vertical-align: top;\n",
       "    }\n",
       "\n",
       "    .dataframe thead th {\n",
       "        text-align: right;\n",
       "    }\n",
       "</style>\n",
       "<table border=\"1\" class=\"dataframe\">\n",
       "  <thead>\n",
       "    <tr style=\"text-align: right;\">\n",
       "      <th></th>\n",
       "      <th>RowNumber</th>\n",
       "      <th>CustomerId</th>\n",
       "      <th>Surname</th>\n",
       "      <th>CreditScore</th>\n",
       "      <th>Geography</th>\n",
       "      <th>Gender</th>\n",
       "      <th>Age</th>\n",
       "      <th>Tenure</th>\n",
       "      <th>Balance</th>\n",
       "      <th>NumOfProducts</th>\n",
       "      <th>HasCrCard</th>\n",
       "      <th>IsActiveMember</th>\n",
       "      <th>EstimatedSalary</th>\n",
       "      <th>Exited</th>\n",
       "    </tr>\n",
       "  </thead>\n",
       "  <tbody>\n",
       "    <tr>\n",
       "      <td>0</td>\n",
       "      <td>1</td>\n",
       "      <td>15634602</td>\n",
       "      <td>Hargrave</td>\n",
       "      <td>619</td>\n",
       "      <td>France</td>\n",
       "      <td>Female</td>\n",
       "      <td>42</td>\n",
       "      <td>2.0</td>\n",
       "      <td>0.00</td>\n",
       "      <td>1</td>\n",
       "      <td>1</td>\n",
       "      <td>1</td>\n",
       "      <td>101348.88</td>\n",
       "      <td>1</td>\n",
       "    </tr>\n",
       "    <tr>\n",
       "      <td>1</td>\n",
       "      <td>2</td>\n",
       "      <td>15647311</td>\n",
       "      <td>Hill</td>\n",
       "      <td>608</td>\n",
       "      <td>Spain</td>\n",
       "      <td>Female</td>\n",
       "      <td>41</td>\n",
       "      <td>1.0</td>\n",
       "      <td>83807.86</td>\n",
       "      <td>1</td>\n",
       "      <td>0</td>\n",
       "      <td>1</td>\n",
       "      <td>112542.58</td>\n",
       "      <td>0</td>\n",
       "    </tr>\n",
       "    <tr>\n",
       "      <td>2</td>\n",
       "      <td>3</td>\n",
       "      <td>15619304</td>\n",
       "      <td>Onio</td>\n",
       "      <td>502</td>\n",
       "      <td>France</td>\n",
       "      <td>Female</td>\n",
       "      <td>42</td>\n",
       "      <td>8.0</td>\n",
       "      <td>159660.80</td>\n",
       "      <td>3</td>\n",
       "      <td>1</td>\n",
       "      <td>0</td>\n",
       "      <td>113931.57</td>\n",
       "      <td>1</td>\n",
       "    </tr>\n",
       "    <tr>\n",
       "      <td>3</td>\n",
       "      <td>4</td>\n",
       "      <td>15701354</td>\n",
       "      <td>Boni</td>\n",
       "      <td>699</td>\n",
       "      <td>France</td>\n",
       "      <td>Female</td>\n",
       "      <td>39</td>\n",
       "      <td>1.0</td>\n",
       "      <td>0.00</td>\n",
       "      <td>2</td>\n",
       "      <td>0</td>\n",
       "      <td>0</td>\n",
       "      <td>93826.63</td>\n",
       "      <td>0</td>\n",
       "    </tr>\n",
       "    <tr>\n",
       "      <td>4</td>\n",
       "      <td>5</td>\n",
       "      <td>15737888</td>\n",
       "      <td>Mitchell</td>\n",
       "      <td>850</td>\n",
       "      <td>Spain</td>\n",
       "      <td>Female</td>\n",
       "      <td>43</td>\n",
       "      <td>2.0</td>\n",
       "      <td>125510.82</td>\n",
       "      <td>1</td>\n",
       "      <td>1</td>\n",
       "      <td>1</td>\n",
       "      <td>79084.10</td>\n",
       "      <td>0</td>\n",
       "    </tr>\n",
       "  </tbody>\n",
       "</table>\n",
       "</div>"
      ],
      "text/plain": [
       "   RowNumber  CustomerId   Surname  CreditScore Geography  Gender  Age  \\\n",
       "0          1    15634602  Hargrave          619    France  Female   42   \n",
       "1          2    15647311      Hill          608     Spain  Female   41   \n",
       "2          3    15619304      Onio          502    France  Female   42   \n",
       "3          4    15701354      Boni          699    France  Female   39   \n",
       "4          5    15737888  Mitchell          850     Spain  Female   43   \n",
       "\n",
       "   Tenure    Balance  NumOfProducts  HasCrCard  IsActiveMember  \\\n",
       "0     2.0       0.00              1          1               1   \n",
       "1     1.0   83807.86              1          0               1   \n",
       "2     8.0  159660.80              3          1               0   \n",
       "3     1.0       0.00              2          0               0   \n",
       "4     2.0  125510.82              1          1               1   \n",
       "\n",
       "   EstimatedSalary  Exited  \n",
       "0        101348.88       1  \n",
       "1        112542.58       0  \n",
       "2        113931.57       1  \n",
       "3         93826.63       0  \n",
       "4         79084.10       0  "
      ]
     },
     "execution_count": 5,
     "metadata": {},
     "output_type": "execute_result"
    }
   ],
   "source": [
    "df.head()"
   ]
  },
  {
   "cell_type": "markdown",
   "metadata": {},
   "source": [
    "Приведем наименование столбцов к нижнему регистру. На мой взгляд такие признаки как `rownumber`, `customerid`, `surname`несут лишь информативный характер, глупо предполагать что твой id и твоя фамилия оказывают влияние на твое финансовое поведение, остаться клиентом банка или нет, поэтому смело отбросим избыточную информацию."
   ]
  },
  {
   "cell_type": "code",
   "execution_count": 6,
   "metadata": {},
   "outputs": [],
   "source": [
    "df.columns = df.columns.str.lower()\n",
    "df = df.drop(['rownumber', 'customerid', 'surname'], axis = 1)"
   ]
  },
  {
   "cell_type": "code",
   "execution_count": 7,
   "metadata": {
    "scrolled": false
   },
   "outputs": [
    {
     "data": {
      "text/html": [
       "<div>\n",
       "<style scoped>\n",
       "    .dataframe tbody tr th:only-of-type {\n",
       "        vertical-align: middle;\n",
       "    }\n",
       "\n",
       "    .dataframe tbody tr th {\n",
       "        vertical-align: top;\n",
       "    }\n",
       "\n",
       "    .dataframe thead th {\n",
       "        text-align: right;\n",
       "    }\n",
       "</style>\n",
       "<table border=\"1\" class=\"dataframe\">\n",
       "  <thead>\n",
       "    <tr style=\"text-align: right;\">\n",
       "      <th></th>\n",
       "      <th>creditscore</th>\n",
       "      <th>geography</th>\n",
       "      <th>gender</th>\n",
       "      <th>age</th>\n",
       "      <th>tenure</th>\n",
       "      <th>balance</th>\n",
       "      <th>numofproducts</th>\n",
       "      <th>hascrcard</th>\n",
       "      <th>isactivemember</th>\n",
       "      <th>estimatedsalary</th>\n",
       "      <th>exited</th>\n",
       "    </tr>\n",
       "  </thead>\n",
       "  <tbody>\n",
       "    <tr>\n",
       "      <td>0</td>\n",
       "      <td>619</td>\n",
       "      <td>France</td>\n",
       "      <td>Female</td>\n",
       "      <td>42</td>\n",
       "      <td>2.0</td>\n",
       "      <td>0.00</td>\n",
       "      <td>1</td>\n",
       "      <td>1</td>\n",
       "      <td>1</td>\n",
       "      <td>101348.88</td>\n",
       "      <td>1</td>\n",
       "    </tr>\n",
       "    <tr>\n",
       "      <td>1</td>\n",
       "      <td>608</td>\n",
       "      <td>Spain</td>\n",
       "      <td>Female</td>\n",
       "      <td>41</td>\n",
       "      <td>1.0</td>\n",
       "      <td>83807.86</td>\n",
       "      <td>1</td>\n",
       "      <td>0</td>\n",
       "      <td>1</td>\n",
       "      <td>112542.58</td>\n",
       "      <td>0</td>\n",
       "    </tr>\n",
       "    <tr>\n",
       "      <td>2</td>\n",
       "      <td>502</td>\n",
       "      <td>France</td>\n",
       "      <td>Female</td>\n",
       "      <td>42</td>\n",
       "      <td>8.0</td>\n",
       "      <td>159660.80</td>\n",
       "      <td>3</td>\n",
       "      <td>1</td>\n",
       "      <td>0</td>\n",
       "      <td>113931.57</td>\n",
       "      <td>1</td>\n",
       "    </tr>\n",
       "    <tr>\n",
       "      <td>3</td>\n",
       "      <td>699</td>\n",
       "      <td>France</td>\n",
       "      <td>Female</td>\n",
       "      <td>39</td>\n",
       "      <td>1.0</td>\n",
       "      <td>0.00</td>\n",
       "      <td>2</td>\n",
       "      <td>0</td>\n",
       "      <td>0</td>\n",
       "      <td>93826.63</td>\n",
       "      <td>0</td>\n",
       "    </tr>\n",
       "    <tr>\n",
       "      <td>4</td>\n",
       "      <td>850</td>\n",
       "      <td>Spain</td>\n",
       "      <td>Female</td>\n",
       "      <td>43</td>\n",
       "      <td>2.0</td>\n",
       "      <td>125510.82</td>\n",
       "      <td>1</td>\n",
       "      <td>1</td>\n",
       "      <td>1</td>\n",
       "      <td>79084.10</td>\n",
       "      <td>0</td>\n",
       "    </tr>\n",
       "  </tbody>\n",
       "</table>\n",
       "</div>"
      ],
      "text/plain": [
       "   creditscore geography  gender  age  tenure    balance  numofproducts  \\\n",
       "0          619    France  Female   42     2.0       0.00              1   \n",
       "1          608     Spain  Female   41     1.0   83807.86              1   \n",
       "2          502    France  Female   42     8.0  159660.80              3   \n",
       "3          699    France  Female   39     1.0       0.00              2   \n",
       "4          850     Spain  Female   43     2.0  125510.82              1   \n",
       "\n",
       "   hascrcard  isactivemember  estimatedsalary  exited  \n",
       "0          1               1        101348.88       1  \n",
       "1          0               1        112542.58       0  \n",
       "2          1               0        113931.57       1  \n",
       "3          0               0         93826.63       0  \n",
       "4          1               1         79084.10       0  "
      ]
     },
     "execution_count": 7,
     "metadata": {},
     "output_type": "execute_result"
    }
   ],
   "source": [
    "df.head()"
   ]
  },
  {
   "cell_type": "code",
   "execution_count": 8,
   "metadata": {},
   "outputs": [
    {
     "data": {
      "text/plain": [
       "France     5014\n",
       "Germany    2509\n",
       "Spain      2477\n",
       "Name: geography, dtype: int64"
      ]
     },
     "execution_count": 8,
     "metadata": {},
     "output_type": "execute_result"
    }
   ],
   "source": [
    "df['geography'].value_counts()"
   ]
  },
  {
   "cell_type": "markdown",
   "metadata": {},
   "source": [
    "Проведем небольшой предварительный анализ имеющихся данных"
   ]
  },
  {
   "cell_type": "code",
   "execution_count": 9,
   "metadata": {
    "scrolled": true
   },
   "outputs": [
    {
     "data": {
      "text/plain": [
       "creditscore          int64\n",
       "geography           object\n",
       "gender              object\n",
       "age                  int64\n",
       "tenure             float64\n",
       "balance            float64\n",
       "numofproducts        int64\n",
       "hascrcard            int64\n",
       "isactivemember       int64\n",
       "estimatedsalary    float64\n",
       "exited               int64\n",
       "dtype: object"
      ]
     },
     "execution_count": 9,
     "metadata": {},
     "output_type": "execute_result"
    }
   ],
   "source": [
    "df.dtypes"
   ]
  },
  {
   "cell_type": "code",
   "execution_count": 10,
   "metadata": {
    "scrolled": true
   },
   "outputs": [
    {
     "data": {
      "text/html": [
       "<div>\n",
       "<style scoped>\n",
       "    .dataframe tbody tr th:only-of-type {\n",
       "        vertical-align: middle;\n",
       "    }\n",
       "\n",
       "    .dataframe tbody tr th {\n",
       "        vertical-align: top;\n",
       "    }\n",
       "\n",
       "    .dataframe thead th {\n",
       "        text-align: right;\n",
       "    }\n",
       "</style>\n",
       "<table border=\"1\" class=\"dataframe\">\n",
       "  <thead>\n",
       "    <tr style=\"text-align: right;\">\n",
       "      <th></th>\n",
       "      <th>creditscore</th>\n",
       "      <th>age</th>\n",
       "      <th>tenure</th>\n",
       "      <th>balance</th>\n",
       "      <th>numofproducts</th>\n",
       "      <th>hascrcard</th>\n",
       "      <th>isactivemember</th>\n",
       "      <th>estimatedsalary</th>\n",
       "      <th>exited</th>\n",
       "    </tr>\n",
       "  </thead>\n",
       "  <tbody>\n",
       "    <tr>\n",
       "      <td>count</td>\n",
       "      <td>10000.000000</td>\n",
       "      <td>10000.000000</td>\n",
       "      <td>9091.000000</td>\n",
       "      <td>10000.000000</td>\n",
       "      <td>10000.000000</td>\n",
       "      <td>10000.00000</td>\n",
       "      <td>10000.000000</td>\n",
       "      <td>10000.000000</td>\n",
       "      <td>10000.000000</td>\n",
       "    </tr>\n",
       "    <tr>\n",
       "      <td>mean</td>\n",
       "      <td>650.528800</td>\n",
       "      <td>38.921800</td>\n",
       "      <td>4.997690</td>\n",
       "      <td>76485.889288</td>\n",
       "      <td>1.530200</td>\n",
       "      <td>0.70550</td>\n",
       "      <td>0.515100</td>\n",
       "      <td>100090.239881</td>\n",
       "      <td>0.203700</td>\n",
       "    </tr>\n",
       "    <tr>\n",
       "      <td>std</td>\n",
       "      <td>96.653299</td>\n",
       "      <td>10.487806</td>\n",
       "      <td>2.894723</td>\n",
       "      <td>62397.405202</td>\n",
       "      <td>0.581654</td>\n",
       "      <td>0.45584</td>\n",
       "      <td>0.499797</td>\n",
       "      <td>57510.492818</td>\n",
       "      <td>0.402769</td>\n",
       "    </tr>\n",
       "    <tr>\n",
       "      <td>min</td>\n",
       "      <td>350.000000</td>\n",
       "      <td>18.000000</td>\n",
       "      <td>0.000000</td>\n",
       "      <td>0.000000</td>\n",
       "      <td>1.000000</td>\n",
       "      <td>0.00000</td>\n",
       "      <td>0.000000</td>\n",
       "      <td>11.580000</td>\n",
       "      <td>0.000000</td>\n",
       "    </tr>\n",
       "    <tr>\n",
       "      <td>25%</td>\n",
       "      <td>584.000000</td>\n",
       "      <td>32.000000</td>\n",
       "      <td>2.000000</td>\n",
       "      <td>0.000000</td>\n",
       "      <td>1.000000</td>\n",
       "      <td>0.00000</td>\n",
       "      <td>0.000000</td>\n",
       "      <td>51002.110000</td>\n",
       "      <td>0.000000</td>\n",
       "    </tr>\n",
       "    <tr>\n",
       "      <td>50%</td>\n",
       "      <td>652.000000</td>\n",
       "      <td>37.000000</td>\n",
       "      <td>5.000000</td>\n",
       "      <td>97198.540000</td>\n",
       "      <td>1.000000</td>\n",
       "      <td>1.00000</td>\n",
       "      <td>1.000000</td>\n",
       "      <td>100193.915000</td>\n",
       "      <td>0.000000</td>\n",
       "    </tr>\n",
       "    <tr>\n",
       "      <td>75%</td>\n",
       "      <td>718.000000</td>\n",
       "      <td>44.000000</td>\n",
       "      <td>7.000000</td>\n",
       "      <td>127644.240000</td>\n",
       "      <td>2.000000</td>\n",
       "      <td>1.00000</td>\n",
       "      <td>1.000000</td>\n",
       "      <td>149388.247500</td>\n",
       "      <td>0.000000</td>\n",
       "    </tr>\n",
       "    <tr>\n",
       "      <td>max</td>\n",
       "      <td>850.000000</td>\n",
       "      <td>92.000000</td>\n",
       "      <td>10.000000</td>\n",
       "      <td>250898.090000</td>\n",
       "      <td>4.000000</td>\n",
       "      <td>1.00000</td>\n",
       "      <td>1.000000</td>\n",
       "      <td>199992.480000</td>\n",
       "      <td>1.000000</td>\n",
       "    </tr>\n",
       "  </tbody>\n",
       "</table>\n",
       "</div>"
      ],
      "text/plain": [
       "        creditscore           age       tenure        balance  numofproducts  \\\n",
       "count  10000.000000  10000.000000  9091.000000   10000.000000   10000.000000   \n",
       "mean     650.528800     38.921800     4.997690   76485.889288       1.530200   \n",
       "std       96.653299     10.487806     2.894723   62397.405202       0.581654   \n",
       "min      350.000000     18.000000     0.000000       0.000000       1.000000   \n",
       "25%      584.000000     32.000000     2.000000       0.000000       1.000000   \n",
       "50%      652.000000     37.000000     5.000000   97198.540000       1.000000   \n",
       "75%      718.000000     44.000000     7.000000  127644.240000       2.000000   \n",
       "max      850.000000     92.000000    10.000000  250898.090000       4.000000   \n",
       "\n",
       "         hascrcard  isactivemember  estimatedsalary        exited  \n",
       "count  10000.00000    10000.000000     10000.000000  10000.000000  \n",
       "mean       0.70550        0.515100    100090.239881      0.203700  \n",
       "std        0.45584        0.499797     57510.492818      0.402769  \n",
       "min        0.00000        0.000000        11.580000      0.000000  \n",
       "25%        0.00000        0.000000     51002.110000      0.000000  \n",
       "50%        1.00000        1.000000    100193.915000      0.000000  \n",
       "75%        1.00000        1.000000    149388.247500      0.000000  \n",
       "max        1.00000        1.000000    199992.480000      1.000000  "
      ]
     },
     "execution_count": 10,
     "metadata": {},
     "output_type": "execute_result"
    }
   ],
   "source": [
    "df.describe()"
   ]
  },
  {
   "cell_type": "code",
   "execution_count": 11,
   "metadata": {
    "scrolled": false
   },
   "outputs": [
    {
     "data": {
      "text/plain": [
       "creditscore        0.0000\n",
       "geography          0.0000\n",
       "gender             0.0000\n",
       "age                0.0000\n",
       "tenure             0.0909\n",
       "balance            0.0000\n",
       "numofproducts      0.0000\n",
       "hascrcard          0.0000\n",
       "isactivemember     0.0000\n",
       "estimatedsalary    0.0000\n",
       "exited             0.0000\n",
       "dtype: float64"
      ]
     },
     "execution_count": 11,
     "metadata": {},
     "output_type": "execute_result"
    }
   ],
   "source": [
    "df.isna().mean()"
   ]
  },
  {
   "cell_type": "code",
   "execution_count": 12,
   "metadata": {},
   "outputs": [
    {
     "data": {
      "text/plain": [
       "0.3617"
      ]
     },
     "execution_count": 12,
     "metadata": {},
     "output_type": "execute_result"
    }
   ],
   "source": [
    "len(df[df['balance'] == 0])/len(df)"
   ]
  },
  {
   "cell_type": "markdown",
   "metadata": {},
   "source": [
    "36% клиентов имеют 0 баланс на счете, можем предположить, что люди не сильно заинтересованы в услугах данного банка.  У многих открыты зарплатные счета в тех банках, в которых открыт зарплатный проект у работадателя, и многие после получения зп переводят средства в сторонний банк. Нулевой баланс почти у 40% клиентов, поэтому хочу выделить такую закономерность в отдельный признак `zero_balance` если остаток нулевой то значение 1 и наоборот."
   ]
  },
  {
   "cell_type": "code",
   "execution_count": 13,
   "metadata": {},
   "outputs": [],
   "source": [
    "df['zero_balance'] = df['balance'].isin([0])*1"
   ]
  },
  {
   "cell_type": "code",
   "execution_count": 14,
   "metadata": {
    "scrolled": false
   },
   "outputs": [
    {
     "data": {
      "text/html": [
       "<div>\n",
       "<style scoped>\n",
       "    .dataframe tbody tr th:only-of-type {\n",
       "        vertical-align: middle;\n",
       "    }\n",
       "\n",
       "    .dataframe tbody tr th {\n",
       "        vertical-align: top;\n",
       "    }\n",
       "\n",
       "    .dataframe thead th {\n",
       "        text-align: right;\n",
       "    }\n",
       "</style>\n",
       "<table border=\"1\" class=\"dataframe\">\n",
       "  <thead>\n",
       "    <tr style=\"text-align: right;\">\n",
       "      <th></th>\n",
       "      <th>creditscore</th>\n",
       "      <th>geography</th>\n",
       "      <th>gender</th>\n",
       "      <th>age</th>\n",
       "      <th>tenure</th>\n",
       "      <th>balance</th>\n",
       "      <th>numofproducts</th>\n",
       "      <th>hascrcard</th>\n",
       "      <th>isactivemember</th>\n",
       "      <th>estimatedsalary</th>\n",
       "      <th>exited</th>\n",
       "      <th>zero_balance</th>\n",
       "    </tr>\n",
       "  </thead>\n",
       "  <tbody>\n",
       "    <tr>\n",
       "      <td>0</td>\n",
       "      <td>619</td>\n",
       "      <td>France</td>\n",
       "      <td>Female</td>\n",
       "      <td>42</td>\n",
       "      <td>2.0</td>\n",
       "      <td>0.00</td>\n",
       "      <td>1</td>\n",
       "      <td>1</td>\n",
       "      <td>1</td>\n",
       "      <td>101348.88</td>\n",
       "      <td>1</td>\n",
       "      <td>1</td>\n",
       "    </tr>\n",
       "    <tr>\n",
       "      <td>1</td>\n",
       "      <td>608</td>\n",
       "      <td>Spain</td>\n",
       "      <td>Female</td>\n",
       "      <td>41</td>\n",
       "      <td>1.0</td>\n",
       "      <td>83807.86</td>\n",
       "      <td>1</td>\n",
       "      <td>0</td>\n",
       "      <td>1</td>\n",
       "      <td>112542.58</td>\n",
       "      <td>0</td>\n",
       "      <td>0</td>\n",
       "    </tr>\n",
       "    <tr>\n",
       "      <td>2</td>\n",
       "      <td>502</td>\n",
       "      <td>France</td>\n",
       "      <td>Female</td>\n",
       "      <td>42</td>\n",
       "      <td>8.0</td>\n",
       "      <td>159660.80</td>\n",
       "      <td>3</td>\n",
       "      <td>1</td>\n",
       "      <td>0</td>\n",
       "      <td>113931.57</td>\n",
       "      <td>1</td>\n",
       "      <td>0</td>\n",
       "    </tr>\n",
       "    <tr>\n",
       "      <td>3</td>\n",
       "      <td>699</td>\n",
       "      <td>France</td>\n",
       "      <td>Female</td>\n",
       "      <td>39</td>\n",
       "      <td>1.0</td>\n",
       "      <td>0.00</td>\n",
       "      <td>2</td>\n",
       "      <td>0</td>\n",
       "      <td>0</td>\n",
       "      <td>93826.63</td>\n",
       "      <td>0</td>\n",
       "      <td>1</td>\n",
       "    </tr>\n",
       "    <tr>\n",
       "      <td>4</td>\n",
       "      <td>850</td>\n",
       "      <td>Spain</td>\n",
       "      <td>Female</td>\n",
       "      <td>43</td>\n",
       "      <td>2.0</td>\n",
       "      <td>125510.82</td>\n",
       "      <td>1</td>\n",
       "      <td>1</td>\n",
       "      <td>1</td>\n",
       "      <td>79084.10</td>\n",
       "      <td>0</td>\n",
       "      <td>0</td>\n",
       "    </tr>\n",
       "  </tbody>\n",
       "</table>\n",
       "</div>"
      ],
      "text/plain": [
       "   creditscore geography  gender  age  tenure    balance  numofproducts  \\\n",
       "0          619    France  Female   42     2.0       0.00              1   \n",
       "1          608     Spain  Female   41     1.0   83807.86              1   \n",
       "2          502    France  Female   42     8.0  159660.80              3   \n",
       "3          699    France  Female   39     1.0       0.00              2   \n",
       "4          850     Spain  Female   43     2.0  125510.82              1   \n",
       "\n",
       "   hascrcard  isactivemember  estimatedsalary  exited  zero_balance  \n",
       "0          1               1        101348.88       1             1  \n",
       "1          0               1        112542.58       0             0  \n",
       "2          1               0        113931.57       1             0  \n",
       "3          0               0         93826.63       0             1  \n",
       "4          1               1         79084.10       0             0  "
      ]
     },
     "execution_count": 14,
     "metadata": {},
     "output_type": "execute_result"
    }
   ],
   "source": [
    "df.head()"
   ]
  },
  {
   "cell_type": "markdown",
   "metadata": {},
   "source": [
    "Фокус удался. Разделем выборку на признаки и целевой признак. Выделим тестовую и учебную выборки. При обучении будем использовать кросс валидацию, поэтому валидационной выборки не будет."
   ]
  },
  {
   "cell_type": "code",
   "execution_count": 15,
   "metadata": {},
   "outputs": [],
   "source": [
    "x = df.drop('exited', axis = 1)\n",
    "y = df.exited"
   ]
  },
  {
   "cell_type": "code",
   "execution_count": 16,
   "metadata": {},
   "outputs": [],
   "source": [
    "x_train, x_test, y_train, y_test = train_test_split(x, y, test_size = 0.25, stratify = y, random_state = 0)"
   ]
  },
  {
   "cell_type": "code",
   "execution_count": 17,
   "metadata": {},
   "outputs": [
    {
     "name": "stdout",
     "output_type": "stream",
     "text": [
      "Распеределение целевого признака на выборке: 0.2037\n",
      "Распеределение целевого признака на обучающей выборке: 0.20373\n",
      "Распеределение целевого признака на тестовой выборке: 0.2036\n"
     ]
    }
   ],
   "source": [
    "print ('Распеределение целевого признака на выборке:', round(y.mean(), 5))\n",
    "print ('Распеределение целевого признака на обучающей выборке:', round(y_train.mean(), 5))\n",
    "print ('Распеределение целевого признака на тестовой выборке:', round(y_test.mean(), 5))"
   ]
  },
  {
   "cell_type": "markdown",
   "metadata": {},
   "source": [
    "Получили достаточно равномерное распределение признака в выборках целевого признака. Однако достаточно маленькая доля `exited = 1`, что может негативно отразиться на предсказательной моделе. Посмотрим что получиться, затем будем заниматься балансировкой."
   ]
  },
  {
   "cell_type": "code",
   "execution_count": 18,
   "metadata": {},
   "outputs": [
    {
     "data": {
      "text/html": [
       "<div>\n",
       "<style scoped>\n",
       "    .dataframe tbody tr th:only-of-type {\n",
       "        vertical-align: middle;\n",
       "    }\n",
       "\n",
       "    .dataframe tbody tr th {\n",
       "        vertical-align: top;\n",
       "    }\n",
       "\n",
       "    .dataframe thead th {\n",
       "        text-align: right;\n",
       "    }\n",
       "</style>\n",
       "<table border=\"1\" class=\"dataframe\">\n",
       "  <thead>\n",
       "    <tr style=\"text-align: right;\">\n",
       "      <th></th>\n",
       "      <th>creditscore</th>\n",
       "      <th>geography</th>\n",
       "      <th>gender</th>\n",
       "      <th>age</th>\n",
       "      <th>tenure</th>\n",
       "      <th>balance</th>\n",
       "      <th>numofproducts</th>\n",
       "      <th>hascrcard</th>\n",
       "      <th>isactivemember</th>\n",
       "      <th>estimatedsalary</th>\n",
       "      <th>exited</th>\n",
       "      <th>zero_balance</th>\n",
       "    </tr>\n",
       "  </thead>\n",
       "  <tbody>\n",
       "    <tr>\n",
       "      <td>0</td>\n",
       "      <td>619</td>\n",
       "      <td>France</td>\n",
       "      <td>Female</td>\n",
       "      <td>42</td>\n",
       "      <td>2.0</td>\n",
       "      <td>0.00</td>\n",
       "      <td>1</td>\n",
       "      <td>1</td>\n",
       "      <td>1</td>\n",
       "      <td>101348.88</td>\n",
       "      <td>1</td>\n",
       "      <td>1</td>\n",
       "    </tr>\n",
       "    <tr>\n",
       "      <td>1</td>\n",
       "      <td>608</td>\n",
       "      <td>Spain</td>\n",
       "      <td>Female</td>\n",
       "      <td>41</td>\n",
       "      <td>1.0</td>\n",
       "      <td>83807.86</td>\n",
       "      <td>1</td>\n",
       "      <td>0</td>\n",
       "      <td>1</td>\n",
       "      <td>112542.58</td>\n",
       "      <td>0</td>\n",
       "      <td>0</td>\n",
       "    </tr>\n",
       "    <tr>\n",
       "      <td>2</td>\n",
       "      <td>502</td>\n",
       "      <td>France</td>\n",
       "      <td>Female</td>\n",
       "      <td>42</td>\n",
       "      <td>8.0</td>\n",
       "      <td>159660.80</td>\n",
       "      <td>3</td>\n",
       "      <td>1</td>\n",
       "      <td>0</td>\n",
       "      <td>113931.57</td>\n",
       "      <td>1</td>\n",
       "      <td>0</td>\n",
       "    </tr>\n",
       "    <tr>\n",
       "      <td>3</td>\n",
       "      <td>699</td>\n",
       "      <td>France</td>\n",
       "      <td>Female</td>\n",
       "      <td>39</td>\n",
       "      <td>1.0</td>\n",
       "      <td>0.00</td>\n",
       "      <td>2</td>\n",
       "      <td>0</td>\n",
       "      <td>0</td>\n",
       "      <td>93826.63</td>\n",
       "      <td>0</td>\n",
       "      <td>1</td>\n",
       "    </tr>\n",
       "    <tr>\n",
       "      <td>4</td>\n",
       "      <td>850</td>\n",
       "      <td>Spain</td>\n",
       "      <td>Female</td>\n",
       "      <td>43</td>\n",
       "      <td>2.0</td>\n",
       "      <td>125510.82</td>\n",
       "      <td>1</td>\n",
       "      <td>1</td>\n",
       "      <td>1</td>\n",
       "      <td>79084.10</td>\n",
       "      <td>0</td>\n",
       "      <td>0</td>\n",
       "    </tr>\n",
       "  </tbody>\n",
       "</table>\n",
       "</div>"
      ],
      "text/plain": [
       "   creditscore geography  gender  age  tenure    balance  numofproducts  \\\n",
       "0          619    France  Female   42     2.0       0.00              1   \n",
       "1          608     Spain  Female   41     1.0   83807.86              1   \n",
       "2          502    France  Female   42     8.0  159660.80              3   \n",
       "3          699    France  Female   39     1.0       0.00              2   \n",
       "4          850     Spain  Female   43     2.0  125510.82              1   \n",
       "\n",
       "   hascrcard  isactivemember  estimatedsalary  exited  zero_balance  \n",
       "0          1               1        101348.88       1             1  \n",
       "1          0               1        112542.58       0             0  \n",
       "2          1               0        113931.57       1             0  \n",
       "3          0               0         93826.63       0             1  \n",
       "4          1               1         79084.10       0             0  "
      ]
     },
     "execution_count": 18,
     "metadata": {},
     "output_type": "execute_result"
    }
   ],
   "source": [
    "df.head()"
   ]
  },
  {
   "cell_type": "markdown",
   "metadata": {},
   "source": [
    "Напишем общий pipeline для предобработки данных"
   ]
  },
  {
   "cell_type": "markdown",
   "metadata": {},
   "source": [
    "Первый шаг pipeline - напишум логику для заполнения пропущенных значений, для категориальных по моде, для численных значений по медиане"
   ]
  },
  {
   "cell_type": "code",
   "execution_count": 19,
   "metadata": {},
   "outputs": [],
   "source": [
    "trf1 = ColumnTransformer(transformers =[\n",
    "    ('cat', SimpleImputer(strategy ='most_frequent'), [\n",
    "        'geography', 'gender', 'numofproducts','hascrcard', 'isactivemember', 'zero_balance'\n",
    "    ]),\n",
    "    \n",
    "    ('num', SimpleImputer(strategy ='median'), ['creditscore', 'age', 'tenure', 'balance', 'estimatedsalary']),\n",
    "      \n",
    "], remainder ='passthrough')"
   ]
  },
  {
   "cell_type": "code",
   "execution_count": 20,
   "metadata": {
    "scrolled": false
   },
   "outputs": [],
   "source": [
    "first_step = trf1.fit_transform(x_train)"
   ]
  },
  {
   "cell_type": "code",
   "execution_count": 21,
   "metadata": {},
   "outputs": [
    {
     "data": {
      "text/html": [
       "<div>\n",
       "<style scoped>\n",
       "    .dataframe tbody tr th:only-of-type {\n",
       "        vertical-align: middle;\n",
       "    }\n",
       "\n",
       "    .dataframe tbody tr th {\n",
       "        vertical-align: top;\n",
       "    }\n",
       "\n",
       "    .dataframe thead th {\n",
       "        text-align: right;\n",
       "    }\n",
       "</style>\n",
       "<table border=\"1\" class=\"dataframe\">\n",
       "  <thead>\n",
       "    <tr style=\"text-align: right;\">\n",
       "      <th></th>\n",
       "      <th>0</th>\n",
       "      <th>1</th>\n",
       "      <th>2</th>\n",
       "      <th>3</th>\n",
       "      <th>4</th>\n",
       "      <th>5</th>\n",
       "      <th>6</th>\n",
       "      <th>7</th>\n",
       "      <th>8</th>\n",
       "      <th>9</th>\n",
       "      <th>10</th>\n",
       "    </tr>\n",
       "  </thead>\n",
       "  <tbody>\n",
       "    <tr>\n",
       "      <td>0</td>\n",
       "      <td>Spain</td>\n",
       "      <td>Female</td>\n",
       "      <td>1</td>\n",
       "      <td>1</td>\n",
       "      <td>0</td>\n",
       "      <td>1</td>\n",
       "      <td>544</td>\n",
       "      <td>53</td>\n",
       "      <td>9</td>\n",
       "      <td>0</td>\n",
       "      <td>125692</td>\n",
       "    </tr>\n",
       "    <tr>\n",
       "      <td>1</td>\n",
       "      <td>Germany</td>\n",
       "      <td>Male</td>\n",
       "      <td>1</td>\n",
       "      <td>1</td>\n",
       "      <td>0</td>\n",
       "      <td>0</td>\n",
       "      <td>747</td>\n",
       "      <td>38</td>\n",
       "      <td>2</td>\n",
       "      <td>129729</td>\n",
       "      <td>89289.5</td>\n",
       "    </tr>\n",
       "    <tr>\n",
       "      <td>2</td>\n",
       "      <td>France</td>\n",
       "      <td>Male</td>\n",
       "      <td>1</td>\n",
       "      <td>1</td>\n",
       "      <td>1</td>\n",
       "      <td>0</td>\n",
       "      <td>642</td>\n",
       "      <td>40</td>\n",
       "      <td>5</td>\n",
       "      <td>154863</td>\n",
       "      <td>138053</td>\n",
       "    </tr>\n",
       "    <tr>\n",
       "      <td>3</td>\n",
       "      <td>France</td>\n",
       "      <td>Female</td>\n",
       "      <td>1</td>\n",
       "      <td>1</td>\n",
       "      <td>0</td>\n",
       "      <td>1</td>\n",
       "      <td>593</td>\n",
       "      <td>41</td>\n",
       "      <td>6</td>\n",
       "      <td>0</td>\n",
       "      <td>65170.7</td>\n",
       "    </tr>\n",
       "    <tr>\n",
       "      <td>4</td>\n",
       "      <td>France</td>\n",
       "      <td>Male</td>\n",
       "      <td>1</td>\n",
       "      <td>1</td>\n",
       "      <td>0</td>\n",
       "      <td>0</td>\n",
       "      <td>464</td>\n",
       "      <td>46</td>\n",
       "      <td>6</td>\n",
       "      <td>161799</td>\n",
       "      <td>182944</td>\n",
       "    </tr>\n",
       "    <tr>\n",
       "      <td>...</td>\n",
       "      <td>...</td>\n",
       "      <td>...</td>\n",
       "      <td>...</td>\n",
       "      <td>...</td>\n",
       "      <td>...</td>\n",
       "      <td>...</td>\n",
       "      <td>...</td>\n",
       "      <td>...</td>\n",
       "      <td>...</td>\n",
       "      <td>...</td>\n",
       "      <td>...</td>\n",
       "    </tr>\n",
       "    <tr>\n",
       "      <td>7495</td>\n",
       "      <td>Spain</td>\n",
       "      <td>Male</td>\n",
       "      <td>2</td>\n",
       "      <td>1</td>\n",
       "      <td>0</td>\n",
       "      <td>1</td>\n",
       "      <td>644</td>\n",
       "      <td>18</td>\n",
       "      <td>8</td>\n",
       "      <td>0</td>\n",
       "      <td>59172.4</td>\n",
       "    </tr>\n",
       "    <tr>\n",
       "      <td>7496</td>\n",
       "      <td>Germany</td>\n",
       "      <td>Male</td>\n",
       "      <td>2</td>\n",
       "      <td>0</td>\n",
       "      <td>1</td>\n",
       "      <td>0</td>\n",
       "      <td>850</td>\n",
       "      <td>41</td>\n",
       "      <td>1</td>\n",
       "      <td>176958</td>\n",
       "      <td>125806</td>\n",
       "    </tr>\n",
       "    <tr>\n",
       "      <td>7497</td>\n",
       "      <td>Germany</td>\n",
       "      <td>Female</td>\n",
       "      <td>1</td>\n",
       "      <td>1</td>\n",
       "      <td>1</td>\n",
       "      <td>0</td>\n",
       "      <td>697</td>\n",
       "      <td>38</td>\n",
       "      <td>6</td>\n",
       "      <td>132591</td>\n",
       "      <td>7387.8</td>\n",
       "    </tr>\n",
       "    <tr>\n",
       "      <td>7498</td>\n",
       "      <td>France</td>\n",
       "      <td>Female</td>\n",
       "      <td>2</td>\n",
       "      <td>1</td>\n",
       "      <td>1</td>\n",
       "      <td>0</td>\n",
       "      <td>722</td>\n",
       "      <td>35</td>\n",
       "      <td>2</td>\n",
       "      <td>163944</td>\n",
       "      <td>15068.2</td>\n",
       "    </tr>\n",
       "    <tr>\n",
       "      <td>7499</td>\n",
       "      <td>Spain</td>\n",
       "      <td>Male</td>\n",
       "      <td>2</td>\n",
       "      <td>1</td>\n",
       "      <td>0</td>\n",
       "      <td>1</td>\n",
       "      <td>743</td>\n",
       "      <td>25</td>\n",
       "      <td>6</td>\n",
       "      <td>0</td>\n",
       "      <td>129740</td>\n",
       "    </tr>\n",
       "  </tbody>\n",
       "</table>\n",
       "<p>7500 rows × 11 columns</p>\n",
       "</div>"
      ],
      "text/plain": [
       "            0       1  2  3  4  5    6   7  8       9       10\n",
       "0       Spain  Female  1  1  0  1  544  53  9       0   125692\n",
       "1     Germany    Male  1  1  0  0  747  38  2  129729  89289.5\n",
       "2      France    Male  1  1  1  0  642  40  5  154863   138053\n",
       "3      France  Female  1  1  0  1  593  41  6       0  65170.7\n",
       "4      France    Male  1  1  0  0  464  46  6  161799   182944\n",
       "...       ...     ... .. .. .. ..  ...  .. ..     ...      ...\n",
       "7495    Spain    Male  2  1  0  1  644  18  8       0  59172.4\n",
       "7496  Germany    Male  2  0  1  0  850  41  1  176958   125806\n",
       "7497  Germany  Female  1  1  1  0  697  38  6  132591   7387.8\n",
       "7498   France  Female  2  1  1  0  722  35  2  163944  15068.2\n",
       "7499    Spain    Male  2  1  0  1  743  25  6       0   129740\n",
       "\n",
       "[7500 rows x 11 columns]"
      ]
     },
     "execution_count": 21,
     "metadata": {},
     "output_type": "execute_result"
    }
   ],
   "source": [
    "pd.DataFrame(first_step)"
   ]
  },
  {
   "cell_type": "code",
   "execution_count": 22,
   "metadata": {
    "scrolled": true
   },
   "outputs": [
    {
     "data": {
      "text/plain": [
       "creditscore        0.0\n",
       "geography          0.0\n",
       "gender             0.0\n",
       "age                0.0\n",
       "tenure             0.0\n",
       "balance            0.0\n",
       "numofproducts      0.0\n",
       "hascrcard          0.0\n",
       "isactivemember     0.0\n",
       "estimatedsalary    0.0\n",
       "zero_balance       0.0\n",
       "dtype: float64"
      ]
     },
     "execution_count": 22,
     "metadata": {},
     "output_type": "execute_result"
    }
   ],
   "source": [
    "pd.DataFrame(first_step, columns=x.columns).isna().mean()"
   ]
  },
  {
   "cell_type": "markdown",
   "metadata": {},
   "source": [
    "Мини проверка - пропущенных значений нет, можно двигаться дальше"
   ]
  },
  {
   "cell_type": "markdown",
   "metadata": {},
   "source": [
    "Второй шаг - используем OHE для преобразование наших признаков, данный метод подходит как для логистической регресси так и для деревьев"
   ]
  },
  {
   "cell_type": "code",
   "execution_count": 23,
   "metadata": {},
   "outputs": [],
   "source": [
    "trf2 = ColumnTransformer(transformers =[\n",
    "    ('enc', OneHotEncoder(sparse = False, drop ='first'), list(range(2))),\n",
    "], remainder ='passthrough')"
   ]
  },
  {
   "cell_type": "code",
   "execution_count": 24,
   "metadata": {},
   "outputs": [],
   "source": [
    "second_step = trf2.fit_transform(x_train)"
   ]
  },
  {
   "cell_type": "code",
   "execution_count": 25,
   "metadata": {
    "scrolled": false
   },
   "outputs": [
    {
     "data": {
      "text/html": [
       "<div>\n",
       "<style scoped>\n",
       "    .dataframe tbody tr th:only-of-type {\n",
       "        vertical-align: middle;\n",
       "    }\n",
       "\n",
       "    .dataframe tbody tr th {\n",
       "        vertical-align: top;\n",
       "    }\n",
       "\n",
       "    .dataframe thead th {\n",
       "        text-align: right;\n",
       "    }\n",
       "</style>\n",
       "<table border=\"1\" class=\"dataframe\">\n",
       "  <thead>\n",
       "    <tr style=\"text-align: right;\">\n",
       "      <th></th>\n",
       "      <th>0</th>\n",
       "      <th>1</th>\n",
       "      <th>2</th>\n",
       "      <th>3</th>\n",
       "      <th>4</th>\n",
       "      <th>5</th>\n",
       "      <th>6</th>\n",
       "      <th>7</th>\n",
       "      <th>8</th>\n",
       "      <th>9</th>\n",
       "      <th>...</th>\n",
       "      <th>455</th>\n",
       "      <th>456</th>\n",
       "      <th>457</th>\n",
       "      <th>458</th>\n",
       "      <th>459</th>\n",
       "      <th>460</th>\n",
       "      <th>461</th>\n",
       "      <th>462</th>\n",
       "      <th>463</th>\n",
       "      <th>464</th>\n",
       "    </tr>\n",
       "  </thead>\n",
       "  <tbody>\n",
       "    <tr>\n",
       "      <td>0</td>\n",
       "      <td>0</td>\n",
       "      <td>0</td>\n",
       "      <td>0</td>\n",
       "      <td>0</td>\n",
       "      <td>0</td>\n",
       "      <td>0</td>\n",
       "      <td>0</td>\n",
       "      <td>0</td>\n",
       "      <td>0</td>\n",
       "      <td>0</td>\n",
       "      <td>...</td>\n",
       "      <td>1</td>\n",
       "      <td>Female</td>\n",
       "      <td>53</td>\n",
       "      <td>9</td>\n",
       "      <td>0</td>\n",
       "      <td>1</td>\n",
       "      <td>1</td>\n",
       "      <td>0</td>\n",
       "      <td>125692</td>\n",
       "      <td>1</td>\n",
       "    </tr>\n",
       "    <tr>\n",
       "      <td>1</td>\n",
       "      <td>0</td>\n",
       "      <td>0</td>\n",
       "      <td>0</td>\n",
       "      <td>0</td>\n",
       "      <td>0</td>\n",
       "      <td>0</td>\n",
       "      <td>0</td>\n",
       "      <td>0</td>\n",
       "      <td>0</td>\n",
       "      <td>0</td>\n",
       "      <td>...</td>\n",
       "      <td>0</td>\n",
       "      <td>Male</td>\n",
       "      <td>38</td>\n",
       "      <td>2</td>\n",
       "      <td>129729</td>\n",
       "      <td>1</td>\n",
       "      <td>1</td>\n",
       "      <td>0</td>\n",
       "      <td>89289.5</td>\n",
       "      <td>0</td>\n",
       "    </tr>\n",
       "    <tr>\n",
       "      <td>2</td>\n",
       "      <td>0</td>\n",
       "      <td>0</td>\n",
       "      <td>0</td>\n",
       "      <td>0</td>\n",
       "      <td>0</td>\n",
       "      <td>0</td>\n",
       "      <td>0</td>\n",
       "      <td>0</td>\n",
       "      <td>0</td>\n",
       "      <td>0</td>\n",
       "      <td>...</td>\n",
       "      <td>0</td>\n",
       "      <td>Male</td>\n",
       "      <td>40</td>\n",
       "      <td>NaN</td>\n",
       "      <td>154863</td>\n",
       "      <td>1</td>\n",
       "      <td>1</td>\n",
       "      <td>1</td>\n",
       "      <td>138053</td>\n",
       "      <td>0</td>\n",
       "    </tr>\n",
       "    <tr>\n",
       "      <td>3</td>\n",
       "      <td>0</td>\n",
       "      <td>0</td>\n",
       "      <td>0</td>\n",
       "      <td>0</td>\n",
       "      <td>0</td>\n",
       "      <td>0</td>\n",
       "      <td>0</td>\n",
       "      <td>0</td>\n",
       "      <td>0</td>\n",
       "      <td>0</td>\n",
       "      <td>...</td>\n",
       "      <td>0</td>\n",
       "      <td>Female</td>\n",
       "      <td>41</td>\n",
       "      <td>6</td>\n",
       "      <td>0</td>\n",
       "      <td>1</td>\n",
       "      <td>1</td>\n",
       "      <td>0</td>\n",
       "      <td>65170.7</td>\n",
       "      <td>1</td>\n",
       "    </tr>\n",
       "    <tr>\n",
       "      <td>4</td>\n",
       "      <td>0</td>\n",
       "      <td>0</td>\n",
       "      <td>0</td>\n",
       "      <td>0</td>\n",
       "      <td>0</td>\n",
       "      <td>0</td>\n",
       "      <td>0</td>\n",
       "      <td>0</td>\n",
       "      <td>0</td>\n",
       "      <td>0</td>\n",
       "      <td>...</td>\n",
       "      <td>0</td>\n",
       "      <td>Male</td>\n",
       "      <td>46</td>\n",
       "      <td>6</td>\n",
       "      <td>161799</td>\n",
       "      <td>1</td>\n",
       "      <td>1</td>\n",
       "      <td>0</td>\n",
       "      <td>182944</td>\n",
       "      <td>0</td>\n",
       "    </tr>\n",
       "    <tr>\n",
       "      <td>...</td>\n",
       "      <td>...</td>\n",
       "      <td>...</td>\n",
       "      <td>...</td>\n",
       "      <td>...</td>\n",
       "      <td>...</td>\n",
       "      <td>...</td>\n",
       "      <td>...</td>\n",
       "      <td>...</td>\n",
       "      <td>...</td>\n",
       "      <td>...</td>\n",
       "      <td>...</td>\n",
       "      <td>...</td>\n",
       "      <td>...</td>\n",
       "      <td>...</td>\n",
       "      <td>...</td>\n",
       "      <td>...</td>\n",
       "      <td>...</td>\n",
       "      <td>...</td>\n",
       "      <td>...</td>\n",
       "      <td>...</td>\n",
       "      <td>...</td>\n",
       "    </tr>\n",
       "    <tr>\n",
       "      <td>7495</td>\n",
       "      <td>0</td>\n",
       "      <td>0</td>\n",
       "      <td>0</td>\n",
       "      <td>0</td>\n",
       "      <td>0</td>\n",
       "      <td>0</td>\n",
       "      <td>0</td>\n",
       "      <td>0</td>\n",
       "      <td>0</td>\n",
       "      <td>0</td>\n",
       "      <td>...</td>\n",
       "      <td>1</td>\n",
       "      <td>Male</td>\n",
       "      <td>18</td>\n",
       "      <td>8</td>\n",
       "      <td>0</td>\n",
       "      <td>2</td>\n",
       "      <td>1</td>\n",
       "      <td>0</td>\n",
       "      <td>59172.4</td>\n",
       "      <td>1</td>\n",
       "    </tr>\n",
       "    <tr>\n",
       "      <td>7496</td>\n",
       "      <td>0</td>\n",
       "      <td>0</td>\n",
       "      <td>0</td>\n",
       "      <td>0</td>\n",
       "      <td>0</td>\n",
       "      <td>0</td>\n",
       "      <td>0</td>\n",
       "      <td>0</td>\n",
       "      <td>0</td>\n",
       "      <td>0</td>\n",
       "      <td>...</td>\n",
       "      <td>0</td>\n",
       "      <td>Male</td>\n",
       "      <td>41</td>\n",
       "      <td>1</td>\n",
       "      <td>176958</td>\n",
       "      <td>2</td>\n",
       "      <td>0</td>\n",
       "      <td>1</td>\n",
       "      <td>125806</td>\n",
       "      <td>0</td>\n",
       "    </tr>\n",
       "    <tr>\n",
       "      <td>7497</td>\n",
       "      <td>0</td>\n",
       "      <td>0</td>\n",
       "      <td>0</td>\n",
       "      <td>0</td>\n",
       "      <td>0</td>\n",
       "      <td>0</td>\n",
       "      <td>0</td>\n",
       "      <td>0</td>\n",
       "      <td>0</td>\n",
       "      <td>0</td>\n",
       "      <td>...</td>\n",
       "      <td>0</td>\n",
       "      <td>Female</td>\n",
       "      <td>38</td>\n",
       "      <td>6</td>\n",
       "      <td>132591</td>\n",
       "      <td>1</td>\n",
       "      <td>1</td>\n",
       "      <td>1</td>\n",
       "      <td>7387.8</td>\n",
       "      <td>0</td>\n",
       "    </tr>\n",
       "    <tr>\n",
       "      <td>7498</td>\n",
       "      <td>0</td>\n",
       "      <td>0</td>\n",
       "      <td>0</td>\n",
       "      <td>0</td>\n",
       "      <td>0</td>\n",
       "      <td>0</td>\n",
       "      <td>0</td>\n",
       "      <td>0</td>\n",
       "      <td>0</td>\n",
       "      <td>0</td>\n",
       "      <td>...</td>\n",
       "      <td>0</td>\n",
       "      <td>Female</td>\n",
       "      <td>35</td>\n",
       "      <td>2</td>\n",
       "      <td>163944</td>\n",
       "      <td>2</td>\n",
       "      <td>1</td>\n",
       "      <td>1</td>\n",
       "      <td>15068.2</td>\n",
       "      <td>0</td>\n",
       "    </tr>\n",
       "    <tr>\n",
       "      <td>7499</td>\n",
       "      <td>0</td>\n",
       "      <td>0</td>\n",
       "      <td>0</td>\n",
       "      <td>0</td>\n",
       "      <td>0</td>\n",
       "      <td>0</td>\n",
       "      <td>0</td>\n",
       "      <td>0</td>\n",
       "      <td>0</td>\n",
       "      <td>0</td>\n",
       "      <td>...</td>\n",
       "      <td>1</td>\n",
       "      <td>Male</td>\n",
       "      <td>25</td>\n",
       "      <td>6</td>\n",
       "      <td>0</td>\n",
       "      <td>2</td>\n",
       "      <td>1</td>\n",
       "      <td>0</td>\n",
       "      <td>129740</td>\n",
       "      <td>1</td>\n",
       "    </tr>\n",
       "  </tbody>\n",
       "</table>\n",
       "<p>7500 rows × 465 columns</p>\n",
       "</div>"
      ],
      "text/plain": [
       "     0   1   2   3   4   5   6   7   8   9    ... 455     456 457  458  \\\n",
       "0      0   0   0   0   0   0   0   0   0   0  ...   1  Female  53    9   \n",
       "1      0   0   0   0   0   0   0   0   0   0  ...   0    Male  38    2   \n",
       "2      0   0   0   0   0   0   0   0   0   0  ...   0    Male  40  NaN   \n",
       "3      0   0   0   0   0   0   0   0   0   0  ...   0  Female  41    6   \n",
       "4      0   0   0   0   0   0   0   0   0   0  ...   0    Male  46    6   \n",
       "...   ..  ..  ..  ..  ..  ..  ..  ..  ..  ..  ...  ..     ...  ..  ...   \n",
       "7495   0   0   0   0   0   0   0   0   0   0  ...   1    Male  18    8   \n",
       "7496   0   0   0   0   0   0   0   0   0   0  ...   0    Male  41    1   \n",
       "7497   0   0   0   0   0   0   0   0   0   0  ...   0  Female  38    6   \n",
       "7498   0   0   0   0   0   0   0   0   0   0  ...   0  Female  35    2   \n",
       "7499   0   0   0   0   0   0   0   0   0   0  ...   1    Male  25    6   \n",
       "\n",
       "         459 460 461 462      463 464  \n",
       "0          0   1   1   0   125692   1  \n",
       "1     129729   1   1   0  89289.5   0  \n",
       "2     154863   1   1   1   138053   0  \n",
       "3          0   1   1   0  65170.7   1  \n",
       "4     161799   1   1   0   182944   0  \n",
       "...      ...  ..  ..  ..      ...  ..  \n",
       "7495       0   2   1   0  59172.4   1  \n",
       "7496  176958   2   0   1   125806   0  \n",
       "7497  132591   1   1   1   7387.8   0  \n",
       "7498  163944   2   1   1  15068.2   0  \n",
       "7499       0   2   1   0   129740   1  \n",
       "\n",
       "[7500 rows x 465 columns]"
      ]
     },
     "execution_count": 25,
     "metadata": {},
     "output_type": "execute_result"
    }
   ],
   "source": [
    "pd.DataFrame(second_step)"
   ]
  },
  {
   "cell_type": "markdown",
   "metadata": {},
   "source": [
    "Мини проверка - все работает"
   ]
  },
  {
   "cell_type": "markdown",
   "metadata": {},
   "source": [
    "Собираем наш \"водопровод\" для Логистической регрессии"
   ]
  },
  {
   "cell_type": "code",
   "execution_count": 26,
   "metadata": {},
   "outputs": [],
   "source": [
    "pipe_logreg = Pipeline(steps =[\n",
    "    ('tf1', trf1),\n",
    "    ('tf2', trf2),\n",
    "    ('tf3', StandardScaler()),\n",
    "    ('model_logreg', LogisticRegression(random_state = 0, solver ='liblinear')),\n",
    "])"
   ]
  },
  {
   "cell_type": "markdown",
   "metadata": {},
   "source": [
    "<div class=\"alert alert-block alert-success\">\n",
    "<b>Успех:</b> Тебе удалось очень хорошо овладеть механизмом пайплайнов, это очень радует!\n",
    "</div>"
   ]
  },
  {
   "cell_type": "markdown",
   "metadata": {},
   "source": [
    "<a id = 'section2'></a>\n",
    "# Исследование моделей"
   ]
  },
  {
   "cell_type": "markdown",
   "metadata": {},
   "source": [
    "## Логистическая регрессия"
   ]
  },
  {
   "cell_type": "markdown",
   "metadata": {},
   "source": [
    "Обучаем логистическую регрессию на трейне без подбора гиперпараметров и при имеющемя дизбалансе. Смотрим какой f1_score мы получили"
   ]
  },
  {
   "cell_type": "code",
   "execution_count": 27,
   "metadata": {
    "scrolled": false
   },
   "outputs": [
    {
     "data": {
      "text/plain": [
       "Pipeline(memory=None,\n",
       "         steps=[('tf1',\n",
       "                 ColumnTransformer(n_jobs=None, remainder='passthrough',\n",
       "                                   sparse_threshold=0.3,\n",
       "                                   transformer_weights=None,\n",
       "                                   transformers=[('cat',\n",
       "                                                  SimpleImputer(add_indicator=False,\n",
       "                                                                copy=True,\n",
       "                                                                fill_value=None,\n",
       "                                                                missing_values=nan,\n",
       "                                                                strategy='most_frequent',\n",
       "                                                                verbose=0),\n",
       "                                                  ['geography', 'gender',\n",
       "                                                   'numofproducts', 'hascrcard',\n",
       "                                                   'isactivemember',\n",
       "                                                   'zero_balanc...\n",
       "                                                  [0, 1])],\n",
       "                                   verbose=False)),\n",
       "                ('tf3',\n",
       "                 StandardScaler(copy=True, with_mean=True, with_std=True)),\n",
       "                ('model_logreg',\n",
       "                 LogisticRegression(C=1.0, class_weight=None, dual=False,\n",
       "                                    fit_intercept=True, intercept_scaling=1,\n",
       "                                    l1_ratio=None, max_iter=100,\n",
       "                                    multi_class='warn', n_jobs=None,\n",
       "                                    penalty='l2', random_state=0,\n",
       "                                    solver='liblinear', tol=0.0001, verbose=0,\n",
       "                                    warm_start=False))],\n",
       "         verbose=False)"
      ]
     },
     "execution_count": 27,
     "metadata": {},
     "output_type": "execute_result"
    }
   ],
   "source": [
    "pipe_logreg.fit(x_train, y_train)"
   ]
  },
  {
   "cell_type": "code",
   "execution_count": 28,
   "metadata": {},
   "outputs": [
    {
     "data": {
      "text/plain": [
       "0.3136690647482015"
      ]
     },
     "execution_count": 28,
     "metadata": {},
     "output_type": "execute_result"
    }
   ],
   "source": [
    "f1_score(y_test, pipe_logreg.predict(x_test))"
   ]
  },
  {
   "cell_type": "markdown",
   "metadata": {},
   "source": [
    "f1_score всего 0,31 - весьма далеко от значения 0,59. Модель плохо распознает положительные классы, так же как и  предсказывает их. "
   ]
  },
  {
   "cell_type": "markdown",
   "metadata": {},
   "source": [
    "Напишем сетку для для RandomizedSearchCV для оптимизации гиперпараметров."
   ]
  },
  {
   "cell_type": "code",
   "execution_count": 29,
   "metadata": {},
   "outputs": [],
   "source": [
    "pipe_logreg_params = {'model_logreg__C': np.arange(1.0, 100.0, .1),\n",
    "                      'model_logreg__dual': [True, False],\n",
    "                      'model_logreg__fit_intercept': [True, False],\n",
    "                      'model_logreg__class_weight': [None, 'balanced'],\n",
    "                      'model_logreg__max_iter': range(200000, 300000),\n",
    "                     }"
   ]
  },
  {
   "cell_type": "code",
   "execution_count": 30,
   "metadata": {},
   "outputs": [],
   "source": [
    "prs_logreg = RandomizedSearchCV(pipe_logreg, pipe_logreg_params, cv = 5, n_iter = 50, scoring = 'f1')"
   ]
  },
  {
   "cell_type": "markdown",
   "metadata": {},
   "source": [
    "Обучим модель по сетке, с поиском наилучших гиперпараметров"
   ]
  },
  {
   "cell_type": "code",
   "execution_count": 31,
   "metadata": {},
   "outputs": [
    {
     "data": {
      "text/plain": [
       "RandomizedSearchCV(cv=5, error_score='raise-deprecating',\n",
       "                   estimator=Pipeline(memory=None,\n",
       "                                      steps=[('tf1',\n",
       "                                              ColumnTransformer(n_jobs=None,\n",
       "                                                                remainder='passthrough',\n",
       "                                                                sparse_threshold=0.3,\n",
       "                                                                transformer_weights=None,\n",
       "                                                                transformers=[('cat',\n",
       "                                                                               SimpleImputer(add_indicator=False,\n",
       "                                                                                             copy=True,\n",
       "                                                                                             fill_value=None,\n",
       "                                                                                             missing_values=nan,\n",
       "                                                                                             strategy='most_frequent',\n",
       "                                                                                             verbose=0),\n",
       "                                                                               ['geography',...\n",
       "       97.8, 97.9, 98. , 98.1, 98.2, 98.3, 98.4, 98.5, 98.6, 98.7, 98.8,\n",
       "       98.9, 99. , 99.1, 99.2, 99.3, 99.4, 99.5, 99.6, 99.7, 99.8, 99.9]),\n",
       "                                        'model_logreg__class_weight': [None,\n",
       "                                                                       'balanced'],\n",
       "                                        'model_logreg__dual': [True, False],\n",
       "                                        'model_logreg__fit_intercept': [True,\n",
       "                                                                        False],\n",
       "                                        'model_logreg__max_iter': range(200000, 300000)},\n",
       "                   pre_dispatch='2*n_jobs', random_state=None, refit=True,\n",
       "                   return_train_score=False, scoring='f1', verbose=0)"
      ]
     },
     "execution_count": 31,
     "metadata": {},
     "output_type": "execute_result"
    }
   ],
   "source": [
    "prs_logreg.fit(x_train, y_train)"
   ]
  },
  {
   "cell_type": "markdown",
   "metadata": {},
   "source": [
    "Посмотрим наилучшии параметры после 50 итераций по сетке"
   ]
  },
  {
   "cell_type": "code",
   "execution_count": 32,
   "metadata": {},
   "outputs": [
    {
     "data": {
      "text/plain": [
       "{'model_logreg__max_iter': 281677,\n",
       " 'model_logreg__fit_intercept': True,\n",
       " 'model_logreg__dual': True,\n",
       " 'model_logreg__class_weight': 'balanced',\n",
       " 'model_logreg__C': 17.400000000000013}"
      ]
     },
     "execution_count": 32,
     "metadata": {},
     "output_type": "execute_result"
    }
   ],
   "source": [
    "prs_logreg.best_params_"
   ]
  },
  {
   "cell_type": "code",
   "execution_count": 33,
   "metadata": {},
   "outputs": [
    {
     "data": {
      "text/plain": [
       "0.4943180944303058"
      ]
     },
     "execution_count": 33,
     "metadata": {},
     "output_type": "execute_result"
    }
   ],
   "source": [
    "prs_logreg.best_score_"
   ]
  },
  {
   "cell_type": "markdown",
   "metadata": {},
   "source": [
    "После 50 итераций наилучшее рандомные параметры:\n",
    "\n",
    "- max_iter: 282263,\n",
    "- fit_intercept: True,\n",
    "- dual: True,\n",
    "- class_weight: balanced,\n",
    "- C: 3.300000000000002\n",
    "\n",
    "Следует отметить, что наиболее редкому классу передан больший вес с помощью параметра `class_weight`.\n",
    "F1_score равен 0,49 что намного лучше начальной модели, но все еще далеко до идеала"
   ]
  },
  {
   "cell_type": "markdown",
   "metadata": {},
   "source": [
    "Зафиксируем модель, что бы при повторном запуске тетради модель обучалась уже заранее найдеными мной параметрами, указаные выше."
   ]
  },
  {
   "cell_type": "code",
   "execution_count": 34,
   "metadata": {},
   "outputs": [],
   "source": [
    "pipe_logreg = Pipeline(steps =[\n",
    "    ('tf1', trf1),\n",
    "    ('tf2', trf2),\n",
    "    ('tf3', StandardScaler()),\n",
    "    ('model_logreg', LogisticRegression(random_state=42,\n",
    "                                        max_iter = 282263,\n",
    "                                        fit_intercept = True,\n",
    "                                        dual = True,\n",
    "                                        class_weight = 'balanced',\n",
    "                                        C = 3.300000000000002,\n",
    "                                        solver ='liblinear')),\n",
    "])"
   ]
  },
  {
   "cell_type": "code",
   "execution_count": 35,
   "metadata": {
    "scrolled": false
   },
   "outputs": [
    {
     "data": {
      "text/plain": [
       "Pipeline(memory=None,\n",
       "         steps=[('tf1',\n",
       "                 ColumnTransformer(n_jobs=None, remainder='passthrough',\n",
       "                                   sparse_threshold=0.3,\n",
       "                                   transformer_weights=None,\n",
       "                                   transformers=[('cat',\n",
       "                                                  SimpleImputer(add_indicator=False,\n",
       "                                                                copy=True,\n",
       "                                                                fill_value=None,\n",
       "                                                                missing_values=nan,\n",
       "                                                                strategy='most_frequent',\n",
       "                                                                verbose=0),\n",
       "                                                  ['geography', 'gender',\n",
       "                                                   'numofproducts', 'hascrcard',\n",
       "                                                   'isactivemember',\n",
       "                                                   'zero_balanc...\n",
       "                ('tf3',\n",
       "                 StandardScaler(copy=True, with_mean=True, with_std=True)),\n",
       "                ('model_logreg',\n",
       "                 LogisticRegression(C=3.300000000000002,\n",
       "                                    class_weight='balanced', dual=True,\n",
       "                                    fit_intercept=True, intercept_scaling=1,\n",
       "                                    l1_ratio=None, max_iter=282263,\n",
       "                                    multi_class='warn', n_jobs=None,\n",
       "                                    penalty='l2', random_state=42,\n",
       "                                    solver='liblinear', tol=0.0001, verbose=0,\n",
       "                                    warm_start=False))],\n",
       "         verbose=False)"
      ]
     },
     "execution_count": 35,
     "metadata": {},
     "output_type": "execute_result"
    }
   ],
   "source": [
    "pipe_logreg.fit(x_train, y_train)"
   ]
  },
  {
   "cell_type": "code",
   "execution_count": 36,
   "metadata": {},
   "outputs": [
    {
     "data": {
      "text/plain": [
       "0.49794238683127573"
      ]
     },
     "execution_count": 36,
     "metadata": {},
     "output_type": "execute_result"
    }
   ],
   "source": [
    "f1_score(y_test, pipe_logreg.predict(x_test))"
   ]
  },
  {
   "cell_type": "markdown",
   "metadata": {},
   "source": [
    "Напишем функцию Upsampling наших данных и посмотрим как ведет себя логистическая регрессия на сбалансированной выборке"
   ]
  },
  {
   "cell_type": "code",
   "execution_count": 37,
   "metadata": {},
   "outputs": [],
   "source": [
    "def upsample(x, y, repeat):\n",
    "    x_zeros = x[y == 0]\n",
    "    x_ones = x[y == 1]\n",
    "    y_zeros = y[y == 0]\n",
    "    y_ones = y[y == 1]\n",
    "\n",
    "    x_upsampled = pd.concat([x_zeros] + [x_ones] * repeat)\n",
    "    y_upsampled = pd.concat([y_zeros] + [y_ones] * repeat)\n",
    "    \n",
    "    x_upsampled, y_upsampled = shuffle(x_upsampled, y_upsampled, random_state=42)\n",
    "    \n",
    "    return x_upsampled, y_upsampled"
   ]
  },
  {
   "cell_type": "code",
   "execution_count": 38,
   "metadata": {},
   "outputs": [],
   "source": [
    "x_upsampled, y_upsampled = upsample(x_train, y_train, 4)"
   ]
  },
  {
   "cell_type": "code",
   "execution_count": 39,
   "metadata": {
    "scrolled": true
   },
   "outputs": [
    {
     "data": {
      "text/plain": [
       "0.5057927838464085"
      ]
     },
     "execution_count": 39,
     "metadata": {},
     "output_type": "execute_result"
    }
   ],
   "source": [
    "y_upsampled.mean()"
   ]
  },
  {
   "cell_type": "markdown",
   "metadata": {},
   "source": [
    "отлично 1 столько же сколько и 0. Теперь загоним все в водопровод и обучим ту же модель но уже на сбалансированных данных"
   ]
  },
  {
   "cell_type": "code",
   "execution_count": 40,
   "metadata": {},
   "outputs": [],
   "source": [
    "pipe_logreg_upsampled = Pipeline(steps =[\n",
    "    ('tf1', trf1),\n",
    "    ('tf2', trf2),\n",
    "    ('tf3', StandardScaler()),\n",
    "    ('model_logreg', LogisticRegression(random_state=42,\n",
    "                                        max_iter = 282263,\n",
    "                                        fit_intercept = True,\n",
    "                                        dual = True,\n",
    "                                        class_weight = 'balanced',\n",
    "                                        C = 3.300000000000002,\n",
    "                                        solver ='liblinear')),\n",
    "])"
   ]
  },
  {
   "cell_type": "code",
   "execution_count": 41,
   "metadata": {
    "scrolled": true
   },
   "outputs": [
    {
     "data": {
      "text/plain": [
       "Pipeline(memory=None,\n",
       "         steps=[('tf1',\n",
       "                 ColumnTransformer(n_jobs=None, remainder='passthrough',\n",
       "                                   sparse_threshold=0.3,\n",
       "                                   transformer_weights=None,\n",
       "                                   transformers=[('cat',\n",
       "                                                  SimpleImputer(add_indicator=False,\n",
       "                                                                copy=True,\n",
       "                                                                fill_value=None,\n",
       "                                                                missing_values=nan,\n",
       "                                                                strategy='most_frequent',\n",
       "                                                                verbose=0),\n",
       "                                                  ['geography', 'gender',\n",
       "                                                   'numofproducts', 'hascrcard',\n",
       "                                                   'isactivemember',\n",
       "                                                   'zero_balanc...\n",
       "                ('tf3',\n",
       "                 StandardScaler(copy=True, with_mean=True, with_std=True)),\n",
       "                ('model_logreg',\n",
       "                 LogisticRegression(C=3.300000000000002,\n",
       "                                    class_weight='balanced', dual=True,\n",
       "                                    fit_intercept=True, intercept_scaling=1,\n",
       "                                    l1_ratio=None, max_iter=282263,\n",
       "                                    multi_class='warn', n_jobs=None,\n",
       "                                    penalty='l2', random_state=42,\n",
       "                                    solver='liblinear', tol=0.0001, verbose=0,\n",
       "                                    warm_start=False))],\n",
       "         verbose=False)"
      ]
     },
     "execution_count": 41,
     "metadata": {},
     "output_type": "execute_result"
    }
   ],
   "source": [
    "pipe_logreg_upsampled.fit(x_upsampled, y_upsampled)"
   ]
  },
  {
   "cell_type": "code",
   "execution_count": 42,
   "metadata": {},
   "outputs": [
    {
     "data": {
      "text/plain": [
       "0.49765917602996246"
      ]
     },
     "execution_count": 42,
     "metadata": {},
     "output_type": "execute_result"
    }
   ],
   "source": [
    "f1_score(y_train, pipe_logreg.predict(x_train))"
   ]
  },
  {
   "cell_type": "code",
   "execution_count": 43,
   "metadata": {},
   "outputs": [
    {
     "data": {
      "text/plain": [
       "0.7060190950601909"
      ]
     },
     "execution_count": 43,
     "metadata": {},
     "output_type": "execute_result"
    }
   ],
   "source": [
    "f1_score(y_upsampled, pipe_logreg_upsampled.predict(x_upsampled))"
   ]
  },
  {
   "cell_type": "code",
   "execution_count": 44,
   "metadata": {},
   "outputs": [
    {
     "data": {
      "text/plain": [
       "0.49794238683127573"
      ]
     },
     "execution_count": 44,
     "metadata": {},
     "output_type": "execute_result"
    }
   ],
   "source": [
    "f1_score(y_test, pipe_logreg.predict(x_test))"
   ]
  },
  {
   "cell_type": "code",
   "execution_count": 45,
   "metadata": {},
   "outputs": [
    {
     "data": {
      "text/plain": [
       "0.49794238683127573"
      ]
     },
     "execution_count": 45,
     "metadata": {},
     "output_type": "execute_result"
    }
   ],
   "source": [
    "f1_score(y_test, pipe_logreg_upsampled.predict(x_test))"
   ]
  },
  {
   "cell_type": "markdown",
   "metadata": {},
   "source": [
    "Значение F1 получилось намного выше на Upsampling данных 0.7060190950601909, чем на обычных данных 0.49765917602996246. Однако на тестовых данных результат один и тот же. Не совсем понимаю почему так происходит. Читал статью о том, что нельзя делать Upsampling перед CV,так как моделька переобучается за счет того что выборка не репрезентативная и что повторяющие данные могут одновременно попасть как в трейн так и в тест при CV и она переобучиться, поэтому учил модельку после того как были подобраны гиперпараметры по RandomizedSearchCV. "
   ]
  },
  {
   "cell_type": "markdown",
   "metadata": {},
   "source": [
    "Напишем функцию Downsampling наших данных и посмотрим как ведет себя логистическая регрессия на сбалансированной выборке"
   ]
  },
  {
   "cell_type": "markdown",
   "metadata": {},
   "source": [
    "Downsampling"
   ]
  },
  {
   "cell_type": "code",
   "execution_count": 46,
   "metadata": {},
   "outputs": [],
   "source": [
    "def downsample(x, y, fraction):\n",
    "    x_zeros = x[y == 0]\n",
    "    x_ones = x[y == 1]\n",
    "    y_zeros = y[y == 0]\n",
    "    y_ones = y[y == 1]\n",
    "    \n",
    "    x_downsampled = pd.concat(\n",
    "        [x_zeros.sample(frac=fraction, random_state=42)] + [x_ones])\n",
    "    y_downsampled = pd.concat(\n",
    "        [y_zeros.sample(frac=fraction, random_state=42)] + [y_ones])\n",
    "    \n",
    "    x_downsampled, y_downsampled = shuffle(\n",
    "        x_downsampled, y_downsampled, random_state=42)\n",
    "    \n",
    "    return x_downsampled, y_downsampled"
   ]
  },
  {
   "cell_type": "code",
   "execution_count": 47,
   "metadata": {},
   "outputs": [],
   "source": [
    "x_downsampled, y_downsampled = downsample(x_train, y_train, 0.25)"
   ]
  },
  {
   "cell_type": "code",
   "execution_count": 48,
   "metadata": {},
   "outputs": [
    {
     "data": {
      "text/plain": [
       "0.20373333333333332"
      ]
     },
     "execution_count": 48,
     "metadata": {},
     "output_type": "execute_result"
    }
   ],
   "source": [
    "y_train.mean()"
   ]
  },
  {
   "cell_type": "code",
   "execution_count": 49,
   "metadata": {},
   "outputs": [
    {
     "data": {
      "text/plain": [
       "0.5057927838464085"
      ]
     },
     "execution_count": 49,
     "metadata": {},
     "output_type": "execute_result"
    }
   ],
   "source": [
    "y_downsampled.mean()"
   ]
  },
  {
   "cell_type": "markdown",
   "metadata": {},
   "source": [
    "отлично 1 столько же сколько и 0. Теперь загоним все в водопровод и обучим ту же модель но уже на сбалансированных данных"
   ]
  },
  {
   "cell_type": "code",
   "execution_count": 50,
   "metadata": {},
   "outputs": [],
   "source": [
    "pipe_logreg_downsampled = Pipeline(steps =[\n",
    "    ('tf1', trf1),\n",
    "    ('tf2', trf2),\n",
    "    ('tf3', StandardScaler()),\n",
    "    ('model_logreg', LogisticRegression(random_state=42,\n",
    "                                        max_iter = 282263,\n",
    "                                        fit_intercept = True,\n",
    "                                        dual = True,\n",
    "                                        class_weight = 'balanced',\n",
    "                                        C = 3.300000000000002,\n",
    "                                        solver ='liblinear')),\n",
    "])"
   ]
  },
  {
   "cell_type": "code",
   "execution_count": 51,
   "metadata": {
    "scrolled": true
   },
   "outputs": [
    {
     "data": {
      "text/plain": [
       "Pipeline(memory=None,\n",
       "         steps=[('tf1',\n",
       "                 ColumnTransformer(n_jobs=None, remainder='passthrough',\n",
       "                                   sparse_threshold=0.3,\n",
       "                                   transformer_weights=None,\n",
       "                                   transformers=[('cat',\n",
       "                                                  SimpleImputer(add_indicator=False,\n",
       "                                                                copy=True,\n",
       "                                                                fill_value=None,\n",
       "                                                                missing_values=nan,\n",
       "                                                                strategy='most_frequent',\n",
       "                                                                verbose=0),\n",
       "                                                  ['geography', 'gender',\n",
       "                                                   'numofproducts', 'hascrcard',\n",
       "                                                   'isactivemember',\n",
       "                                                   'zero_balanc...\n",
       "                ('tf3',\n",
       "                 StandardScaler(copy=True, with_mean=True, with_std=True)),\n",
       "                ('model_logreg',\n",
       "                 LogisticRegression(C=3.300000000000002,\n",
       "                                    class_weight='balanced', dual=True,\n",
       "                                    fit_intercept=True, intercept_scaling=1,\n",
       "                                    l1_ratio=None, max_iter=282263,\n",
       "                                    multi_class='warn', n_jobs=None,\n",
       "                                    penalty='l2', random_state=42,\n",
       "                                    solver='liblinear', tol=0.0001, verbose=0,\n",
       "                                    warm_start=False))],\n",
       "         verbose=False)"
      ]
     },
     "execution_count": 51,
     "metadata": {},
     "output_type": "execute_result"
    }
   ],
   "source": [
    "pipe_logreg_downsampled.fit(x_downsampled, y_downsampled)"
   ]
  },
  {
   "cell_type": "code",
   "execution_count": 52,
   "metadata": {
    "scrolled": true
   },
   "outputs": [
    {
     "data": {
      "text/plain": [
       "0.49765917602996246"
      ]
     },
     "execution_count": 52,
     "metadata": {},
     "output_type": "execute_result"
    }
   ],
   "source": [
    "f1_score(y_train, pipe_logreg.predict(x_train))"
   ]
  },
  {
   "cell_type": "code",
   "execution_count": 53,
   "metadata": {},
   "outputs": [
    {
     "data": {
      "text/plain": [
       "0.7043941411451398"
      ]
     },
     "execution_count": 53,
     "metadata": {},
     "output_type": "execute_result"
    }
   ],
   "source": [
    "f1_score(y_downsampled, pipe_logreg_downsampled.predict(x_downsampled))"
   ]
  },
  {
   "cell_type": "code",
   "execution_count": 54,
   "metadata": {},
   "outputs": [
    {
     "data": {
      "text/plain": [
       "0.49794238683127573"
      ]
     },
     "execution_count": 54,
     "metadata": {},
     "output_type": "execute_result"
    }
   ],
   "source": [
    "f1_score(y_test, pipe_logreg.predict(x_test))"
   ]
  },
  {
   "cell_type": "code",
   "execution_count": 55,
   "metadata": {},
   "outputs": [
    {
     "data": {
      "text/plain": [
       "0.48415374241402553"
      ]
     },
     "execution_count": 55,
     "metadata": {},
     "output_type": "execute_result"
    }
   ],
   "source": [
    "f1_score(y_test, pipe_logreg_downsampled.predict(x_test))"
   ]
  },
  {
   "cell_type": "markdown",
   "metadata": {},
   "source": [
    "Значение F1 получилось намного выше на Downsampling данных 0.7043941411451398, чем на обычных данных 0.49765917602996246. Однако на тестовых данных результат Downsampling ниже. Поиграл немного со значением frac - получается что на тесте f1_score выше на Downsampling выборке, но на тесте всегда ниже."
   ]
  },
  {
   "cell_type": "markdown",
   "metadata": {},
   "source": [
    "Изучим как ведет себя метрика Roc_auc для Логистической Регрессии"
   ]
  },
  {
   "cell_type": "code",
   "execution_count": 56,
   "metadata": {},
   "outputs": [],
   "source": [
    "probabilities_one_logreg = pipe_logreg.predict_proba(x_test)[:, 1]"
   ]
  },
  {
   "cell_type": "code",
   "execution_count": 57,
   "metadata": {
    "scrolled": true
   },
   "outputs": [
    {
     "name": "stdout",
     "output_type": "stream",
     "text": [
      "LogisticRegression: ROC AUC=0.772\n"
     ]
    }
   ],
   "source": [
    "auc_logreg = roc_auc_score(y_test, probabilities_one_logreg)\n",
    "print('LogisticRegression: ROC AUC=%.3f' % (auc_logreg))"
   ]
  },
  {
   "cell_type": "markdown",
   "metadata": {},
   "source": [
    "Значение 0.772 лучше рандома, но так же далеко до идеала"
   ]
  },
  {
   "cell_type": "code",
   "execution_count": 58,
   "metadata": {},
   "outputs": [],
   "source": [
    "fpr_logreg, tpr_logreg, treshold_logreg = roc_curve(y_test, probabilities_one_logreg)"
   ]
  },
  {
   "cell_type": "code",
   "execution_count": 59,
   "metadata": {
    "scrolled": false
   },
   "outputs": [
    {
     "data": {
      "image/png": "[encoded data removed]",
      "text/plain": [
       "<Figure size 432x288 with 1 Axes>"
      ]
     },
     "metadata": {
      "needs_background": "light"
     },
     "output_type": "display_data"
    }
   ],
   "source": [
    "plt.plot(fpr_logreg, tpr_logreg, color='darkorange',\n",
    "         label='ROC кривая (area = %0.2f)' % auc_logreg)\n",
    "plt.plot([0, 1], [0, 1], color='navy', linestyle='--')\n",
    "plt.xlim([0.0, 1.0])\n",
    "plt.ylim([0.0, 1.05])\n",
    "plt.xlabel('False Positive Rate')\n",
    "plt.ylabel('True Positive Rate')\n",
    "plt.title('ROC-кривая логистической регрессии')\n",
    "plt.legend(loc=\"lower right\")\n",
    "plt.show()"
   ]
  },
  {
   "cell_type": "markdown",
   "metadata": {},
   "source": [
    "## Дерево решений"
   ]
  },
  {
   "cell_type": "markdown",
   "metadata": {},
   "source": [
    "Собираем наш \"водопровод\" для Дерева решений"
   ]
  },
  {
   "cell_type": "code",
   "execution_count": 60,
   "metadata": {},
   "outputs": [],
   "source": [
    "pipe_tree = Pipeline(steps =[\n",
    "    ('tf1', trf1),\n",
    "    ('tf2', trf2),\n",
    "    ('tf3', StandardScaler()),\n",
    "    ('model_tree', DecisionTreeClassifier(random_state = 42)),\n",
    "])"
   ]
  },
  {
   "cell_type": "code",
   "execution_count": 61,
   "metadata": {
    "scrolled": false
   },
   "outputs": [
    {
     "data": {
      "text/plain": [
       "Pipeline(memory=None,\n",
       "         steps=[('tf1',\n",
       "                 ColumnTransformer(n_jobs=None, remainder='passthrough',\n",
       "                                   sparse_threshold=0.3,\n",
       "                                   transformer_weights=None,\n",
       "                                   transformers=[('cat',\n",
       "                                                  SimpleImputer(add_indicator=False,\n",
       "                                                                copy=True,\n",
       "                                                                fill_value=None,\n",
       "                                                                missing_values=nan,\n",
       "                                                                strategy='most_frequent',\n",
       "                                                                verbose=0),\n",
       "                                                  ['geography', 'gender',\n",
       "                                                   'numofproducts', 'hascrcard',\n",
       "                                                   'isactivemember',\n",
       "                                                   'zero_balanc...\n",
       "                 StandardScaler(copy=True, with_mean=True, with_std=True)),\n",
       "                ('model_tree',\n",
       "                 DecisionTreeClassifier(class_weight=None, criterion='gini',\n",
       "                                        max_depth=None, max_features=None,\n",
       "                                        max_leaf_nodes=None,\n",
       "                                        min_impurity_decrease=0.0,\n",
       "                                        min_impurity_split=None,\n",
       "                                        min_samples_leaf=1, min_samples_split=2,\n",
       "                                        min_weight_fraction_leaf=0.0,\n",
       "                                        presort=False, random_state=42,\n",
       "                                        splitter='best'))],\n",
       "         verbose=False)"
      ]
     },
     "execution_count": 61,
     "metadata": {},
     "output_type": "execute_result"
    }
   ],
   "source": [
    "pipe_tree.fit(x_train, y_train)"
   ]
  },
  {
   "cell_type": "markdown",
   "metadata": {},
   "source": [
    "Обучаем дерева решений на трейне без подбора гиперпараметров и при имеющемя дизбалансе. Смотрим какой f1_score мы получили"
   ]
  },
  {
   "cell_type": "code",
   "execution_count": 62,
   "metadata": {},
   "outputs": [
    {
     "data": {
      "text/plain": [
       "0.5134615384615384"
      ]
     },
     "execution_count": 62,
     "metadata": {},
     "output_type": "execute_result"
    }
   ],
   "source": [
    "f1_score(y_test, pipe_tree.predict(x_test))"
   ]
  },
  {
   "cell_type": "markdown",
   "metadata": {},
   "source": [
    "f1_score всего 0,50 - не так далеко от 0,59. Оптимизируем за счет подбора гиперпараметров"
   ]
  },
  {
   "cell_type": "code",
   "execution_count": 63,
   "metadata": {},
   "outputs": [],
   "source": [
    "pipe_tree_params= {'model_tree__max_depth':range(1,11),\n",
    "                   'model_tree__min_samples_split':range(2, 22),\n",
    "                   'model_tree__min_samples_leaf':range(1,20),\n",
    "                   'model_tree__max_features':range(1, 12),\n",
    "                   'model_tree__class_weight': [None, 'balanced'],\n",
    "                   'model_tree__criterion':['gini', 'entropy']\n",
    "                  }"
   ]
  },
  {
   "cell_type": "code",
   "execution_count": 64,
   "metadata": {},
   "outputs": [],
   "source": [
    "prs_tree = RandomizedSearchCV(pipe_tree, pipe_tree_params, cv = 5, n_iter = 500, scoring = 'f1')"
   ]
  },
  {
   "cell_type": "code",
   "execution_count": 65,
   "metadata": {
    "scrolled": true
   },
   "outputs": [
    {
     "data": {
      "text/plain": [
       "RandomizedSearchCV(cv=5, error_score='raise-deprecating',\n",
       "                   estimator=Pipeline(memory=None,\n",
       "                                      steps=[('tf1',\n",
       "                                              ColumnTransformer(n_jobs=None,\n",
       "                                                                remainder='passthrough',\n",
       "                                                                sparse_threshold=0.3,\n",
       "                                                                transformer_weights=None,\n",
       "                                                                transformers=[('cat',\n",
       "                                                                               SimpleImputer(add_indicator=False,\n",
       "                                                                                             copy=True,\n",
       "                                                                                             fill_value=None,\n",
       "                                                                                             missing_values=nan,\n",
       "                                                                                             strategy='most_frequent',\n",
       "                                                                                             verbose=0),\n",
       "                                                                               ['geography',...\n",
       "                   param_distributions={'model_tree__class_weight': [None,\n",
       "                                                                     'balanced'],\n",
       "                                        'model_tree__criterion': ['gini',\n",
       "                                                                  'entropy'],\n",
       "                                        'model_tree__max_depth': range(1, 11),\n",
       "                                        'model_tree__max_features': range(1, 12),\n",
       "                                        'model_tree__min_samples_leaf': range(1, 20),\n",
       "                                        'model_tree__min_samples_split': range(2, 22)},\n",
       "                   pre_dispatch='2*n_jobs', random_state=None, refit=True,\n",
       "                   return_train_score=False, scoring='f1', verbose=0)"
      ]
     },
     "execution_count": 65,
     "metadata": {},
     "output_type": "execute_result"
    }
   ],
   "source": [
    "prs_tree.fit(x_train, y_train)"
   ]
  },
  {
   "cell_type": "code",
   "execution_count": 66,
   "metadata": {},
   "outputs": [
    {
     "data": {
      "text/plain": [
       "0.5853070272876301"
      ]
     },
     "execution_count": 66,
     "metadata": {},
     "output_type": "execute_result"
    }
   ],
   "source": [
    "prs_tree.best_score_"
   ]
  },
  {
   "cell_type": "markdown",
   "metadata": {},
   "source": [
    "После 50 итераций наилучшее рандомные параметры:\n",
    "\n",
    "- min_samples_split: 12,\n",
    "- min_samples_leaf: 18,\n",
    "- max_feature : 11,\n",
    "- max_features: 9,\n",
    "- criterion: entropy,\n",
    "- class_weight: None\n",
    "\n",
    "F1_score равен 0,58 что намного лучше начальной модели и ближе к искомому значению"
   ]
  },
  {
   "cell_type": "code",
   "execution_count": 67,
   "metadata": {
    "scrolled": true
   },
   "outputs": [
    {
     "data": {
      "text/plain": [
       "{'model_tree__min_samples_split': 17,\n",
       " 'model_tree__min_samples_leaf': 13,\n",
       " 'model_tree__max_features': 10,\n",
       " 'model_tree__max_depth': 7,\n",
       " 'model_tree__criterion': 'entropy',\n",
       " 'model_tree__class_weight': 'balanced'}"
      ]
     },
     "execution_count": 67,
     "metadata": {},
     "output_type": "execute_result"
    }
   ],
   "source": [
    "prs_tree.best_params_"
   ]
  },
  {
   "cell_type": "markdown",
   "metadata": {},
   "source": [
    "Зафиксируем модель"
   ]
  },
  {
   "cell_type": "code",
   "execution_count": 68,
   "metadata": {},
   "outputs": [],
   "source": [
    "pipe_tree = Pipeline(steps =[\n",
    "    ('tf1', trf1),\n",
    "    ('tf2', trf2),\n",
    "    ('tf3', StandardScaler()),\n",
    "    ('model_tree', DecisionTreeClassifier(random_state = 0,\n",
    "                                         min_samples_split = 12,\n",
    "                                         min_samples_leaf = 18,\n",
    "                                         max_features = 11,\n",
    "                                         max_depth = 9,\n",
    "                                         criterion = 'entropy',\n",
    "                                         class_weight = None)),\n",
    "])"
   ]
  },
  {
   "cell_type": "code",
   "execution_count": 69,
   "metadata": {
    "scrolled": true
   },
   "outputs": [
    {
     "data": {
      "text/plain": [
       "Pipeline(memory=None,\n",
       "         steps=[('tf1',\n",
       "                 ColumnTransformer(n_jobs=None, remainder='passthrough',\n",
       "                                   sparse_threshold=0.3,\n",
       "                                   transformer_weights=None,\n",
       "                                   transformers=[('cat',\n",
       "                                                  SimpleImputer(add_indicator=False,\n",
       "                                                                copy=True,\n",
       "                                                                fill_value=None,\n",
       "                                                                missing_values=nan,\n",
       "                                                                strategy='most_frequent',\n",
       "                                                                verbose=0),\n",
       "                                                  ['geography', 'gender',\n",
       "                                                   'numofproducts', 'hascrcard',\n",
       "                                                   'isactivemember',\n",
       "                                                   'zero_balanc...\n",
       "                 StandardScaler(copy=True, with_mean=True, with_std=True)),\n",
       "                ('model_tree',\n",
       "                 DecisionTreeClassifier(class_weight=None, criterion='entropy',\n",
       "                                        max_depth=9, max_features=11,\n",
       "                                        max_leaf_nodes=None,\n",
       "                                        min_impurity_decrease=0.0,\n",
       "                                        min_impurity_split=None,\n",
       "                                        min_samples_leaf=18,\n",
       "                                        min_samples_split=12,\n",
       "                                        min_weight_fraction_leaf=0.0,\n",
       "                                        presort=False, random_state=0,\n",
       "                                        splitter='best'))],\n",
       "         verbose=False)"
      ]
     },
     "execution_count": 69,
     "metadata": {},
     "output_type": "execute_result"
    }
   ],
   "source": [
    "pipe_tree.fit(x_train,y_train)"
   ]
  },
  {
   "cell_type": "markdown",
   "metadata": {},
   "source": [
    "Посмотрим как ведет себя  дерево решений на сбалансированной выборке"
   ]
  },
  {
   "cell_type": "code",
   "execution_count": 70,
   "metadata": {},
   "outputs": [],
   "source": [
    "pipe_tree_upsampled = Pipeline(steps =[\n",
    "    ('tf1', trf1),\n",
    "    ('tf2', trf2),\n",
    "    ('tf3', StandardScaler()),\n",
    "    ('model_tree', DecisionTreeClassifier(random_state = 0,\n",
    "                                         min_samples_split = 12,\n",
    "                                         min_samples_leaf = 18,\n",
    "                                         max_features = 11,\n",
    "                                         max_depth = 9,\n",
    "                                         criterion = 'entropy',\n",
    "                                         class_weight = None)),\n",
    "])"
   ]
  },
  {
   "cell_type": "code",
   "execution_count": 71,
   "metadata": {
    "scrolled": false
   },
   "outputs": [
    {
     "data": {
      "text/plain": [
       "Pipeline(memory=None,\n",
       "         steps=[('tf1',\n",
       "                 ColumnTransformer(n_jobs=None, remainder='passthrough',\n",
       "                                   sparse_threshold=0.3,\n",
       "                                   transformer_weights=None,\n",
       "                                   transformers=[('cat',\n",
       "                                                  SimpleImputer(add_indicator=False,\n",
       "                                                                copy=True,\n",
       "                                                                fill_value=None,\n",
       "                                                                missing_values=nan,\n",
       "                                                                strategy='most_frequent',\n",
       "                                                                verbose=0),\n",
       "                                                  ['geography', 'gender',\n",
       "                                                   'numofproducts', 'hascrcard',\n",
       "                                                   'isactivemember',\n",
       "                                                   'zero_balanc...\n",
       "                 StandardScaler(copy=True, with_mean=True, with_std=True)),\n",
       "                ('model_tree',\n",
       "                 DecisionTreeClassifier(class_weight=None, criterion='entropy',\n",
       "                                        max_depth=9, max_features=11,\n",
       "                                        max_leaf_nodes=None,\n",
       "                                        min_impurity_decrease=0.0,\n",
       "                                        min_impurity_split=None,\n",
       "                                        min_samples_leaf=18,\n",
       "                                        min_samples_split=12,\n",
       "                                        min_weight_fraction_leaf=0.0,\n",
       "                                        presort=False, random_state=0,\n",
       "                                        splitter='best'))],\n",
       "         verbose=False)"
      ]
     },
     "execution_count": 71,
     "metadata": {},
     "output_type": "execute_result"
    }
   ],
   "source": [
    "pipe_tree_upsampled.fit(x_upsampled, y_upsampled)"
   ]
  },
  {
   "cell_type": "code",
   "execution_count": 72,
   "metadata": {},
   "outputs": [
    {
     "data": {
      "text/plain": [
       "0.6178600160901047"
      ]
     },
     "execution_count": 72,
     "metadata": {},
     "output_type": "execute_result"
    }
   ],
   "source": [
    "f1_score(y_train, pipe_tree.predict(x_train))"
   ]
  },
  {
   "cell_type": "code",
   "execution_count": 73,
   "metadata": {},
   "outputs": [
    {
     "data": {
      "text/plain": [
       "0.8163942586907824"
      ]
     },
     "execution_count": 73,
     "metadata": {},
     "output_type": "execute_result"
    }
   ],
   "source": [
    "f1_score(y_upsampled, pipe_tree_upsampled.predict(x_upsampled))"
   ]
  },
  {
   "cell_type": "code",
   "execution_count": 74,
   "metadata": {},
   "outputs": [
    {
     "data": {
      "text/plain": [
       "0.5477075588599752"
      ]
     },
     "execution_count": 74,
     "metadata": {},
     "output_type": "execute_result"
    }
   ],
   "source": [
    "f1_score(y_test, pipe_tree.predict(x_test))"
   ]
  },
  {
   "cell_type": "code",
   "execution_count": 75,
   "metadata": {},
   "outputs": [
    {
     "data": {
      "text/plain": [
       "0.5672609400324149"
      ]
     },
     "execution_count": 75,
     "metadata": {},
     "output_type": "execute_result"
    }
   ],
   "source": [
    "f1_score(y_test, pipe_tree_upsampled.predict(x_test))"
   ]
  },
  {
   "cell_type": "markdown",
   "metadata": {},
   "source": [
    "Значение F1 на трейне получилось намного выше (0.8163942586907824), чем без Upsampling (0.6178600160901047), на тесте дало немного лучшее значение, чем без upsampling"
   ]
  },
  {
   "cell_type": "code",
   "execution_count": 76,
   "metadata": {},
   "outputs": [],
   "source": [
    "pipe_tree_downsampled = Pipeline(steps =[\n",
    "    ('tf1', trf1),\n",
    "    ('tf2', trf2),\n",
    "    ('tf3', StandardScaler()),\n",
    "    ('model_tree', DecisionTreeClassifier(random_state = 0,\n",
    "                                         min_samples_split = 12,\n",
    "                                         min_samples_leaf = 18,\n",
    "                                         max_features = 11,\n",
    "                                         max_depth = 9,\n",
    "                                         criterion = 'entropy',\n",
    "                                         class_weight = None)),\n",
    "])"
   ]
  },
  {
   "cell_type": "code",
   "execution_count": 77,
   "metadata": {
    "scrolled": true
   },
   "outputs": [
    {
     "data": {
      "text/plain": [
       "Pipeline(memory=None,\n",
       "         steps=[('tf1',\n",
       "                 ColumnTransformer(n_jobs=None, remainder='passthrough',\n",
       "                                   sparse_threshold=0.3,\n",
       "                                   transformer_weights=None,\n",
       "                                   transformers=[('cat',\n",
       "                                                  SimpleImputer(add_indicator=False,\n",
       "                                                                copy=True,\n",
       "                                                                fill_value=None,\n",
       "                                                                missing_values=nan,\n",
       "                                                                strategy='most_frequent',\n",
       "                                                                verbose=0),\n",
       "                                                  ['geography', 'gender',\n",
       "                                                   'numofproducts', 'hascrcard',\n",
       "                                                   'isactivemember',\n",
       "                                                   'zero_balanc...\n",
       "                 StandardScaler(copy=True, with_mean=True, with_std=True)),\n",
       "                ('model_tree',\n",
       "                 DecisionTreeClassifier(class_weight=None, criterion='entropy',\n",
       "                                        max_depth=9, max_features=11,\n",
       "                                        max_leaf_nodes=None,\n",
       "                                        min_impurity_decrease=0.0,\n",
       "                                        min_impurity_split=None,\n",
       "                                        min_samples_leaf=18,\n",
       "                                        min_samples_split=12,\n",
       "                                        min_weight_fraction_leaf=0.0,\n",
       "                                        presort=False, random_state=0,\n",
       "                                        splitter='best'))],\n",
       "         verbose=False)"
      ]
     },
     "execution_count": 77,
     "metadata": {},
     "output_type": "execute_result"
    }
   ],
   "source": [
    "pipe_tree_downsampled.fit(x_downsampled, y_downsampled)"
   ]
  },
  {
   "cell_type": "code",
   "execution_count": 78,
   "metadata": {},
   "outputs": [
    {
     "data": {
      "text/plain": [
       "0.6178600160901047"
      ]
     },
     "execution_count": 78,
     "metadata": {},
     "output_type": "execute_result"
    }
   ],
   "source": [
    "f1_score(y_train, pipe_tree.predict(x_train))"
   ]
  },
  {
   "cell_type": "code",
   "execution_count": 79,
   "metadata": {},
   "outputs": [
    {
     "data": {
      "text/plain": [
       "0.8131212723658052"
      ]
     },
     "execution_count": 79,
     "metadata": {},
     "output_type": "execute_result"
    }
   ],
   "source": [
    "f1_score(y_downsampled, pipe_tree_downsampled.predict(x_downsampled))"
   ]
  },
  {
   "cell_type": "code",
   "execution_count": 80,
   "metadata": {},
   "outputs": [
    {
     "data": {
      "text/plain": [
       "0.5477075588599752"
      ]
     },
     "execution_count": 80,
     "metadata": {},
     "output_type": "execute_result"
    }
   ],
   "source": [
    "f1_score(y_test, pipe_tree.predict(x_test))"
   ]
  },
  {
   "cell_type": "code",
   "execution_count": 81,
   "metadata": {},
   "outputs": [
    {
     "data": {
      "text/plain": [
       "0.5668449197860963"
      ]
     },
     "execution_count": 81,
     "metadata": {},
     "output_type": "execute_result"
    }
   ],
   "source": [
    "f1_score(y_test, pipe_tree_downsampled.predict(x_test))"
   ]
  },
  {
   "cell_type": "markdown",
   "metadata": {},
   "source": [
    "Значение F1 на трейне получилось намного выше (0.8131212723658052), чем без Upsampling (0.6178600160901047), на тесте дало немного лучшее значение"
   ]
  },
  {
   "cell_type": "markdown",
   "metadata": {},
   "source": [
    "Изучим как ведет себя метрика Roc_auc для Дерева решений"
   ]
  },
  {
   "cell_type": "code",
   "execution_count": 82,
   "metadata": {},
   "outputs": [],
   "source": [
    "probabilities_one_tree = pipe_tree_upsampled.predict_proba(x_test)[:, 1]"
   ]
  },
  {
   "cell_type": "code",
   "execution_count": 83,
   "metadata": {
    "scrolled": false
   },
   "outputs": [
    {
     "name": "stdout",
     "output_type": "stream",
     "text": [
      "DecisionTreeClassifier: ROC AUC=0.810\n"
     ]
    }
   ],
   "source": [
    "auc_tree = roc_auc_score(y_test, probabilities_one_tree)\n",
    "print('DecisionTreeClassifier: ROC AUC=%.3f' % (auc_tree))"
   ]
  },
  {
   "cell_type": "markdown",
   "metadata": {},
   "source": [
    "Значение 0.808 лучше рандома, но так же далеко до идеала"
   ]
  },
  {
   "cell_type": "code",
   "execution_count": 84,
   "metadata": {},
   "outputs": [],
   "source": [
    "fpr_tree, tpr_tree, treshold_tree = roc_curve(y_test, probabilities_one_tree)"
   ]
  },
  {
   "cell_type": "code",
   "execution_count": 85,
   "metadata": {
    "scrolled": false
   },
   "outputs": [
    {
     "data": {
      "image/png": "[encoded data removed]",
      "text/plain": [
       "<Figure size 432x288 with 1 Axes>"
      ]
     },
     "metadata": {
      "needs_background": "light"
     },
     "output_type": "display_data"
    }
   ],
   "source": [
    "plt.plot(fpr_tree, tpr_tree, color='darkorange',\n",
    "         label='ROC кривая дерева (area = %0.2f)' % auc_tree)\n",
    "plt.plot([0, 1], [0, 1], color='navy', linestyle='--')\n",
    "plt.xlim([0.0, 1.0])\n",
    "plt.ylim([0.0, 1.05])\n",
    "plt.xlabel('False Positive Rate')\n",
    "plt.ylabel('True Positive Rate')\n",
    "plt.title('ROC-кривая дерева решений')\n",
    "plt.legend(loc=\"lower right\")\n",
    "plt.show()"
   ]
  },
  {
   "cell_type": "markdown",
   "metadata": {},
   "source": [
    "## Случайный лес"
   ]
  },
  {
   "cell_type": "markdown",
   "metadata": {},
   "source": [
    "Собираем наш \"водопровод\" для Случайного леса"
   ]
  },
  {
   "cell_type": "code",
   "execution_count": 86,
   "metadata": {},
   "outputs": [],
   "source": [
    "pipe_random = Pipeline(steps =[\n",
    "    ('tf1', trf1),\n",
    "    ('tf2', trf2),\n",
    "    ('tf3', StandardScaler()),\n",
    "    ('model_random', RandomForestClassifier(random_state = 0)),\n",
    "])"
   ]
  },
  {
   "cell_type": "markdown",
   "metadata": {},
   "source": [
    "Обучаем дерева решений на трейне без подбора гиперпараметров и при имеющемя дизбалансе. Смотрим какой f1_score мы получили"
   ]
  },
  {
   "cell_type": "code",
   "execution_count": 87,
   "metadata": {},
   "outputs": [
    {
     "name": "stderr",
     "output_type": "stream",
     "text": [
      "/opt/conda/lib/python3.7/site-packages/sklearn/ensemble/forest.py:245: FutureWarning: The default value of n_estimators will change from 10 in version 0.20 to 100 in 0.22.\n",
      "  \"10 in version 0.20 to 100 in 0.22.\", FutureWarning)\n"
     ]
    },
    {
     "data": {
      "text/plain": [
       "Pipeline(memory=None,\n",
       "         steps=[('tf1',\n",
       "                 ColumnTransformer(n_jobs=None, remainder='passthrough',\n",
       "                                   sparse_threshold=0.3,\n",
       "                                   transformer_weights=None,\n",
       "                                   transformers=[('cat',\n",
       "                                                  SimpleImputer(add_indicator=False,\n",
       "                                                                copy=True,\n",
       "                                                                fill_value=None,\n",
       "                                                                missing_values=nan,\n",
       "                                                                strategy='most_frequent',\n",
       "                                                                verbose=0),\n",
       "                                                  ['geography', 'gender',\n",
       "                                                   'numofproducts', 'hascrcard',\n",
       "                                                   'isactivemember',\n",
       "                                                   'zero_balanc...\n",
       "                ('model_random',\n",
       "                 RandomForestClassifier(bootstrap=True, class_weight=None,\n",
       "                                        criterion='gini', max_depth=None,\n",
       "                                        max_features='auto',\n",
       "                                        max_leaf_nodes=None,\n",
       "                                        min_impurity_decrease=0.0,\n",
       "                                        min_impurity_split=None,\n",
       "                                        min_samples_leaf=1, min_samples_split=2,\n",
       "                                        min_weight_fraction_leaf=0.0,\n",
       "                                        n_estimators=10, n_jobs=None,\n",
       "                                        oob_score=False, random_state=0,\n",
       "                                        verbose=0, warm_start=False))],\n",
       "         verbose=False)"
      ]
     },
     "execution_count": 87,
     "metadata": {},
     "output_type": "execute_result"
    }
   ],
   "source": [
    "pipe_random.fit(x_train, y_train)"
   ]
  },
  {
   "cell_type": "markdown",
   "metadata": {},
   "source": [
    "f1_score всего 0,54 - не так далеко от 0,59. Оптимизируем за счет подбора гиперпараметров"
   ]
  },
  {
   "cell_type": "code",
   "execution_count": 88,
   "metadata": {},
   "outputs": [
    {
     "data": {
      "text/plain": [
       "0.5443499392466585"
      ]
     },
     "execution_count": 88,
     "metadata": {},
     "output_type": "execute_result"
    }
   ],
   "source": [
    "f1_score(y_test, pipe_random.predict(x_test))"
   ]
  },
  {
   "cell_type": "code",
   "execution_count": 89,
   "metadata": {},
   "outputs": [],
   "source": [
    "pipe_random_params= {'model_random__n_estimators':range(1,11),\n",
    "                     'model_random__max_depth':range(1,11),\n",
    "                     'model_random__min_samples_split':range(2, 22),\n",
    "                     'model_random__min_samples_leaf':range(1,20),\n",
    "                     'model_random__max_features':range(1, 12),\n",
    "                     'model_random__bootstrap':[True, False],\n",
    "                     'model_random__class_weight': [None, 'balanced'],\n",
    "                     'model_random__criterion':['gini', 'entropy']\n",
    "                    }"
   ]
  },
  {
   "cell_type": "code",
   "execution_count": 90,
   "metadata": {},
   "outputs": [],
   "source": [
    "prs_random = RandomizedSearchCV(pipe_random, pipe_random_params, cv = 5, n_iter = 500, scoring = 'f1')"
   ]
  },
  {
   "cell_type": "code",
   "execution_count": 91,
   "metadata": {
    "scrolled": true
   },
   "outputs": [
    {
     "data": {
      "text/plain": [
       "RandomizedSearchCV(cv=5, error_score='raise-deprecating',\n",
       "                   estimator=Pipeline(memory=None,\n",
       "                                      steps=[('tf1',\n",
       "                                              ColumnTransformer(n_jobs=None,\n",
       "                                                                remainder='passthrough',\n",
       "                                                                sparse_threshold=0.3,\n",
       "                                                                transformer_weights=None,\n",
       "                                                                transformers=[('cat',\n",
       "                                                                               SimpleImputer(add_indicator=False,\n",
       "                                                                                             copy=True,\n",
       "                                                                                             fill_value=None,\n",
       "                                                                                             missing_values=nan,\n",
       "                                                                                             strategy='most_frequent',\n",
       "                                                                                             verbose=0),\n",
       "                                                                               ['geography',...\n",
       "                                        'model_random__criterion': ['gini',\n",
       "                                                                    'entropy'],\n",
       "                                        'model_random__max_depth': range(1, 11),\n",
       "                                        'model_random__max_features': range(1, 12),\n",
       "                                        'model_random__min_samples_leaf': range(1, 20),\n",
       "                                        'model_random__min_samples_split': range(2, 22),\n",
       "                                        'model_random__n_estimators': range(1, 11)},\n",
       "                   pre_dispatch='2*n_jobs', random_state=None, refit=True,\n",
       "                   return_train_score=False, scoring='f1', verbose=0)"
      ]
     },
     "execution_count": 91,
     "metadata": {},
     "output_type": "execute_result"
    }
   ],
   "source": [
    "prs_random.fit(x_train, y_train)"
   ]
  },
  {
   "cell_type": "code",
   "execution_count": 92,
   "metadata": {},
   "outputs": [
    {
     "data": {
      "text/plain": [
       "0.6187323607723041"
      ]
     },
     "execution_count": 92,
     "metadata": {},
     "output_type": "execute_result"
    }
   ],
   "source": [
    "prs_random.best_score_"
   ]
  },
  {
   "cell_type": "code",
   "execution_count": 93,
   "metadata": {},
   "outputs": [
    {
     "data": {
      "text/plain": [
       "{'model_random__n_estimators': 9,\n",
       " 'model_random__min_samples_split': 14,\n",
       " 'model_random__min_samples_leaf': 12,\n",
       " 'model_random__max_features': 11,\n",
       " 'model_random__max_depth': 9,\n",
       " 'model_random__criterion': 'entropy',\n",
       " 'model_random__class_weight': 'balanced',\n",
       " 'model_random__bootstrap': True}"
      ]
     },
     "execution_count": 93,
     "metadata": {},
     "output_type": "execute_result"
    }
   ],
   "source": [
    "prs_random.best_params_"
   ]
  },
  {
   "cell_type": "markdown",
   "metadata": {},
   "source": [
    "После 50 итераций наилучшее рандомные параметры:\n",
    "\n",
    "- n_estimators: 8,\n",
    "- min_samples_split: 5,\n",
    "- min_samples_leaf : 12,\n",
    "- max_features: 11,\n",
    "- max_depth: 9,\n",
    "- criterion: entropy,\n",
    "- class_weight: balanced\n",
    "- bootstrap: True\n",
    "\n",
    "Следует отметить, что наиболее редкому классу передан больший вес с помощью параметра `class_weight`.\n",
    "F1_score равен 0,61 что выше требуемого значения в поставленной задаче"
   ]
  },
  {
   "cell_type": "markdown",
   "metadata": {},
   "source": [
    "Зафиксируем модель"
   ]
  },
  {
   "cell_type": "code",
   "execution_count": 94,
   "metadata": {},
   "outputs": [],
   "source": [
    "pipe_random = Pipeline(steps =[\n",
    "    ('tf1', trf1),\n",
    "    ('tf2', trf2),\n",
    "    ('tf3', StandardScaler()),\n",
    "    ('model_random', RandomForestClassifier(random_state = 0,\n",
    "                                           n_estimators = 8,\n",
    "                                           min_samples_split = 5,\n",
    "                                           min_samples_leaf = 12,\n",
    "                                           max_features = 11,\n",
    "                                           max_depth = 9,\n",
    "                                           criterion = 'entropy',\n",
    "                                           class_weight = 'balanced',\n",
    "                                           bootstrap = True)),\n",
    "])"
   ]
  },
  {
   "cell_type": "code",
   "execution_count": 95,
   "metadata": {
    "scrolled": true
   },
   "outputs": [
    {
     "data": {
      "text/plain": [
       "Pipeline(memory=None,\n",
       "         steps=[('tf1',\n",
       "                 ColumnTransformer(n_jobs=None, remainder='passthrough',\n",
       "                                   sparse_threshold=0.3,\n",
       "                                   transformer_weights=None,\n",
       "                                   transformers=[('cat',\n",
       "                                                  SimpleImputer(add_indicator=False,\n",
       "                                                                copy=True,\n",
       "                                                                fill_value=None,\n",
       "                                                                missing_values=nan,\n",
       "                                                                strategy='most_frequent',\n",
       "                                                                verbose=0),\n",
       "                                                  ['geography', 'gender',\n",
       "                                                   'numofproducts', 'hascrcard',\n",
       "                                                   'isactivemember',\n",
       "                                                   'zero_balanc...\n",
       "                 RandomForestClassifier(bootstrap=True, class_weight='balanced',\n",
       "                                        criterion='entropy', max_depth=9,\n",
       "                                        max_features=11, max_leaf_nodes=None,\n",
       "                                        min_impurity_decrease=0.0,\n",
       "                                        min_impurity_split=None,\n",
       "                                        min_samples_leaf=12,\n",
       "                                        min_samples_split=5,\n",
       "                                        min_weight_fraction_leaf=0.0,\n",
       "                                        n_estimators=8, n_jobs=None,\n",
       "                                        oob_score=False, random_state=0,\n",
       "                                        verbose=0, warm_start=False))],\n",
       "         verbose=False)"
      ]
     },
     "execution_count": 95,
     "metadata": {},
     "output_type": "execute_result"
    }
   ],
   "source": [
    "pipe_random.fit(x_train, y_train)"
   ]
  },
  {
   "cell_type": "markdown",
   "metadata": {},
   "source": [
    "Посмотрим как ведет себя  случайный лес на сбалансированной выборке"
   ]
  },
  {
   "cell_type": "code",
   "execution_count": 96,
   "metadata": {},
   "outputs": [],
   "source": [
    "pipe_random_upsampled = Pipeline(steps =[\n",
    "    ('tf1', trf1),\n",
    "    ('tf2', trf2),\n",
    "    ('tf3', StandardScaler()),\n",
    "    ('model_random', RandomForestClassifier(random_state = 0,\n",
    "                                           n_estimators = 8,\n",
    "                                           min_samples_split = 5,\n",
    "                                           min_samples_leaf = 12,\n",
    "                                           max_features = 11,\n",
    "                                           max_depth = 9,\n",
    "                                           criterion = 'entropy',\n",
    "                                           class_weight = 'balanced',\n",
    "                                           bootstrap = True)),\n",
    "])"
   ]
  },
  {
   "cell_type": "code",
   "execution_count": 97,
   "metadata": {
    "scrolled": false
   },
   "outputs": [
    {
     "data": {
      "text/plain": [
       "Pipeline(memory=None,\n",
       "         steps=[('tf1',\n",
       "                 ColumnTransformer(n_jobs=None, remainder='passthrough',\n",
       "                                   sparse_threshold=0.3,\n",
       "                                   transformer_weights=None,\n",
       "                                   transformers=[('cat',\n",
       "                                                  SimpleImputer(add_indicator=False,\n",
       "                                                                copy=True,\n",
       "                                                                fill_value=None,\n",
       "                                                                missing_values=nan,\n",
       "                                                                strategy='most_frequent',\n",
       "                                                                verbose=0),\n",
       "                                                  ['geography', 'gender',\n",
       "                                                   'numofproducts', 'hascrcard',\n",
       "                                                   'isactivemember',\n",
       "                                                   'zero_balanc...\n",
       "                 RandomForestClassifier(bootstrap=True, class_weight='balanced',\n",
       "                                        criterion='entropy', max_depth=9,\n",
       "                                        max_features=11, max_leaf_nodes=None,\n",
       "                                        min_impurity_decrease=0.0,\n",
       "                                        min_impurity_split=None,\n",
       "                                        min_samples_leaf=12,\n",
       "                                        min_samples_split=5,\n",
       "                                        min_weight_fraction_leaf=0.0,\n",
       "                                        n_estimators=8, n_jobs=None,\n",
       "                                        oob_score=False, random_state=0,\n",
       "                                        verbose=0, warm_start=False))],\n",
       "         verbose=False)"
      ]
     },
     "execution_count": 97,
     "metadata": {},
     "output_type": "execute_result"
    }
   ],
   "source": [
    "pipe_random_upsampled.fit(x_upsampled, y_upsampled)"
   ]
  },
  {
   "cell_type": "code",
   "execution_count": 98,
   "metadata": {},
   "outputs": [
    {
     "data": {
      "text/plain": [
       "0.6883590462833099"
      ]
     },
     "execution_count": 98,
     "metadata": {},
     "output_type": "execute_result"
    }
   ],
   "source": [
    "f1_score(y_train, pipe_random.predict(x_train))"
   ]
  },
  {
   "cell_type": "code",
   "execution_count": 99,
   "metadata": {},
   "outputs": [
    {
     "data": {
      "text/plain": [
       "0.8485851398312096"
      ]
     },
     "execution_count": 99,
     "metadata": {},
     "output_type": "execute_result"
    }
   ],
   "source": [
    "f1_score(y_upsampled, pipe_random_upsampled.predict(x_upsampled))"
   ]
  },
  {
   "cell_type": "code",
   "execution_count": 100,
   "metadata": {},
   "outputs": [
    {
     "data": {
      "text/plain": [
       "0.6024518388791594"
      ]
     },
     "execution_count": 100,
     "metadata": {},
     "output_type": "execute_result"
    }
   ],
   "source": [
    "f1_score(y_test, pipe_random.predict(x_test))"
   ]
  },
  {
   "cell_type": "code",
   "execution_count": 101,
   "metadata": {
    "scrolled": true
   },
   "outputs": [
    {
     "data": {
      "text/plain": [
       "0.5906821963394343"
      ]
     },
     "execution_count": 101,
     "metadata": {},
     "output_type": "execute_result"
    }
   ],
   "source": [
    "f1_score(y_test, pipe_random_upsampled.predict(x_test))"
   ]
  },
  {
   "cell_type": "markdown",
   "metadata": {},
   "source": [
    "Значение F1 на трейне получилось намного выше (0.8485851398312096), чем без Upsampling (0.6883590462833099), на тесте дало значение немного хуже. Посмотрим, что даст downsampling"
   ]
  },
  {
   "cell_type": "code",
   "execution_count": 102,
   "metadata": {},
   "outputs": [],
   "source": [
    "pipe_random_downsampled = Pipeline(steps =[\n",
    "    ('tf1', trf1),\n",
    "    ('tf2', trf2),\n",
    "    ('tf3', StandardScaler()),\n",
    "    ('model_random', RandomForestClassifier(random_state = 0,\n",
    "                                           n_estimators = 8,\n",
    "                                           min_samples_split = 5,\n",
    "                                           min_samples_leaf = 12,\n",
    "                                           max_features = 11,\n",
    "                                           max_depth = 9,\n",
    "                                           criterion = 'entropy',\n",
    "                                           class_weight = 'balanced',\n",
    "                                           bootstrap = True)),\n",
    "])"
   ]
  },
  {
   "cell_type": "code",
   "execution_count": 103,
   "metadata": {
    "scrolled": true
   },
   "outputs": [
    {
     "data": {
      "text/plain": [
       "Pipeline(memory=None,\n",
       "         steps=[('tf1',\n",
       "                 ColumnTransformer(n_jobs=None, remainder='passthrough',\n",
       "                                   sparse_threshold=0.3,\n",
       "                                   transformer_weights=None,\n",
       "                                   transformers=[('cat',\n",
       "                                                  SimpleImputer(add_indicator=False,\n",
       "                                                                copy=True,\n",
       "                                                                fill_value=None,\n",
       "                                                                missing_values=nan,\n",
       "                                                                strategy='most_frequent',\n",
       "                                                                verbose=0),\n",
       "                                                  ['geography', 'gender',\n",
       "                                                   'numofproducts', 'hascrcard',\n",
       "                                                   'isactivemember',\n",
       "                                                   'zero_balanc...\n",
       "                 RandomForestClassifier(bootstrap=True, class_weight='balanced',\n",
       "                                        criterion='entropy', max_depth=9,\n",
       "                                        max_features=11, max_leaf_nodes=None,\n",
       "                                        min_impurity_decrease=0.0,\n",
       "                                        min_impurity_split=None,\n",
       "                                        min_samples_leaf=12,\n",
       "                                        min_samples_split=5,\n",
       "                                        min_weight_fraction_leaf=0.0,\n",
       "                                        n_estimators=8, n_jobs=None,\n",
       "                                        oob_score=False, random_state=0,\n",
       "                                        verbose=0, warm_start=False))],\n",
       "         verbose=False)"
      ]
     },
     "execution_count": 103,
     "metadata": {},
     "output_type": "execute_result"
    }
   ],
   "source": [
    "pipe_random_downsampled.fit(x_downsampled, y_downsampled)"
   ]
  },
  {
   "cell_type": "code",
   "execution_count": 104,
   "metadata": {},
   "outputs": [
    {
     "data": {
      "text/plain": [
       "0.6883590462833099"
      ]
     },
     "execution_count": 104,
     "metadata": {},
     "output_type": "execute_result"
    }
   ],
   "source": [
    "f1_score(y_train, pipe_random.predict(x_train))"
   ]
  },
  {
   "cell_type": "code",
   "execution_count": 105,
   "metadata": {},
   "outputs": [
    {
     "data": {
      "text/plain": [
       "0.8197267577474174"
      ]
     },
     "execution_count": 105,
     "metadata": {},
     "output_type": "execute_result"
    }
   ],
   "source": [
    "f1_score(y_downsampled, pipe_random_downsampled.predict(x_downsampled))"
   ]
  },
  {
   "cell_type": "code",
   "execution_count": 106,
   "metadata": {},
   "outputs": [
    {
     "data": {
      "text/plain": [
       "0.6024518388791594"
      ]
     },
     "execution_count": 106,
     "metadata": {},
     "output_type": "execute_result"
    }
   ],
   "source": [
    "f1_score(y_test, pipe_random.predict(x_test))"
   ]
  },
  {
   "cell_type": "code",
   "execution_count": 107,
   "metadata": {},
   "outputs": [
    {
     "data": {
      "text/plain": [
       "0.5822981366459626"
      ]
     },
     "execution_count": 107,
     "metadata": {},
     "output_type": "execute_result"
    }
   ],
   "source": [
    "f1_score(y_test, pipe_random_downsampled.predict(x_test))"
   ]
  },
  {
   "cell_type": "markdown",
   "metadata": {},
   "source": [
    "Значение F1 на трейне получилось намного выше (0.8197267577474174), чем без Downsampling (0.6883590462833099), на тесте дало значение немного хуже"
   ]
  },
  {
   "cell_type": "markdown",
   "metadata": {},
   "source": [
    "Изучим как ведет себя метрика Roc_auc для Случайного леса"
   ]
  },
  {
   "cell_type": "code",
   "execution_count": 108,
   "metadata": {},
   "outputs": [],
   "source": [
    "probabilities_one_random= pipe_random.predict_proba(x_test)[:, 1]"
   ]
  },
  {
   "cell_type": "code",
   "execution_count": 109,
   "metadata": {
    "scrolled": false
   },
   "outputs": [
    {
     "name": "stdout",
     "output_type": "stream",
     "text": [
      "RandomForestClassifier: ROC AUC=0.845\n"
     ]
    }
   ],
   "source": [
    "auc_random = roc_auc_score(y_test, probabilities_one_random)\n",
    "print('RandomForestClassifier: ROC AUC=%.3f' % (auc_random))"
   ]
  },
  {
   "cell_type": "markdown",
   "metadata": {},
   "source": [
    "Значение 0.845 наибольшее из 3 моделей"
   ]
  },
  {
   "cell_type": "code",
   "execution_count": 110,
   "metadata": {},
   "outputs": [],
   "source": [
    "fpr_random, tpr_random, treshold_random = roc_curve(y_test, probabilities_one_random)"
   ]
  },
  {
   "cell_type": "code",
   "execution_count": 111,
   "metadata": {
    "scrolled": true
   },
   "outputs": [
    {
     "data": {
      "image/png": "[encoded data removed]",
      "text/plain": [
       "<Figure size 432x288 with 1 Axes>"
      ]
     },
     "metadata": {
      "needs_background": "light"
     },
     "output_type": "display_data"
    }
   ],
   "source": [
    "plt.plot(fpr_random, tpr_random, color='darkorange',\n",
    "         label='ROC кривая леса (area = %0.2f)' % auc_random)\n",
    "plt.plot([0, 1], [0, 1], color='navy', linestyle='--')\n",
    "plt.xlim([0.0, 1.0])\n",
    "plt.ylim([0.0, 1.05])\n",
    "plt.xlabel('False Positive Rate')\n",
    "plt.ylabel('True Positive Rate')\n",
    "plt.title('ROC-кривая случайного леса')\n",
    "plt.legend(loc=\"lower right\")\n",
    "plt.show()"
   ]
  },
  {
   "cell_type": "markdown",
   "metadata": {},
   "source": [
    "## Общий вывод"
   ]
  },
  {
   "cell_type": "markdown",
   "metadata": {},
   "source": [
    "Построим сводную таблицу по моделям"
   ]
  },
  {
   "cell_type": "code",
   "execution_count": 112,
   "metadata": {},
   "outputs": [],
   "source": [
    "col_sum = ['f1_score на модели без оптимизации', 'f1_score на модели с подбором гиперпараметров', 'roc_auc_score']"
   ]
  },
  {
   "cell_type": "code",
   "execution_count": 113,
   "metadata": {},
   "outputs": [],
   "source": [
    "dt = {'Логистическая регрессия':[0.31, 0.49, 0.77],\n",
    "        'Дерево решений': [0.50, 0.58, 0.81],\n",
    "        'Случайный лес': [0.54, 0.61, 0.85]}"
   ]
  },
  {
   "cell_type": "code",
   "execution_count": 114,
   "metadata": {
    "scrolled": true
   },
   "outputs": [
    {
     "data": {
      "text/html": [
       "<div>\n",
       "<style scoped>\n",
       "    .dataframe tbody tr th:only-of-type {\n",
       "        vertical-align: middle;\n",
       "    }\n",
       "\n",
       "    .dataframe tbody tr th {\n",
       "        vertical-align: top;\n",
       "    }\n",
       "\n",
       "    .dataframe thead th {\n",
       "        text-align: right;\n",
       "    }\n",
       "</style>\n",
       "<table border=\"1\" class=\"dataframe\">\n",
       "  <thead>\n",
       "    <tr style=\"text-align: right;\">\n",
       "      <th></th>\n",
       "      <th>f1_score на модели без оптимизации</th>\n",
       "      <th>f1_score на модели с подбором гиперпараметров</th>\n",
       "      <th>roc_auc_score</th>\n",
       "    </tr>\n",
       "  </thead>\n",
       "  <tbody>\n",
       "    <tr>\n",
       "      <td>Логистическая регрессия</td>\n",
       "      <td>0.31</td>\n",
       "      <td>0.49</td>\n",
       "      <td>0.77</td>\n",
       "    </tr>\n",
       "    <tr>\n",
       "      <td>Дерево решений</td>\n",
       "      <td>0.50</td>\n",
       "      <td>0.58</td>\n",
       "      <td>0.81</td>\n",
       "    </tr>\n",
       "    <tr>\n",
       "      <td>Случайный лес</td>\n",
       "      <td>0.54</td>\n",
       "      <td>0.61</td>\n",
       "      <td>0.85</td>\n",
       "    </tr>\n",
       "  </tbody>\n",
       "</table>\n",
       "</div>"
      ],
      "text/plain": [
       "                         f1_score на модели без оптимизации  \\\n",
       "Логистическая регрессия                                0.31   \n",
       "Дерево решений                                         0.50   \n",
       "Случайный лес                                          0.54   \n",
       "\n",
       "                         f1_score на модели с подбором гиперпараметров  \\\n",
       "Логистическая регрессия                                           0.49   \n",
       "Дерево решений                                                    0.58   \n",
       "Случайный лес                                                     0.61   \n",
       "\n",
       "                         roc_auc_score  \n",
       "Логистическая регрессия           0.77  \n",
       "Дерево решений                    0.81  \n",
       "Случайный лес                     0.85  "
      ]
     },
     "execution_count": 114,
     "metadata": {},
     "output_type": "execute_result"
    }
   ],
   "source": [
    "summary = pd.DataFrame.from_dict(data = dt, orient='index', columns = col_sum)\n",
    "summary"
   ]
  },
  {
   "cell_type": "code",
   "execution_count": 115,
   "metadata": {},
   "outputs": [
    {
     "data": {
      "image/png": "[encoded data removed]",
      "text/plain": [
       "<Figure size 432x288 with 1 Axes>"
      ]
     },
     "metadata": {
      "needs_background": "light"
     },
     "output_type": "display_data"
    }
   ],
   "source": [
    "plt.plot(fpr_random, tpr_random,\n",
    "         label='ROC кривая леса (area = %0.2f)' % auc_random)\n",
    "plt.plot(fpr_tree, tpr_tree,\n",
    "         label='ROC кривая дерева (area = %0.2f)' % auc_tree)\n",
    "plt.plot(fpr_logreg, tpr_logreg,\n",
    "         label='ROC кривая лог_рег(area = %0.2f)' % auc_logreg)\n",
    "plt.plot([0, 1], [0, 1], color='navy', linestyle='--')\n",
    "plt.xlim([0.0, 1.0])\n",
    "plt.ylim([0.0, 1.05])\n",
    "plt.xlabel('False Positive Rate')\n",
    "plt.ylabel('True Positive Rate')\n",
    "plt.title('ROC-кривые моделей')\n",
    "plt.legend(loc=\"lower right\")\n",
    "plt.show()"
   ]
  },
  {
   "cell_type": "markdown",
   "metadata": {
    "scrolled": false
   },
   "source": [
    "Исходя из полученных данных, наилучшей моделью следует считать Случайный лес с f1_score 0.61 и roc_auc 0.85"
   ]
  },
  {
   "cell_type": "markdown",
   "metadata": {},
   "source": [
    "<a id = 'section3'></a>\n",
    "# Тестирование модели"
   ]
  },
  {
   "cell_type": "markdown",
   "metadata": {},
   "source": [
    "Проверим метрики построенных моделей на тестовой выборке"
   ]
  },
  {
   "cell_type": "code",
   "execution_count": 116,
   "metadata": {},
   "outputs": [
    {
     "data": {
      "text/plain": [
       "0.49794238683127573"
      ]
     },
     "execution_count": 116,
     "metadata": {},
     "output_type": "execute_result"
    }
   ],
   "source": [
    "f1_score(y_test, pipe_logreg.predict(x_test))"
   ]
  },
  {
   "cell_type": "code",
   "execution_count": 117,
   "metadata": {},
   "outputs": [
    {
     "data": {
      "text/plain": [
       "0.5672609400324149"
      ]
     },
     "execution_count": 117,
     "metadata": {},
     "output_type": "execute_result"
    }
   ],
   "source": [
    "f1_score(y_test, pipe_tree_upsampled.predict(x_test))"
   ]
  },
  {
   "cell_type": "code",
   "execution_count": 118,
   "metadata": {},
   "outputs": [
    {
     "data": {
      "text/plain": [
       "0.6024518388791594"
      ]
     },
     "execution_count": 118,
     "metadata": {},
     "output_type": "execute_result"
    }
   ],
   "source": [
    "f1_score(y_test, pipe_random.predict(x_test))"
   ]
  },
  {
   "cell_type": "markdown",
   "metadata": {},
   "source": [
    "По прежнему наилучшей моделью является случйный лес с f1_score 0.60 b auc_score 0.85"
   ]
  },
  {
   "cell_type": "markdown",
   "metadata": {},
   "source": [
    "## Общий вывод: \n",
    "Наилучшая модель классификации среди опробаванных опять стал случайны лес с f1_score 0.60 и auc_score 0.85. Так как в проекте была использована кросс валидация, конкертно в данной работе дизбаланс класса не сильно повлиял на целевые метрики. В ходе работы были применены методы борьбы с дисбалансом такие как предания более значимого веса более редкому классу (class_weight = 'balanced'). Опробованы методы upsampling  и downsampling, если мной не было допущено критических ошибок, то во моем случаи данные методы увеличивают значение целевой метрики на трейне, но на тесте не сильно увеличивают целевую метрику, порой и наоборот. Модели обучены с помощью pipline, что сильно упростило подготовку данных и обучение моделей."
   ]
  },
  {
   "cell_type": "code",
   "execution_count": null,
   "metadata": {},
   "outputs": [],
   "source": []
  }
 ],
 "metadata": {
  "ExecuteTimeLog": [
   {
    "duration": 1568,
    "start_time": "2021-07-17T12:42:16.671Z"
   },
   {
    "duration": 106,
    "start_time": "2021-07-17T12:42:18.242Z"
   },
   {
    "duration": 4,
    "start_time": "2021-07-17T12:42:18.352Z"
   },
   {
    "duration": 41,
    "start_time": "2021-07-17T12:42:18.360Z"
   },
   {
    "duration": 24,
    "start_time": "2021-07-17T12:42:18.403Z"
   },
   {
    "duration": 13,
    "start_time": "2021-07-17T12:42:18.429Z"
   },
   {
    "duration": 24,
    "start_time": "2021-07-17T12:42:18.444Z"
   },
   {
    "duration": 9,
    "start_time": "2021-07-17T12:42:18.485Z"
   },
   {
    "duration": 13,
    "start_time": "2021-07-17T12:42:18.496Z"
   },
   {
    "duration": 75,
    "start_time": "2021-07-17T12:42:18.511Z"
   },
   {
    "duration": 10,
    "start_time": "2021-07-17T12:42:18.588Z"
   },
   {
    "duration": 12,
    "start_time": "2021-07-17T12:42:18.600Z"
   },
   {
    "duration": 17,
    "start_time": "2021-07-17T12:42:18.615Z"
   },
   {
    "duration": 21,
    "start_time": "2021-07-17T12:42:18.634Z"
   },
   {
    "duration": 31,
    "start_time": "2021-07-17T12:42:18.657Z"
   },
   {
    "duration": 17,
    "start_time": "2021-07-17T12:42:18.691Z"
   },
   {
    "duration": 8,
    "start_time": "2021-07-17T12:42:18.711Z"
   },
   {
    "duration": 22,
    "start_time": "2021-07-17T12:42:18.721Z"
   },
   {
    "duration": 14,
    "start_time": "2021-07-17T12:42:18.746Z"
   },
   {
    "duration": 70,
    "start_time": "2021-07-17T12:42:18.783Z"
   },
   {
    "duration": 37,
    "start_time": "2021-07-17T12:42:18.855Z"
   },
   {
    "duration": 25,
    "start_time": "2021-07-17T12:42:18.894Z"
   },
   {
    "duration": 3,
    "start_time": "2021-07-17T12:42:18.925Z"
   },
   {
    "duration": 226,
    "start_time": "2021-07-17T12:42:18.931Z"
   },
   {
    "duration": 990,
    "start_time": "2021-07-17T12:42:19.160Z"
   },
   {
    "duration": 4,
    "start_time": "2021-07-17T12:42:20.152Z"
   },
   {
    "duration": 143,
    "start_time": "2021-07-17T12:42:20.159Z"
   },
   {
    "duration": 83,
    "start_time": "2021-07-17T12:42:20.305Z"
   },
   {
    "duration": 95,
    "start_time": "2021-07-17T12:42:20.392Z"
   },
   {
    "duration": 20,
    "start_time": "2021-07-17T12:42:20.489Z"
   },
   {
    "duration": 896775,
    "start_time": "2021-07-17T12:42:20.511Z"
   },
   {
    "duration": 5,
    "start_time": "2021-07-17T12:57:17.288Z"
   },
   {
    "duration": 9,
    "start_time": "2021-07-17T12:57:17.296Z"
   },
   {
    "duration": 8,
    "start_time": "2021-07-17T12:57:17.307Z"
   },
   {
    "duration": 924,
    "start_time": "2021-07-17T12:57:17.317Z"
   },
   {
    "duration": 41,
    "start_time": "2021-07-17T12:57:18.244Z"
   },
   {
    "duration": 96,
    "start_time": "2021-07-17T12:57:18.288Z"
   },
   {
    "duration": 112,
    "start_time": "2021-07-17T12:57:18.387Z"
   },
   {
    "duration": 5,
    "start_time": "2021-07-17T12:57:18.502Z"
   },
   {
    "duration": 9,
    "start_time": "2021-07-17T12:57:18.509Z"
   },
   {
    "duration": 708,
    "start_time": "2021-07-17T12:57:18.520Z"
   },
   {
    "duration": 55,
    "start_time": "2021-07-17T12:57:19.230Z"
   },
   {
    "duration": 197,
    "start_time": "2021-07-17T12:57:19.288Z"
   },
   {
    "duration": 113,
    "start_time": "2021-07-17T12:57:19.488Z"
   },
   {
    "duration": 199,
    "start_time": "2021-07-17T12:57:19.684Z"
   },
   {
    "duration": 96,
    "start_time": "2021-07-17T12:57:19.887Z"
   },
   {
    "duration": 25,
    "start_time": "2021-07-17T12:57:19.986Z"
   },
   {
    "duration": 6,
    "start_time": "2021-07-17T12:57:20.014Z"
   },
   {
    "duration": 11,
    "start_time": "2021-07-17T12:57:20.023Z"
   },
   {
    "duration": 6,
    "start_time": "2021-07-17T12:57:20.036Z"
   },
   {
    "duration": 217,
    "start_time": "2021-07-17T12:57:20.044Z"
   },
   {
    "duration": 38,
    "start_time": "2021-07-17T12:57:20.263Z"
   },
   {
    "duration": 190,
    "start_time": "2021-07-17T12:57:20.304Z"
   },
   {
    "duration": 198,
    "start_time": "2021-07-17T12:57:20.496Z"
   },
   {
    "duration": 199,
    "start_time": "2021-07-17T12:57:20.697Z"
   },
   {
    "duration": 110,
    "start_time": "2021-07-17T12:57:20.984Z"
   },
   {
    "duration": 87,
    "start_time": "2021-07-17T12:57:21.097Z"
   },
   {
    "duration": 96,
    "start_time": "2021-07-17T12:57:21.188Z"
   },
   {
    "duration": 299,
    "start_time": "2021-07-17T12:57:21.287Z"
   },
   {
    "duration": 5,
    "start_time": "2021-07-17T12:57:21.588Z"
   },
   {
    "duration": 163,
    "start_time": "2021-07-17T12:57:21.595Z"
   },
   {
    "duration": 30,
    "start_time": "2021-07-17T12:57:21.761Z"
   },
   {
    "duration": 4,
    "start_time": "2021-07-17T12:57:21.794Z"
   },
   {
    "duration": 7,
    "start_time": "2021-07-17T12:57:21.800Z"
   },
   {
    "duration": 219946,
    "start_time": "2021-07-17T12:57:21.809Z"
   },
   {
    "duration": 6,
    "start_time": "2021-07-17T13:01:01.758Z"
   },
   {
    "duration": 20,
    "start_time": "2021-07-17T13:01:01.766Z"
   },
   {
    "duration": 5,
    "start_time": "2021-07-17T13:01:01.795Z"
   },
   {
    "duration": 157,
    "start_time": "2021-07-17T13:01:01.804Z"
   },
   {
    "duration": 4,
    "start_time": "2021-07-17T13:01:01.964Z"
   },
   {
    "duration": 225,
    "start_time": "2021-07-17T13:01:01.983Z"
   },
   {
    "duration": 33,
    "start_time": "2021-07-17T13:01:02.211Z"
   },
   {
    "duration": 67,
    "start_time": "2021-07-17T13:01:02.246Z"
   },
   {
    "duration": 20,
    "start_time": "2021-07-17T13:01:02.315Z"
   },
   {
    "duration": 19,
    "start_time": "2021-07-17T13:01:02.338Z"
   },
   {
    "duration": 20,
    "start_time": "2021-07-17T13:01:02.365Z"
   },
   {
    "duration": 77,
    "start_time": "2021-07-17T13:01:02.388Z"
   },
   {
    "duration": 40,
    "start_time": "2021-07-17T13:01:02.468Z"
   },
   {
    "duration": 21,
    "start_time": "2021-07-17T13:01:02.510Z"
   },
   {
    "duration": 26,
    "start_time": "2021-07-17T13:01:02.533Z"
   },
   {
    "duration": 22,
    "start_time": "2021-07-17T13:01:02.583Z"
   },
   {
    "duration": 18,
    "start_time": "2021-07-17T13:01:02.608Z"
   },
   {
    "duration": 14,
    "start_time": "2021-07-17T13:01:02.628Z"
   },
   {
    "duration": 37,
    "start_time": "2021-07-17T13:01:02.645Z"
   },
   {
    "duration": 288,
    "start_time": "2021-07-17T13:01:02.685Z"
   },
   {
    "duration": 8,
    "start_time": "2021-07-17T13:01:02.976Z"
   },
   {
    "duration": 220,
    "start_time": "2021-07-17T13:01:02.987Z"
   },
   {
    "duration": 27,
    "start_time": "2021-07-17T13:01:03.209Z"
   },
   {
    "duration": 5,
    "start_time": "2021-07-17T13:01:03.238Z"
   },
   {
    "duration": 7,
    "start_time": "2021-07-17T13:01:03.245Z"
   },
   {
    "duration": 319707,
    "start_time": "2021-07-17T13:01:03.254Z"
   },
   {
    "duration": 6,
    "start_time": "2021-07-17T13:06:22.964Z"
   },
   {
    "duration": 7,
    "start_time": "2021-07-17T13:06:22.983Z"
   },
   {
    "duration": 10,
    "start_time": "2021-07-17T13:06:22.993Z"
   },
   {
    "duration": 321,
    "start_time": "2021-07-17T13:06:23.006Z"
   },
   {
    "duration": 6,
    "start_time": "2021-07-17T13:06:23.330Z"
   },
   {
    "duration": 466,
    "start_time": "2021-07-17T13:06:23.339Z"
   },
   {
    "duration": 41,
    "start_time": "2021-07-17T13:06:23.808Z"
   },
   {
    "duration": 77,
    "start_time": "2021-07-17T13:06:23.851Z"
   },
   {
    "duration": 23,
    "start_time": "2021-07-17T13:06:23.931Z"
   },
   {
    "duration": 44,
    "start_time": "2021-07-17T13:06:23.957Z"
   },
   {
    "duration": 4,
    "start_time": "2021-07-17T13:06:24.004Z"
   },
   {
    "duration": 159,
    "start_time": "2021-07-17T13:06:24.011Z"
   },
   {
    "duration": 47,
    "start_time": "2021-07-17T13:06:24.172Z"
   },
   {
    "duration": 28,
    "start_time": "2021-07-17T13:06:24.221Z"
   },
   {
    "duration": 27,
    "start_time": "2021-07-17T13:06:24.283Z"
   },
   {
    "duration": 26,
    "start_time": "2021-07-17T13:06:24.313Z"
   },
   {
    "duration": 56,
    "start_time": "2021-07-17T13:06:24.342Z"
   },
   {
    "duration": 7,
    "start_time": "2021-07-17T13:06:24.400Z"
   },
   {
    "duration": 6,
    "start_time": "2021-07-17T13:06:24.409Z"
   },
   {
    "duration": 315,
    "start_time": "2021-07-17T13:06:24.417Z"
   },
   {
    "duration": 3,
    "start_time": "2021-07-17T13:06:24.735Z"
   },
   {
    "duration": 14,
    "start_time": "2021-07-17T13:06:24.741Z"
   },
   {
    "duration": 30,
    "start_time": "2021-07-17T13:06:24.757Z"
   },
   {
    "duration": 314,
    "start_time": "2021-07-17T13:06:24.789Z"
   },
   {
    "duration": 79,
    "start_time": "2021-07-17T13:06:25.106Z"
   },
   {
    "duration": 114,
    "start_time": "2021-07-17T13:06:25.188Z"
   },
   {
    "duration": 24,
    "start_time": "2021-07-17T13:06:25.305Z"
   }
  ],
  "kernelspec": {
   "display_name": "Python 3",
   "language": "python",
   "name": "python3"
  },
  "language_info": {
   "codemirror_mode": {
    "name": "ipython",
    "version": 3
   },
   "file_extension": ".py",
   "mimetype": "text/x-python",
   "name": "python",
   "nbconvert_exporter": "python",
   "pygments_lexer": "ipython3",
   "version": "3.7.8"
  },
  "toc": {
   "base_numbering": 1,
   "nav_menu": {},
   "number_sections": true,
   "sideBar": true,
   "skip_h1_title": false,
   "title_cell": "Table of Contents",
   "title_sidebar": "Contents",
   "toc_cell": false,
   "toc_position": {},
   "toc_section_display": true,
   "toc_window_display": false
  }
 },
 "nbformat": 4,
 "nbformat_minor": 2
}
